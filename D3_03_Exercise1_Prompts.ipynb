{
 "cells": [
  {
   "cell_type": "markdown",
   "id": "6c706772-7bbb-41a9-ab96-6480bc3ef2a3",
   "metadata": {
    "tags": []
   },
   "source": [
    "## Prompts Exercise\n",
    "\n",
    "**Task:** <br>\n",
    "Create a Python function that uses prompts and chat_llm internally to give travel ideas related to two variables:\n",
    "\n",
    "    * An Interest or Hobby\n",
    "    * A Budget\n",
    "    \n",
    "Remember that you should also decide on a system prompt. The end function will just be a nice wrapper on top of all the previous LangChain components we've discussed earlier."
   ]
  },
  {
   "cell_type": "markdown",
   "id": "34d0ecc5-a526-4a9b-933f-e7785f9401df",
   "metadata": {},
   "source": [
    "**It's your turn to code**"
   ]
  },
  {
   "cell_type": "code",
   "execution_count": null,
   "id": "6ad88d45-43ca-4d11-8a35-5570f11fd968",
   "metadata": {},
   "outputs": [],
   "source": [
    "# Get the necessary imports"
   ]
  },
  {
   "cell_type": "code",
   "execution_count": null,
   "id": "320be1cb-a639-460d-8472-fb6def536b19",
   "metadata": {},
   "outputs": [],
   "source": [
    "# Setup your model, tokenizer, pipeline and LangChain wrapper\n",
    "path_to_model = \"/leonardo_scratch/fast/EUHPC_D20_063/huggingface/models/Nous-Hermes-2-Mistral-7B-DPO\"\n",
    "\n",
    "\n"
   ]
  },
  {
   "cell_type": "code",
   "execution_count": null,
   "id": "df2fd2ad-66f9-4462-9436-5cc5e7ea2d7f",
   "metadata": {},
   "outputs": [],
   "source": [
    "def travel_idea(interest,budget):\n",
    "    '''\n",
    "    INPUTS:\n",
    "        interest: A str interest or hobby (e.g. scuba diving)\n",
    "        budget: A str budget (e.g. €10,000)\n",
    "    '''\n",
    "    pass"
   ]
  },
  {
   "cell_type": "code",
   "execution_count": null,
   "id": "f7e240b6-96cf-4163-ad19-90a44cf7ef24",
   "metadata": {},
   "outputs": [],
   "source": [
    "print(travel_idea('scuba diving','€10,000'))"
   ]
  }
 ],
 "metadata": {
  "kernelspec": {
   "display_name": "Python 3 (ipykernel)",
   "language": "python",
   "name": "python3"
  },
  "language_info": {
   "codemirror_mode": {
    "name": "ipython",
    "version": 3
   },
   "file_extension": ".py",
   "mimetype": "text/x-python",
   "name": "python",
   "nbconvert_exporter": "python",
   "pygments_lexer": "ipython3",
   "version": "3.11.13"
  }
 },
 "nbformat": 4,
 "nbformat_minor": 5
}
