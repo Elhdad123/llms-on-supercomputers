{
 "cells": [
  {
   "cell_type": "markdown",
   "id": "22138968-6bd1-4e21-9acc-50b8fa91b457",
   "metadata": {
    "tags": []
   },
   "source": [
    "## Prompts Exercise- Example Solution\n",
    "\n",
    "**Task:** <br>\n",
    "Create a Python function that uses prompts and chat_llm internally to give travel ideas related to two variables:\n",
    "\n",
    "    * An Interest or Hobby\n",
    "    * A Budget\n",
    "    \n",
    "Remember that you should also decide on a system prompt. The end function will just be a nice wrapper on top of all the previous LangChain components we've discussed earlier."
   ]
  },
  {
   "cell_type": "markdown",
   "id": "94594b36-e752-4930-99a0-08106916902a",
   "metadata": {},
   "source": [
    "```python\n",
    "def travel_idea(interest,budget):\n",
    "    '''\n",
    "    INPUTS:\n",
    "        interest: A str interest or hobby (e.g. scuba diving)\n",
    "        budget: A str budget (e.g. €10,000)\n",
    "    '''\n",
    "    pass\n",
    "```"
   ]
  },
  {
   "cell_type": "markdown",
   "id": "87ee4907-96cf-457d-9455-937db0ed9b72",
   "metadata": {},
   "source": [
    "**Example Solution**\n",
    "\n",
    "Keep in mind your solution may differ slightly, but as long as it works, that's ok!"
   ]
  },
  {
   "cell_type": "code",
   "execution_count": 1,
   "id": "ccab094b-f0a3-4748-967e-20a5f42f1ead",
   "metadata": {},
   "outputs": [],
   "source": [
    "from transformers import AutoTokenizer, AutoModelForCausalLM, pipeline\n",
    "from langchain_huggingface.llms import HuggingFacePipeline\n",
    "from langchain_huggingface import ChatHuggingFace\n",
    "from langchain.prompts import PromptTemplate\n",
    "from langchain.prompts.chat import SystemMessagePromptTemplate, HumanMessagePromptTemplate, ChatPromptTemplate, AIMessagePromptTemplate\n",
    "from langchain_core.messages import SystemMessage, HumanMessage, AIMessage"
   ]
  },
  {
   "cell_type": "code",
   "execution_count": 2,
   "id": "2a6efabf-6d26-428d-8d1c-5e6c24ff1581",
   "metadata": {},
   "outputs": [],
   "source": [
    "path_to_model = \"/leonardo_scratch/fast/EUHPC_D20_063/huggingface/models/Nous-Hermes-2-Mistral-7B-DPO\""
   ]
  },
  {
   "cell_type": "code",
   "execution_count": 3,
   "id": "81b809a4-1b3b-43a0-9ee4-48e1e3afcc95",
   "metadata": {},
   "outputs": [
    {
     "data": {
      "application/vnd.jupyter.widget-view+json": {
       "model_id": "0b052371f4cf41f8ab072f842a656ca0",
       "version_major": 2,
       "version_minor": 0
      },
      "text/plain": [
       "Loading checkpoint shards:   0%|          | 0/3 [00:00<?, ?it/s]"
      ]
     },
     "metadata": {},
     "output_type": "display_data"
    },
    {
     "name": "stderr",
     "output_type": "stream",
     "text": [
      "Device set to use cuda:0\n"
     ]
    }
   ],
   "source": [
    "tokenizer = AutoTokenizer.from_pretrained(path_to_model)\n",
    "\n",
    "model = AutoModelForCausalLM.from_pretrained(\n",
    "    path_to_model,\n",
    "    device_map=\"auto\",\n",
    "    local_files_only=True,  # Prevent any re-downloads\n",
    "    #trust_remote_code=True\n",
    ")\n",
    "\n",
    "text_pipeline = pipeline(\n",
    "    \"text-generation\",\n",
    "    model=model,\n",
    "    tokenizer=tokenizer,\n",
    "    return_full_text=False,\n",
    "    max_new_tokens=512,\n",
    "    do_sample=True,\n",
    "    temperature=0.7,\n",
    ")\n",
    "\n",
    "llm = HuggingFacePipeline(pipeline=text_pipeline)\n",
    "chat_llm = ChatHuggingFace(llm=llm)"
   ]
  },
  {
   "cell_type": "code",
   "execution_count": 4,
   "id": "fed8a49e-3d34-4d2c-bfd5-8b8f35afa6b3",
   "metadata": {},
   "outputs": [],
   "source": [
    "def travel_idea(interest,budget):\n",
    "    '''\n",
    "    INPUTS:\n",
    "        interest: A str interest or hobby (e.g. scuba diving)\n",
    "        budget: A str budget (e.g. €10,000)\n",
    "    '''\n",
    "    # System prompt\n",
    "    system_template=\"You are an AI Travel Agent that helps people plan trips about {interest} on a budget of {budget}\"\n",
    "    system_message_prompt = SystemMessagePromptTemplate.from_template(system_template)\n",
    "    # human prompt\n",
    "    human_template=\"{travel_help_request}\"\n",
    "    human_message_prompt = HumanMessagePromptTemplate.from_template(human_template)\n",
    "    # Combined prompt\n",
    "    chat_prompt = ChatPromptTemplate.from_messages([system_message_prompt, human_message_prompt])\n",
    "    # Format prompt\n",
    "    request = chat_prompt.format_prompt(interest=interest, budget=budget, travel_help_request=\"Please give me an example travel itinerary\").to_messages()\n",
    "    # Pass to LLM\n",
    "    \n",
    "    result = chat_llm.invoke(request)\n",
    "    return result.content"
   ]
  },
  {
   "cell_type": "code",
   "execution_count": 5,
   "id": "e96ce218-3b9e-4563-a1ab-071cff41d2f2",
   "metadata": {},
   "outputs": [
    {
     "name": "stdout",
     "output_type": "stream",
     "text": [
      "Of course! Here's a budget-friendly example scuba diving trip for 7 days in the Red Sea, Egypt:\n",
      "\n",
      "Day 1: Arrival in Hurghada, Egypt\n",
      "- Check into a budget-friendly hotel or hostel\n",
      "- Explore the city, visit local markets, and enjoy Egyptian cuisine\n",
      "\n",
      "Day 2-7: Liveaboard experience\n",
      "- Embark on a liveaboard trip, which typically includes meals, accommodations, and multiple scuba diving sessions per day\n",
      "- The Red Sea is known for its diverse marine life, clear waters, and world-class dive sites like Ras Mohammed, Brother Islands, and Daedalus Reef\n",
      "- You can find liveaboard trips that fit your budget, with prices ranging from €300-€800 per person for a 4-night trip\n",
      "\n",
      "Day 8: Departure from Hurghada\n",
      "- Check out from your hotel and head to the airport for your departure\n",
      "\n",
      "Remember, this itinerary is just an example, and you can adjust it according to your preferences and the availability of liveaboard trips. Be sure to book your trip in advance and plan for additional travel expenses, such as flights, diving gear, and travel insurance.\n"
     ]
    }
   ],
   "source": [
    "print(travel_idea('scuba diving','€10,000'))"
   ]
  },
  {
   "cell_type": "code",
   "execution_count": null,
   "id": "748da355-4537-4df7-be81-d7065034123f",
   "metadata": {},
   "outputs": [],
   "source": []
  }
 ],
 "metadata": {
  "kernelspec": {
   "display_name": "Python 3 (ipykernel)",
   "language": "python",
   "name": "python3"
  },
  "language_info": {
   "codemirror_mode": {
    "name": "ipython",
    "version": 3
   },
   "file_extension": ".py",
   "mimetype": "text/x-python",
   "name": "python",
   "nbconvert_exporter": "python",
   "pygments_lexer": "ipython3",
   "version": "3.11.13"
  }
 },
 "nbformat": 4,
 "nbformat_minor": 5
}
