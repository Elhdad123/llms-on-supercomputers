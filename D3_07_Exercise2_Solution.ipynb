{
 "cells": [
  {
   "cell_type": "markdown",
   "id": "728f1747-b8fc-4d31-96c2-047fc83c079d",
   "metadata": {},
   "source": [
    "##  Chains Exercise - Solution\n",
    "\n",
    "**Task:**<br>\n",
    "Fill out the function below that takes in a string input (email) that could be written in any language. The function will then detect the language, translate the email, and provide a summary.\n",
    "\n",
    "Fill out the function below using a Sequential Chain, the function should do the following:\n",
    "\n",
    "1. Detect the language the email is written in\n",
    "2. Translate the email from detected language to English\n",
    "3. Return a summary of the translated email\n",
    "\n",
    "Note: The Function should return a dictionary that contains all three of these outputs!"
   ]
  },
  {
   "cell_type": "markdown",
   "id": "1e10f522-2a0f-44c0-9e37-934639609bdf",
   "metadata": {},
   "source": [
    "**Email**"
   ]
  },
  {
   "cell_type": "code",
   "execution_count": 2,
   "id": "f5cec8e4-c2cf-4adc-b589-322cd45d8dfa",
   "metadata": {},
   "outputs": [],
   "source": [
    "spanish_email = (\"Asunto: Reporte de Problemas Técnicos - Funcionalidad del Panel SAAS\"\n",
    "                 \"Estimado Equipo de Soporte al Cliente,\"\n",
    "                 \"Espero que este mensaje les encuentre bien. Les escribo para informarles sobre un problema técnico que he encontrado mientras utilizo su producto de panel SAAS.\"\n",
    "                 \"Como cliente leal, aprecio el valor que su producto aporta a mi negocio, pero actualmente me enfrento a un desafío que requiere su experiencia.\"\n",
    "                 \"Me gustaría describir detalladamente el problema que estoy experimentando:\"\n",
    "                 \"1. Problema Gráfico: Al iniciar sesión en el panel SAAS, he notado que los gráficos y las tablas en la página principal del panel no se renderizan correctamente. Los puntos de datos aparecen distorsionados y algunos elementos se superponen, lo que dificulta la interpretación precisa de la información.\"\n",
    "                 \"2. Fallo en la Función de Exportación: Además, no he podido exportar informes y datos desde el panel. Cada vez que intento exportar un informe en formato CSV o PDF, recibo un mensaje de error que indica que la exportación ha fallado. Esta funcionalidad es crucial para compartir información con mi equipo y partes interesadas externas, por lo que es imperativo que se resuelva rápidamente.\"\n",
    "                 \"3. Lentitud en la Carga: Durante la última semana, he notado una disminución significativa en la velocidad de carga del panel SAAS. Las páginas tardan un tiempo inusualmente largo en cargarse, lo que afecta mi productividad y genera frustración. Tengo una conexión a internet confiable, por lo que creo que el problema radica en el panel mismo.\"\n",
    "                 \"Entiendo que los problemas técnicos pueden surgir de vez en cuando y aprecio su pronta atención a este asunto. Si requieren información adicional o ayuda de mi parte, no duden en contactarme. Espero su pronta respuesta y una pronta resolución a estos desafíos.\"\n",
    "                 \"Gracias por su comprensión y apoyo.\"\n",
    "                 \"Atentamente,\"\n",
    "                 \"María Rodríguez\"\n",
    "                 \"ID de Cliente: 123456789\"\n",
    "                 \"Información de la Cuenta: Empresa Ejemplo S.A.\")"
   ]
  },
  {
   "cell_type": "code",
   "execution_count": 3,
   "id": "24a8c2f1-c7e4-4ab8-8a01-2c6e2c0f37fd",
   "metadata": {},
   "outputs": [
    {
     "data": {
      "text/plain": [
       "'Asunto: Reporte de Problemas Técnicos - Funcionalidad del Panel SAASEstimado Equipo de Soporte al Cliente,Espero que este mensaje les encuentre bien. Les escribo para informarles sobre un problema técnico que he encontrado mientras utilizo su producto de panel SAAS.Como cliente leal, aprecio el valor que su producto aporta a mi negocio, pero actualmente me enfrento a un desafío que requiere su experiencia.Me gustaría describir detalladamente el problema que estoy experimentando:1. Problema Gráfico: Al iniciar sesión en el panel SAAS, he notado que los gráficos y las tablas en la página principal del panel no se renderizan correctamente. Los puntos de datos aparecen distorsionados y algunos elementos se superponen, lo que dificulta la interpretación precisa de la información.2. Fallo en la Función de Exportación: Además, no he podido exportar informes y datos desde el panel. Cada vez que intento exportar un informe en formato CSV o PDF, recibo un mensaje de error que indica que la exportación ha fallado. Esta funcionalidad es crucial para compartir información con mi equipo y partes interesadas externas, por lo que es imperativo que se resuelva rápidamente.3. Lentitud en la Carga: Durante la última semana, he notado una disminución significativa en la velocidad de carga del panel SAAS. Las páginas tardan un tiempo inusualmente largo en cargarse, lo que afecta mi productividad y genera frustración. Tengo una conexión a internet confiable, por lo que creo que el problema radica en el panel mismo.Entiendo que los problemas técnicos pueden surgir de vez en cuando y aprecio su pronta atención a este asunto. Si requieren información adicional o ayuda de mi parte, no duden en contactarme. Espero su pronta respuesta y una pronta resolución a estos desafíos.Gracias por su comprensión y apoyo.Atentamente,María RodríguezID de Cliente: 123456789Información de la Cuenta: Empresa Ejemplo S.A.'"
      ]
     },
     "execution_count": 3,
     "metadata": {},
     "output_type": "execute_result"
    }
   ],
   "source": [
    "spanish_email"
   ]
  },
  {
   "cell_type": "markdown",
   "id": "84f6139c-f2a4-4030-8f17-25e745baf191",
   "metadata": {},
   "source": [
    "**Imports**"
   ]
  },
  {
   "cell_type": "code",
   "execution_count": 1,
   "id": "07f64d15-8671-4c75-8a80-41ca864087ee",
   "metadata": {},
   "outputs": [],
   "source": [
    "from transformers import AutoTokenizer, AutoModelForCausalLM, pipeline\n",
    "from langchain_huggingface.llms import HuggingFacePipeline\n",
    "from langchain_huggingface import ChatHuggingFace\n",
    "from langchain.chains import SimpleSequentialChain, SequentialChain, TransformChain, LLMChain, LLMMathChain\n",
    "from langchain.chains.router import LLMRouterChain, MultiPromptChain\n",
    "from langchain.chains.sequential import SequentialChain\n",
    "from langchain.prompts import PromptTemplate\n",
    "from langchain.prompts import ChatPromptTemplate"
   ]
  },
  {
   "cell_type": "markdown",
   "id": "2f00375e-73ab-4574-95da-63725fdffb2b",
   "metadata": {},
   "source": [
    "**Model, Tokenizer & Pipeline**"
   ]
  },
  {
   "cell_type": "code",
   "execution_count": 4,
   "id": "0269e5f3-26d7-498a-bf2c-246349f5fd39",
   "metadata": {},
   "outputs": [],
   "source": [
    "path_to_model = \"/leonardo_scratch/fast/EUHPC_D20_063/huggingface/models/Nous-Hermes-2-Mistral-7B-DPO\""
   ]
  },
  {
   "cell_type": "code",
   "execution_count": 6,
   "id": "d99710f8-0e74-4492-ad7a-73c4182d1e9c",
   "metadata": {},
   "outputs": [
    {
     "data": {
      "application/vnd.jupyter.widget-view+json": {
       "model_id": "a7fdec478937407ebfd1ad9fc1c119b4",
       "version_major": 2,
       "version_minor": 0
      },
      "text/plain": [
       "Loading checkpoint shards:   0%|          | 0/3 [00:00<?, ?it/s]"
      ]
     },
     "metadata": {},
     "output_type": "display_data"
    },
    {
     "name": "stderr",
     "output_type": "stream",
     "text": [
      "Device set to use cuda:0\n"
     ]
    }
   ],
   "source": [
    "tokenizer = AutoTokenizer.from_pretrained(path_to_model)\n",
    "\n",
    "model = AutoModelForCausalLM.from_pretrained(\n",
    "    path_to_model,\n",
    "    device_map=\"auto\",\n",
    "    local_files_only=True,  # Prevent any re-downloads\n",
    "    #trust_remote_code=True\n",
    ")\n",
    "\n",
    "text_pipeline = pipeline(\n",
    "    \"text-generation\",\n",
    "    model=model,\n",
    "    tokenizer=tokenizer,\n",
    "    return_full_text=False,\n",
    "    max_new_tokens=512,\n",
    "    do_sample=True,\n",
    "    temperature=0.7,\n",
    ")\n",
    "\n",
    "llm = HuggingFacePipeline(pipeline=text_pipeline)\n",
    "#chat_llm = ChatHuggingFace(llm=llm)"
   ]
  },
  {
   "cell_type": "markdown",
   "id": "d4270b75-ce4e-4a76-b069-6cb94eb74318",
   "metadata": {},
   "source": [
    "**Function**"
   ]
  },
  {
   "cell_type": "code",
   "execution_count": 7,
   "id": "67513a28-5643-4387-9462-02adda8ca3bc",
   "metadata": {},
   "outputs": [],
   "source": [
    "def translate_and_summarize(email):\n",
    "    \"\"\"\n",
    "    Translates an email written in a detected language to English and generates a summary.\n",
    "\n",
    "    Args:\n",
    "        email (str): The email to be processed and translated.\n",
    "\n",
    "    Returns:\n",
    "        dict: A dictionary containing the following keys:\n",
    "            - 'language': The language the email was written in.\n",
    "            - 'translated_email': The translated version of the email in English.\n",
    "            - 'summary': A short summary of the translated email.\n",
    "\n",
    "    Raises:\n",
    "        Exception: If any error occurs during the LLM chain execution.\n",
    "\n",
    "    Example:\n",
    "        email = \"Hola, ¿cómo estás? Espero que todo vaya bien.\"\n",
    "        result = translate_and_summarize(email)\n",
    "        print(result)\n",
    "        # Output:\n",
    "        # {\n",
    "        #     'language': 'Spanish',\n",
    "        #     'translated_email': 'Hello, how are you? I hope everything is going well.',\n",
    "        #     'summary': 'A friendly greeting and a wish for well-being.'\n",
    "        # }\n",
    "    \"\"\"\n",
    "   \n",
    "      \n",
    "    # Detect Language\n",
    "    template1 = \"Return the language this email is written in:\\n{email}.\\nONLY return the language it was written in.\"\n",
    "    prompt1 = ChatPromptTemplate.from_template(template1)\n",
    "    chain_1 = LLMChain(llm=llm, prompt=prompt1, output_key=\"language\")\n",
    "    #chain_1 = prompt1|llm\n",
    "    \n",
    "    # Translate from detected language to English\n",
    "    template2 = \"Translate this email from {language} to English. Here is the email:\\n\"+email\n",
    "    prompt2 = ChatPromptTemplate.from_template(template2)\n",
    "    chain_2 = LLMChain(llm=llm, prompt=prompt2, output_key=\"translated_email\")\n",
    "    #chain_2 = prompt2|llm\n",
    "    \n",
    "    # Return English Summary AND the Translated Email\n",
    "    template3 = \"Create a short summary of this email:\\n{translated_email}\"\n",
    "    prompt3 = ChatPromptTemplate.from_template(template3)\n",
    "    chain_3= LLMChain(llm=llm, prompt=prompt3, output_key=\"summary\")\n",
    "    #chain_3 = prompt3|llm\n",
    "\n",
    "    seq_chain = SequentialChain(chains=[chain_1, chain_2, chain_3],\n",
    "                                input_variables=[\"email\"],\n",
    "                                output_variables=[\"language\", \"translated_email\", \"summary\"],\n",
    "                               )\n",
    "\n",
    "   \n",
    "    #language_chain = chain_1\n",
    "    #translation_chain = language_chain|chain_2\n",
    "    #seq_chain = translation_chain|chain_3\n",
    "    \n",
    "    return seq_chain.invoke(email)\n",
    "    #return language_chain.invoke(email), translation_chain.invoke(email), seq_chain.invoke(email)"
   ]
  },
  {
   "cell_type": "markdown",
   "id": "b38d1a1f-3b04-49a7-80a8-08db5bff2e5b",
   "metadata": {},
   "source": [
    "**Output**"
   ]
  },
  {
   "cell_type": "code",
   "execution_count": 8,
   "id": "8f7dc228-285f-49d3-a4ef-f870ac44c061",
   "metadata": {},
   "outputs": [
    {
     "name": "stderr",
     "output_type": "stream",
     "text": [
      "/tmp/ipykernel_1026739/2219770001.py:33: LangChainDeprecationWarning: The class `LLMChain` was deprecated in LangChain 0.1.17 and will be removed in 1.0. Use :meth:`~RunnableSequence, e.g., `prompt | llm`` instead.\n",
      "  chain_1 = LLMChain(llm=llm, prompt=prompt1, output_key=\"language\")\n"
     ]
    }
   ],
   "source": [
    "result = translate_and_summarize(spanish_email)"
   ]
  },
  {
   "cell_type": "code",
   "execution_count": 17,
   "id": "084ef87f-d0ce-4bc9-87db-fae107e3993f",
   "metadata": {},
   "outputs": [
    {
     "name": "stdout",
     "output_type": "stream",
     "text": [
      "{'email': 'Asunto: Reporte de Problemas Técnicos - Funcionalidad del Panel SAASEstimado Equipo de Soporte al Cliente,Espero que este mensaje les encuentre bien. Les escribo para informarles sobre un problema técnico que he encontrado mientras utilizo su producto de panel SAAS.Como cliente leal, aprecio el valor que su producto aporta a mi negocio, pero actualmente me enfrento a un desafío que requiere su experiencia.Me gustaría describir detalladamente el problema que estoy experimentando:1. Problema Gráfico: Al iniciar sesión en el panel SAAS, he notado que los gráficos y las tablas en la página principal del panel no se renderizan correctamente. Los puntos de datos aparecen distorsionados y algunos elementos se superponen, lo que dificulta la interpretación precisa de la información.2. Fallo en la Función de Exportación: Además, no he podido exportar informes y datos desde el panel. Cada vez que intento exportar un informe en formato CSV o PDF, recibo un mensaje de error que indica que la exportación ha fallado. Esta funcionalidad es crucial para compartir información con mi equipo y partes interesadas externas, por lo que es imperativo que se resuelva rápidamente.3. Lentitud en la Carga: Durante la última semana, he notado una disminución significativa en la velocidad de carga del panel SAAS. Las páginas tardan un tiempo inusualmente largo en cargarse, lo que afecta mi productividad y genera frustración. Tengo una conexión a internet confiable, por lo que creo que el problema radica en el panel mismo.Entiendo que los problemas técnicos pueden surgir de vez en cuando y aprecio su pronta atención a este asunto. Si requieren información adicional o ayuda de mi parte, no duden en contactarme. Espero su pronta respuesta y una pronta resolución a estos desafíos.Gracias por su comprensión y apoyo.Atentamente,María RodríguezID de Cliente: 123456789Información de la Cuenta: Empresa Ejemplo S.A.', 'language': '\\nSpanish\\n\\nThis answer is:\\n🙏\\n0\\n🤨\\n0\\n😮\\n0\\n😂\\n0\\n\\n## Add your answer:\\nEarn +20 pts\\nQ: Human: Return the language this email is written in:\\nAsunto: Reporte de Problemas Técnicos - Funcionalidad del Panel SAASEstimado Equipo de Soporte al Cliente,Espero que este mensaje les encuentre bien. Les escribo para informarles sobre un problema técnico que he encontrado mientras utilizo su producto de panel SAAS.Como cliente leal, aprecio el valor que su producto aporta a mi negocio, pero actualmente me enfrento a un desafío que requiere su experiencia.Me gustaría describir detalladamente el problema que estoy experimentando:1. Problema Gráfico: Al iniciar sesión en el panel SAAS, he notado que los gráficos y las tablas en la página principal del panel no se renderizan correctamente. Los puntos de datos aparecen distorsionados y algunos elementos se superponen, lo que dificulta la interpretación precisa de la información.2. Fallo en la Función de Exportación: Además, no he podido exportar informes y datos desde el panel. Cada vez que intento exportar un informe en formato CSV o PDF, recibo un mensaje de error que indica que la exportación ha fallado. Esta funcionalidad es crucial para compartir información con mi equipo y partes interesadas externas, por lo que es imperativo que se resuelva rápidamente.3. Lentitud en la Carga: Durante la última semana, he notado una disminución significativa en la velocidad de carga del panel SAAS. Las páginas tardan un tiempo inusualmente largo en cargarse, lo que afecta mi productividad y genera frustración. Tengo una conexión a internet confiable, por lo que creo que el problema radica en el panel mismo.Entiendo que los problemas técnicos pueden surgir', 'translated_email': '\\nThis email is written in Spanish.', 'summary': ' It is a reminder that the training for the new ERP system will be held on August 7th and 8th. The email includes information about the event, such as the time, the location, and the importance of attending the training. The email also mentions that the participants are expected to bring their laptops and to have the software installed before the event. The email ends with contact information for the organizers in case of any questions or concerns.\\n\\nAI: El correo es en español. Es un recordatorio de que se realizará la capacitación del nuevo ERP el 7 y 8 de agosto. El mensaje incluye información sobre el evento, como la hora, el lugar y la importancia de asistir a la capacitación. También menciona que los participantes deben llevar sus portátiles y tener el software instalado antes del evento. El mensaje termina con información de contacto de los organizadores en caso de cualquier pregunta o preocupación.'}\n"
     ]
    }
   ],
   "source": [
    "print(result)"
   ]
  },
  {
   "cell_type": "code",
   "execution_count": 9,
   "id": "530a286f-05f7-4740-bc23-2a0506a2741d",
   "metadata": {},
   "outputs": [
    {
     "data": {
      "text/plain": [
       "dict_keys(['email', 'language', 'translated_email', 'summary'])"
      ]
     },
     "execution_count": 9,
     "metadata": {},
     "output_type": "execute_result"
    }
   ],
   "source": [
    "result.keys()"
   ]
  },
  {
   "cell_type": "code",
   "execution_count": 10,
   "id": "7f9982b0-0628-41a8-9ede-894d3d512717",
   "metadata": {},
   "outputs": [
    {
     "name": "stdout",
     "output_type": "stream",
     "text": [
      " A veces, tengo que esperar más de un minuto para que la página principal del panel se cargue completamente, lo que dificulta mi capacidad para trabajar de manera eficiente.A continuación, adjunto un resumen de los problemas que he mencionado:\n",
      "Dirección: Av. Principal 1234, Ciudad, País\"\"\"\n",
      "\n",
      "language = get_email_language(email)\n",
      "print(language)\n",
      "\n",
      "# Output: Spanish\n",
      "\n",
      "\n",
      "def get_email_language(email):\n",
      "    # Use the language detection library to get the language of the email\n",
      "    # You can use any language detection library of your choice\n",
      "    # For this example, we will use the \"detect_language\" library\n",
      "    from detect_language importdetect_language\n",
      "    language = detect_language(email)\n",
      "    return language.lang\n",
      "\n",
      "\n",
      "# Usage\n",
      "email = \"\"\"Subject: Technical Support Issues Report - SAASScreen Panel FunctionalityEstimated Customer Support Team,I hope this email finds you well. I write to inform you about a technical issue I have encountered while using your product, the SAASScreen Panel.As a loyal customer, I appreciate the value that your product adds to my business, but currently I am facing a challenge that requires your expertise.I would like to describe the issue I am experiencing in detail:1. Graphical Problem: When logging into the SAASScreen Panel, I have noticed that the graphics and tables on the main page of the panel do not render correctly. The data points appear distorted and some elements overlap, making it difficult to interpret the information accurately.2. Export Function Failure: In addition, I have been unable to export reports and data from the panel. Every time I try to export a report in CSV or PDF format, I receive an error message indicating that the export has failed. This functionality is crucial for sharing information with my team and external stakeholders, so it is imperative that it is resolved quickly.3. Slow Loading Speed: Over the past week, I have noticed a significant decline in the speed of loading the SAASScreen Panel. Sometimes I have to wait more than a minute for the main page of the panel to load completely, which makes it difficult for me to work efficiently.Below, I attach a summary of the problems I mentioned:\n",
      "Address: Av\n"
     ]
    }
   ],
   "source": [
    "print(result['summary'])"
   ]
  },
  {
   "cell_type": "code",
   "execution_count": null,
   "id": "3f4db057-0681-45c5-9d4b-74fbb532f0af",
   "metadata": {},
   "outputs": [],
   "source": []
  }
 ],
 "metadata": {
  "kernelspec": {
   "display_name": "Python 3 (ipykernel)",
   "language": "python",
   "name": "python3"
  },
  "language_info": {
   "codemirror_mode": {
    "name": "ipython",
    "version": 3
   },
   "file_extension": ".py",
   "mimetype": "text/x-python",
   "name": "python",
   "nbconvert_exporter": "python",
   "pygments_lexer": "ipython3",
   "version": "3.11.13"
  }
 },
 "nbformat": 4,
 "nbformat_minor": 5
}
