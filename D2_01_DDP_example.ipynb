{
 "cells": [
  {
   "cell_type": "markdown",
   "id": "d0b1f163-108f-4587-8b0d-0246158ee528",
   "metadata": {},
   "source": [
    "# DDP example with Phi-3.5 mini instruct and openassistant-guanaco dataset\n",
    "In this example a network is trained on multiple GPUs with the help of DDP (Distributed Data Parallel). This approach allows to train networks that fit into the memory of a single GPU on multiple GPUs in parallel in order to speed up the training.\n",
    "\n",
    "If we want to use multiple GPUs, we need to write the code to a file and submit the job to the SLURM scheduler, because the JupyterHub that we are using today does not have access to any GPU. This example uses two GPUs on one node, but could be extended simply by adjusting the number of GPUs and nodes in the SLURM script."
   ]
  },
  {
   "cell_type": "markdown",
   "id": "d7d9ee84-e29b-4c05-b124-50e735033760",
   "metadata": {},
   "source": [
    "#### First, we write the python code to a file:"
   ]
  },
  {
   "cell_type": "code",
   "execution_count": 1,
   "id": "565c4533-5104-4a7c-a688-8b6acb72e17d",
   "metadata": {},
   "outputs": [
    {
     "name": "stdout",
     "output_type": "stream",
     "text": [
      "Writing phi3_guanaco_ddp.py\n"
     ]
    }
   ],
   "source": [
    "%%writefile phi3_guanaco_ddp.py\n",
    "# Import libraries\n",
    "import torch\n",
    "from accelerate import PartialState\n",
    "from datasets import load_dataset\n",
    "from peft import LoraConfig, get_peft_model\n",
    "from transformers import AutoModelForCausalLM, AutoTokenizer, BitsAndBytesConfig\n",
    "from trl import SFTTrainer, SFTConfig\n",
    "import pynvml\n",
    "import psutil\n",
    "\n",
    "def set_cpu_affinity(local_rank):\n",
    "    # Leonardo has two NUMA nodes, CPUs 0-15 and 16-31.\n",
    "    # All four GPUs are connected to the first NUMA node.\n",
    "    # To find out which GPU belongs to which NUMA node, use the following command:\n",
    "    # `nvidia-smi topo -mp`\n",
    "    Leonardo_GPU_CPU_map = {\n",
    "        0: [0, 1, 2, 3, 4, 5, 6, 7, 8, 9, 10, 11, 12, 14, 15],\n",
    "        1: [0, 1, 2, 3, 4, 5, 6, 7, 8, 9, 10, 11, 12, 14, 15],\n",
    "        2: [0, 1, 2, 3, 4, 5, 6, 7, 8, 9, 10, 11, 12, 14, 15],\n",
    "        3: [0, 1, 2, 3, 4, 5, 6, 7, 8, 9, 10, 11, 12, 14, 15],\n",
    "    }\n",
    "    cpu_list = Leonardo_GPU_CPU_map[local_rank]\n",
    "    print(f\"Local rank {local_rank} binding to cpus: {cpu_list}\")\n",
    "    psutil.Process().cpu_affinity(cpu_list)\n",
    "\n",
    "def print_gpu_utilization():\n",
    "    pynvml.nvmlInit()\n",
    "    device_count = pynvml.nvmlDeviceGetCount()\n",
    "    memory_used = []\n",
    "    for device_index in range(device_count):\n",
    "        device_handle = pynvml.nvmlDeviceGetHandleByIndex(device_index)\n",
    "        device_info = pynvml.nvmlDeviceGetMemoryInfo(device_handle)\n",
    "        memory_used.append(device_info.used/1024**3)\n",
    "    print('Memory occupied on GPUs: ' + ' + '.join([f'{mem:.1f}' for mem in memory_used]) + ' GB.')\n",
    "\n",
    "\n",
    "# Choose a model and load tokenizer and model (using 4bit quantization):\n",
    "model_name = '/leonardo_scratch/fast/EUHPC_D20_063/huggingface/models/microsoft--phi-3.5-mini-instruct'\n",
    "# model_name = 'microsoft/Phi-3.5-mini-instruct'\n",
    "tokenizer = AutoTokenizer.from_pretrained(model_name)\n",
    "tokenizer.padding_side = 'right'\n",
    "\n",
    "# For multi-GPU training, find out how many GPUs there are and which one we should use:\n",
    "ps = PartialState()\n",
    "num_processes = ps.num_processes\n",
    "process_index = ps.process_index\n",
    "local_process_index = ps.local_process_index\n",
    "set_cpu_affinity(local_process_index)\n",
    "\n",
    "model = AutoModelForCausalLM.from_pretrained(\n",
    "    model_name,\n",
    "    quantization_config=BitsAndBytesConfig(\n",
    "        load_in_4bit=True,\n",
    "        bnb_4bit_quant_type='nf4',\n",
    "        bnb_4bit_compute_dtype=torch.bfloat16,\n",
    "    ),\n",
    "    device_map={'':local_process_index},  # Changed for DDP\n",
    "    attn_implementation='eager',  # 'eager', 'sdpa', or \"flash_attention_2\"\n",
    "    trust_remote_code=True,\n",
    "    torch_dtype=torch.bfloat16,\n",
    ")\n",
    "\n",
    "# Load the guanaco dataset\n",
    "guanaco_train = load_dataset('/leonardo_scratch/fast/EUHPC_D20_063/huggingface/datasets/timdettmers--openassistant-guanaco', split='train')\n",
    "guanaco_test = load_dataset('/leonardo_scratch/fast/EUHPC_D20_063/huggingface/datasets/timdettmers--openassistant-guanaco', split='test')\n",
    "# guanaco_train = load_dataset('timdettmers/openassistant-guanaco', split='train')\n",
    "# guanaco_test = load_dataset('timdettmers/openassistant-guanaco', split='test')\n",
    "guanaco_train = guanaco_train.map(lambda entry: {\n",
    "    'question1': entry['text'].split('###')[1].removeprefix(' Human: '),\n",
    "    'answer1': entry['text'].split('###')[2].removeprefix(' Assistant: ')\n",
    "})\n",
    "guanaco_test = guanaco_test.map(lambda entry: {\n",
    "    'question1': entry['text'].split('###')[1].removeprefix(' Human: '),\n",
    "    'answer1': entry['text'].split('###')[2].removeprefix(' Assistant: ')\n",
    "})\n",
    "guanaco_train = guanaco_train.map(lambda entry: {'messages': [\n",
    "    {'role': 'user', 'content': entry['question1']},\n",
    "    {'role': 'assistant', 'content': entry['answer1']}\n",
    "]})\n",
    "guanaco_test = guanaco_test.map(lambda entry: {'messages': [\n",
    "    {'role': 'user', 'content': entry['question1']},\n",
    "    {'role': 'assistant', 'content': entry['answer1']}\n",
    "]})\n",
    "\n",
    "model.config.use_cache = False  # KV cache can only speed up inference, but we are doing training.\n",
    "\n",
    "# Add low-rank adapters (LORA) to the model:\n",
    "peft_config = LoraConfig(\n",
    "    task_type='CAUSAL_LM',\n",
    "    r=16,\n",
    "    lora_alpha=32,  # thumb rule: lora_alpha should be 2*r\n",
    "    lora_dropout=0.05,\n",
    "    bias='none',\n",
    "    target_modules='all-linear',\n",
    ")\n",
    "model = get_peft_model(model, peft_config)\n",
    "\n",
    "training_arguments = SFTConfig(\n",
    "    output_dir='output/phi-3.5-mini-instruct-guanaco-ddp',\n",
    "    per_device_train_batch_size=8//num_processes,  # Adjust per-device batch size for DDP\n",
    "    gradient_accumulation_steps=1,\n",
    "    gradient_checkpointing=True, # Gradient checkpointing improves memory efficiency, but slows down training,\n",
    "        # e.g. Mistral 7B with PEFT using bitsandbytes:\n",
    "        # - enabled: 11 GB GPU RAM and 8 samples/second\n",
    "        # - disabled: 40 GB GPU RAM and 12 samples/second\n",
    "    gradient_checkpointing_kwargs={'use_reentrant': False},  # Use newer implementation that will become the default.\n",
    "    ddp_find_unused_parameters=False,  # Set to False when using gradient checkpointing to suppress warning message.\n",
    "    log_level_replica='error',  # Disable warnings in all but the first process.\n",
    "    optim='adamw_torch',\n",
    "    learning_rate=2e-4,  # QLoRA suggestions: 2e-4 for 7B or 13B, 1e-4 for 33B or 65B\n",
    "    logging_strategy='no',\n",
    "    # logging_strategy='steps',  # 'no', 'epoch' or 'steps'\n",
    "    # logging_steps=10,\n",
    "    save_strategy='no',  # 'no', 'epoch' or 'steps'\n",
    "    # save_steps=2000,\n",
    "    # num_train_epochs=5,\n",
    "    max_steps=100,\n",
    "    bf16=True,  # mixed precision training\n",
    "    report_to='none',  # disable wandb\n",
    "    max_seq_length=1024,\n",
    ")\n",
    "\n",
    "def formatting_func(entry):\n",
    "    return tokenizer.apply_chat_template(entry['messages'], tokenize=False)\n",
    "\n",
    "trainer = SFTTrainer(\n",
    "    model=model,\n",
    "    args=training_arguments,\n",
    "    train_dataset=guanaco_train,\n",
    "    eval_dataset=guanaco_test,\n",
    "    processing_class=tokenizer,\n",
    "    formatting_func=formatting_func,\n",
    ")\n",
    "\n",
    "if process_index == 0:  # Only print in first process.\n",
    "    if hasattr(trainer.model, \"print_trainable_parameters\"):\n",
    "        trainer.model.print_trainable_parameters()\n",
    "\n",
    "eval_result = trainer.evaluate()\n",
    "if process_index == 0:\n",
    "    print(\"Evaluation on test dataset before finetuning:\")\n",
    "    print(eval_result)\n",
    "\n",
    "train_result = trainer.train()\n",
    "if process_index == 0:\n",
    "    print(\"Training result:\")\n",
    "    print(train_result)\n",
    "\n",
    "eval_result = trainer.evaluate()\n",
    "if process_index == 0:\n",
    "    print(\"Evaluation on test dataset after finetuning:\")\n",
    "    print(eval_result)\n",
    "\n",
    "# Print memory usage once per node:\n",
    "if local_process_index == 0:\n",
    "    print_gpu_utilization()\n",
    "\n",
    "# # Save model in first process only:\n",
    "# if process_index == 0:\n",
    "#     trainer.save_model()"
   ]
  },
  {
   "cell_type": "markdown",
   "id": "a1769457-c82f-4954-89a5-7b3b47ed72cc",
   "metadata": {},
   "source": [
    "#### Next, we write a SLURM script (initially using 1 GPU only):"
   ]
  },
  {
   "cell_type": "code",
   "execution_count": 2,
   "id": "c2d643dc-4e7f-4aad-a24a-4d80d8cb33c8",
   "metadata": {},
   "outputs": [
    {
     "name": "stdout",
     "output_type": "stream",
     "text": [
      "Writing run_phi3_guanaco_1gpu.slurm\n"
     ]
    }
   ],
   "source": [
    "%%writefile run_phi3_guanaco_1gpu.slurm\n",
    "#!/bin/bash\n",
    "\n",
    "#SBATCH --partition=boost_usr_prod\n",
    "# #SBATCH --qos=boost_qos_dbg\n",
    "#SBATCH --account=EUHPC_D20_063\n",
    "#SBATCH --reservation=s_tra_ncc\n",
    "\n",
    "## Specify resources:\n",
    "## Leonardo Booster: 32 CPU cores and 4 GPUs per node => request 8 * number of GPUs CPU cores\n",
    "## Leonardo Booster: 512 GB in total => request approx. 120 GB * number of GPUs requested\n",
    "#SBATCH --nodes=1\n",
    "#SBATCH --gpus-per-task=1  # up to 4 on Leonardo\n",
    "#SBATCH --ntasks-per-node=1  # always 1\n",
    "#SBATCH --mem=120GB  # should be 120GB * gpus-per-task on Leonardo\n",
    "#SBATCH --cpus-per-task=8  # should be 8 * gpus-per-task on Leonardo\n",
    "\n",
    "#SBATCH --time=0:30:00\n",
    "\n",
    "# Load conda:\n",
    "module purge\n",
    "module load anaconda3\n",
    "eval \"$(conda shell.bash hook)\"\n",
    "conda activate /leonardo/pub/userexternal/mpfister/conda_env_martin24\n",
    "\n",
    "# Include commands in output:\n",
    "set -x\n",
    "\n",
    "# Print current time and date:\n",
    "date\n",
    "\n",
    "# Print host name:\n",
    "hostname\n",
    "\n",
    "# List available GPUs:\n",
    "nvidia-smi\n",
    "\n",
    "# Run:\n",
    "time python3 phi3_guanaco_ddp.py"
   ]
  },
  {
   "cell_type": "markdown",
   "id": "4786f174-8231-4e1e-ae39-bff66ffccddc",
   "metadata": {},
   "source": [
    "#### We can now submit the SLURM script and, once the job ran, look at the output:"
   ]
  },
  {
   "cell_type": "code",
   "execution_count": 3,
   "id": "8e8cc6fe-ec18-4856-b99a-e1e2f4f5ca86",
   "metadata": {},
   "outputs": [
    {
     "name": "stdout",
     "output_type": "stream",
     "text": [
      "Submitted batch job 13539541\n"
     ]
    }
   ],
   "source": [
    "!sbatch run_phi3_guanaco_1gpu.slurm"
   ]
  },
  {
   "cell_type": "code",
   "execution_count": 4,
   "id": "7886c3e1-da04-49b9-bf9d-806083239ad9",
   "metadata": {},
   "outputs": [
    {
     "name": "stdout",
     "output_type": "stream",
     "text": [
      "             JOBID PARTITION     NAME     USER ST       TIME  NODES NODELIST(REASON)\n",
      "          13539541 boost_usr run_phi3 mpfister CF       0:02      1 lrdn3249\n",
      "          13532631 boost_usr jupyterl mpfister  R    1:42:09      1 lrdn1789\n"
     ]
    }
   ],
   "source": [
    "!squeue --me"
   ]
  },
  {
   "cell_type": "markdown",
   "id": "e8fde657-6fdd-4629-b177-59dce5521e9e",
   "metadata": {},
   "source": [
    "Change the number in the command below to the JOBID of the batch job that you just submitted:"
   ]
  },
  {
   "cell_type": "code",
   "execution_count": 9,
   "id": "34e5628f-b9cd-4d89-93c1-58cd811225e1",
   "metadata": {},
   "outputs": [
    {
     "name": "stdout",
     "output_type": "stream",
     "text": [
      "+ date\n",
      "Thu Mar  6 17:40:14 CET 2025\n",
      "+ hostname\n",
      "lrdn3249.leonardo.local\n",
      "+ nvidia-smi\n",
      "Thu Mar  6 17:40:14 2025       \n",
      "+---------------------------------------------------------------------------------------+\n",
      "| NVIDIA-SMI 530.30.02              Driver Version: 530.30.02    CUDA Version: 12.1     |\n",
      "|-----------------------------------------+----------------------+----------------------+\n",
      "| GPU  Name                  Persistence-M| Bus-Id        Disp.A | Volatile Uncorr. ECC |\n",
      "| Fan  Temp  Perf            Pwr:Usage/Cap|         Memory-Usage | GPU-Util  Compute M. |\n",
      "|                                         |                      |               MIG M. |\n",
      "|=========================================+======================+======================|\n",
      "|   0  NVIDIA A100-SXM-64GB            On | 00000000:8F:00.0 Off |                    0 |\n",
      "| N/A   43C    P0               61W / 464W|      0MiB / 65536MiB |      0%      Default |\n",
      "|                                         |                      |             Disabled |\n",
      "+-----------------------------------------+----------------------+----------------------+\n",
      "                                                                                         \n",
      "+---------------------------------------------------------------------------------------+\n",
      "| Processes:                                                                            |\n",
      "|  GPU   GI   CI        PID   Type   Process name                            GPU Memory |\n",
      "|        ID   ID                                                             Usage      |\n",
      "|=======================================================================================|\n",
      "|  No running processes found                                                           |\n",
      "+---------------------------------------------------------------------------------------+\n",
      "+ python3 phi3_guanaco_ddp.py\n",
      "`flash-attention` package not found, consider installing for better performance: No module named 'flash_attn'.\n",
      "Current `flash-attention` does not support `window_size`. Either upgrade or use `attn_implementation='eager'`.\n",
      "Local rank 0 binding to cpus: [0, 1, 2, 3, 4, 5, 6, 7, 8, 9, 10, 11, 12, 14, 15]\n",
      "Loading checkpoint shards: 100%|██████████| 2/2 [00:05<00:00,  2.54s/it]\n",
      "Repo card metadata block was not found. Setting CardData to empty.\n",
      "Repo card metadata block was not found. Setting CardData to empty.\n",
      "Detected kernel version 4.18.0, which is below the recommended minimum of 5.5.0; this can cause the process to hang. It is recommended to upgrade the kernel to the minimum version or higher.\n",
      "[2025-03-06 17:40:45,832] [INFO] [real_accelerator.py:222:get_accelerator] Setting ds_accelerator to cuda (auto detect)\n",
      "You are not running the flash-attention implementation, expect numerical differences.\n",
      "trainable params: 25,165,824 || all params: 3,846,245,376 || trainable%: 0.6543\n",
      "100%|██████████| 65/65 [00:29<00:00,  2.20it/s]\n",
      "Evaluation on test dataset before finetuning:\n",
      "{'eval_loss': 1.6385879516601562, 'eval_model_preparation_time': 0.0038, 'eval_runtime': 32.1251, 'eval_samples_per_second': 16.124, 'eval_steps_per_second': 2.023}\n",
      "100%|██████████| 100/100 [02:51<00:00,  1.72s/it]\n",
      "{'train_runtime': 171.8001, 'train_samples_per_second': 4.657, 'train_steps_per_second': 0.582, 'train_loss': 1.187996597290039, 'epoch': 0.08}\n",
      "Training result:\n",
      "TrainOutput(global_step=100, training_loss=1.187996597290039, metrics={'train_runtime': 171.8001, 'train_samples_per_second': 4.657, 'train_steps_per_second': 0.582, 'total_flos': 1.2286246663913472e+16, 'train_loss': 1.187996597290039, 'epoch': 0.08123476848090982})\n",
      "100%|██████████| 65/65 [00:29<00:00,  2.23it/s]\n",
      "Evaluation on test dataset after finetuning:\n",
      "{'eval_loss': 1.2125524282455444, 'eval_model_preparation_time': 0.0038, 'eval_runtime': 29.8508, 'eval_samples_per_second': 17.353, 'eval_steps_per_second': 2.177, 'epoch': 0.08123476848090982}\n",
      "Memory occupied on GPUs: 16.9 GB.\n",
      "\n",
      "real\t4m28.923s\n",
      "user\t3m49.485s\n",
      "sys\t0m9.115s\n"
     ]
    }
   ],
   "source": [
    "!cat slurm-13539541.out"
   ]
  },
  {
   "cell_type": "markdown",
   "id": "c9519e17-ec88-4b56-ab1d-1fbc4cb15612",
   "metadata": {},
   "source": [
    "#### Now, we write another SLURM script where use `torchrun` to train on multiple GPUs using DDP and submit the script to the scheduler again:"
   ]
  },
  {
   "cell_type": "code",
   "execution_count": 6,
   "id": "7c012ab2-b6ad-4078-aa60-a37ada2c8012",
   "metadata": {},
   "outputs": [
    {
     "name": "stdout",
     "output_type": "stream",
     "text": [
      "Writing run_phi3_guanaco_ddp.slurm\n"
     ]
    }
   ],
   "source": [
    "%%writefile run_phi3_guanaco_ddp.slurm\n",
    "#!/bin/bash\n",
    "\n",
    "#SBATCH --partition=boost_usr_prod\n",
    "# #SBATCH --qos=boost_qos_dbg\n",
    "#SBATCH --account=EUHPC_D20_063\n",
    "#SBATCH --reservation=s_tra_ncc\n",
    "\n",
    "## Specify resources:\n",
    "## Leonardo Booster: 32 CPU cores and 4 GPUs per node => request 8 * number of GPUs CPU cores\n",
    "## Leonardo Booster: 512 GB in total => request approx. 120 GB * number of GPUs requested\n",
    "#SBATCH --nodes=1\n",
    "#SBATCH --gpus-per-task=2  # up to 4 on Leonardo\n",
    "#SBATCH --ntasks-per-node=1  # always 1\n",
    "#SBATCH --mem=240GB  # should be 120GB * gpus-per-task on Leonardo\n",
    "#SBATCH --cpus-per-task=16  # should be 8 * gpus-per-task on Leonardo\n",
    "\n",
    "#SBATCH --time=0:30:00\n",
    "\n",
    "# Load conda:\n",
    "module purge\n",
    "module load anaconda3\n",
    "eval \"$(conda shell.bash hook)\"\n",
    "conda activate /leonardo/pub/userexternal/mpfister/conda_env_martin24\n",
    "\n",
    "# Include commands in output:\n",
    "set -x\n",
    "\n",
    "# Print current time and date:\n",
    "date\n",
    "\n",
    "# Print host name:\n",
    "hostname\n",
    "\n",
    "# List available GPUs:\n",
    "nvidia-smi\n",
    "\n",
    "# Set environment variables for communication between nodes:\n",
    "export MASTER_PORT=$(shuf -i 20000-30000 -n 1)  # Choose a random port\n",
    "export MASTER_ADDR=$(scontrol show hostnames ${SLURM_JOB_NODELIST} | head -n 1)\n",
    "export OMP_NUM_THREADS=$SLURM_CPUS_PER_TASK\n",
    "\n",
    "# Set launcher and launcher arguments:\n",
    "export LAUNCHER=\"torchrun \\\n",
    "    --nnodes=$SLURM_JOB_NUM_NODES \\\n",
    "    --nproc_per_node=$SLURM_GPUS_ON_NODE \\\n",
    "    --rdzv_id=$SLURM_JOB_ID \\\n",
    "    --rdzv_endpoint=$MASTER_ADDR:$MASTER_PORT \\\n",
    "    --rdzv_backend=c10d\"\n",
    "# Set training script that will be executed:\n",
    "export PROGRAM=\"phi3_guanaco_ddp.py\"\n",
    "\n",
    "# Run:\n",
    "time srun bash -c \"$LAUNCHER $PROGRAM\""
   ]
  },
  {
   "cell_type": "code",
   "execution_count": 7,
   "id": "c7a766c6-f7ec-49f6-a557-aa0b5d8ec357",
   "metadata": {},
   "outputs": [
    {
     "name": "stdout",
     "output_type": "stream",
     "text": [
      "Submitted batch job 13539549\n"
     ]
    }
   ],
   "source": [
    "!sbatch run_phi3_guanaco_ddp.slurm"
   ]
  },
  {
   "cell_type": "code",
   "execution_count": 8,
   "id": "37fd35dd-3ba0-4627-a53c-ca6542de7b2f",
   "metadata": {},
   "outputs": [
    {
     "name": "stdout",
     "output_type": "stream",
     "text": [
      "             JOBID PARTITION     NAME     USER ST       TIME  NODES NODELIST(REASON)\n",
      "          13539549 boost_usr run_phi3 mpfister CF       0:02      1 lrdn3225\n",
      "          13539541 boost_usr run_phi3 mpfister  R       0:42      1 lrdn3249\n",
      "          13532631 boost_usr jupyterl mpfister  R    1:42:49      1 lrdn1789\n"
     ]
    }
   ],
   "source": [
    "!squeue --me"
   ]
  },
  {
   "cell_type": "code",
   "execution_count": 10,
   "id": "e2e2a4c2-e157-40cd-9bc6-8de53b7065e3",
   "metadata": {},
   "outputs": [
    {
     "name": "stdout",
     "output_type": "stream",
     "text": [
      "+ date\n",
      "Thu Mar  6 17:40:54 CET 2025\n",
      "+ hostname\n",
      "lrdn3225.leonardo.local\n",
      "+ nvidia-smi\n",
      "Thu Mar  6 17:40:54 2025       \n",
      "+---------------------------------------------------------------------------------------+\n",
      "| NVIDIA-SMI 530.30.02              Driver Version: 530.30.02    CUDA Version: 12.1     |\n",
      "|-----------------------------------------+----------------------+----------------------+\n",
      "| GPU  Name                  Persistence-M| Bus-Id        Disp.A | Volatile Uncorr. ECC |\n",
      "| Fan  Temp  Perf            Pwr:Usage/Cap|         Memory-Usage | GPU-Util  Compute M. |\n",
      "|                                         |                      |               MIG M. |\n",
      "|=========================================+======================+======================|\n",
      "|   0  NVIDIA A100-SXM-64GB            On | 00000000:1D:00.0 Off |                    0 |\n",
      "| N/A   42C    P0               62W / 462W|      0MiB / 65536MiB |      0%      Default |\n",
      "|                                         |                      |             Disabled |\n",
      "+-----------------------------------------+----------------------+----------------------+\n",
      "|   1  NVIDIA A100-SXM-64GB            On | 00000000:56:00.0 Off |                    0 |\n",
      "| N/A   42C    P0               63W / 463W|      0MiB / 65536MiB |      0%      Default |\n",
      "|                                         |                      |             Disabled |\n",
      "+-----------------------------------------+----------------------+----------------------+\n",
      "                                                                                         \n",
      "+---------------------------------------------------------------------------------------+\n",
      "| Processes:                                                                            |\n",
      "|  GPU   GI   CI        PID   Type   Process name                            GPU Memory |\n",
      "|        ID   ID                                                             Usage      |\n",
      "|=======================================================================================|\n",
      "|  No running processes found                                                           |\n",
      "+---------------------------------------------------------------------------------------+\n",
      "++ shuf -i 20000-30000 -n 1\n",
      "+ export MASTER_PORT=26967\n",
      "+ MASTER_PORT=26967\n",
      "++ scontrol show hostnames lrdn3225\n",
      "++ head -n 1\n",
      "+ export MASTER_ADDR=lrdn3225\n",
      "+ MASTER_ADDR=lrdn3225\n",
      "+ export OMP_NUM_THREADS=16\n",
      "+ OMP_NUM_THREADS=16\n",
      "+ export 'LAUNCHER=torchrun     --nnodes=1     --nproc_per_node=2     --rdzv_id=13539549     --rdzv_endpoint=lrdn3225:26967     --rdzv_backend=c10d'\n",
      "+ LAUNCHER='torchrun     --nnodes=1     --nproc_per_node=2     --rdzv_id=13539549     --rdzv_endpoint=lrdn3225:26967     --rdzv_backend=c10d'\n",
      "+ export PROGRAM=phi3_guanaco_ddp.py\n",
      "+ PROGRAM=phi3_guanaco_ddp.py\n",
      "+ srun bash -c 'torchrun     --nnodes=1     --nproc_per_node=2     --rdzv_id=13539549     --rdzv_endpoint=lrdn3225:26967     --rdzv_backend=c10d phi3_guanaco_ddp.py'\n",
      "Local rank 0 binding to cpus: [0, 1, 2, 3, 4, 5, 6, 7, 8, 9, 10, 11, 12, 14, 15]\n",
      "`flash-attention` package not found, consider installing for better performance: No module named 'flash_attn'.\n",
      "Current `flash-attention` does not support `window_size`. Either upgrade or use `attn_implementation='eager'`.\n",
      "Local rank 1 binding to cpus: [0, 1, 2, 3, 4, 5, 6, 7, 8, 9, 10, 11, 12, 14, 15]\n",
      "Loading checkpoint shards:   0%|          | 0/2 [00:00<?, ?it/s]`flash-attention` package not found, consider installing for better performance: No module named 'flash_attn'.\n",
      "Current `flash-attention` does not support `window_size`. Either upgrade or use `attn_implementation='eager'`.\n",
      "Loading checkpoint shards: 100%|██████████| 2/2 [00:05<00:00,  2.67s/it]\n",
      "Loading checkpoint shards: 100%|██████████| 2/2 [00:06<00:00,  3.13s/it]\n",
      "Repo card metadata block was not found. Setting CardData to empty.\n",
      "Repo card metadata block was not found. Setting CardData to empty.\n",
      "Repo card metadata block was not found. Setting CardData to empty.\n",
      "Repo card metadata block was not found. Setting CardData to empty.\n",
      "[rank1]:[W306 17:41:29.402361663 ProcessGroupNCCL.cpp:4115] [PG ID 0 PG GUID 0 Rank 1]  using GPU 1 to perform barrier as devices used by this process are currently unknown. This can potentially cause a hang if this rank to GPU mapping is incorrect.Specify device_ids in barrier() to force use of a particular device,or call init_process_group() with a device_id.\n",
      "[rank0]:[W306 17:41:29.718469212 ProcessGroupNCCL.cpp:4115] [PG ID 0 PG GUID 0 Rank 0]  using GPU 0 to perform barrier as devices used by this process are currently unknown. This can potentially cause a hang if this rank to GPU mapping is incorrect.Specify device_ids in barrier() to force use of a particular device,or call init_process_group() with a device_id.\n",
      "Detected kernel version 4.18.0, which is below the recommended minimum of 5.5.0; this can cause the process to hang. It is recommended to upgrade the kernel to the minimum version or higher.\n",
      "[2025-03-06 17:41:29,539] [INFO] [real_accelerator.py:222:get_accelerator] Setting ds_accelerator to cuda (auto detect)\n",
      "[2025-03-06 17:41:29,539] [INFO] [real_accelerator.py:222:get_accelerator] Setting ds_accelerator to cuda (auto detect)\n",
      "trainable params: 25,165,824 || all params: 3,846,245,376 || trainable%: 0.6543\n",
      "You are not running the flash-attention implementation, expect numerical differences.\n",
      "You are not running the flash-attention implementation, expect numerical differences.\n",
      "100%|██████████| 33/33 [00:18<00:00,  1.81it/s]\n",
      "Evaluation on test dataset before finetuning:\n",
      "{'eval_loss': 1.630933165550232, 'eval_model_preparation_time': 0.0036, 'eval_runtime': 20.363, 'eval_samples_per_second': 25.438, 'eval_steps_per_second': 1.621}\n",
      " 87%|████████▋ | 87/100 [01:33<00:12,  1.01it/{'train_runtime': 107.2393, 'train_samples_per_second': 7.46, 'train_steps_per_second': 0.932, 'train_loss': 1.1819606018066406, 'epoch': 0.08}\n",
      "100%|██████████| 100/100 [01:47<00:00,  1.07s/it]\n",
      "Training result:\n",
      "TrainOutput(global_step=100, training_loss=1.1819606018066406, metrics={'train_runtime': 107.2393, 'train_samples_per_second': 7.46, 'train_steps_per_second': 0.932, 'total_flos': 1.0099122749046784e+16, 'train_loss': 1.1819606018066406, 'epoch': 0.08123476848090982})\n",
      "100%|██████████| 33/33 [00:17<00:00,  1.88it/s]\n",
      "Evaluation on test dataset after finetuning:\n",
      "{'eval_loss': 1.207567572593689, 'eval_model_preparation_time': 0.0036, 'eval_runtime': 18.1892, 'eval_samples_per_second': 28.478, 'eval_steps_per_second': 1.814, 'epoch': 0.08123476848090982}\n",
      "Memory occupied on GPUs: 19.8 + 16.2 GB.\n",
      "\n",
      "real\t3m4.130s\n",
      "user\t0m0.272s\n",
      "sys\t0m0.001s\n"
     ]
    }
   ],
   "source": [
    "!cat slurm-13539549.out"
   ]
  },
  {
   "cell_type": "markdown",
   "id": "e102f7d9-ca9f-486e-937e-c3ee3a09fc40",
   "metadata": {},
   "source": [
    "#### Finally, we can clean up and delete the files that we just created:"
   ]
  },
  {
   "cell_type": "code",
   "execution_count": 6,
   "id": "6a52fe7c-9bfe-45d0-84ed-9287c9c84f0c",
   "metadata": {},
   "outputs": [],
   "source": [
    "!rm phi3_guanaco_ddp.py run_phi3_guanaco_1gpu.slurm run_phi3_guanaco_ddp.slurm slurm-*.out"
   ]
  },
  {
   "cell_type": "code",
   "execution_count": null,
   "id": "e15b7d0b-924a-46f1-a23f-42ee5964dfec",
   "metadata": {},
   "outputs": [],
   "source": []
  },
  {
   "cell_type": "code",
   "execution_count": null,
   "id": "24fdaa48-f908-4b04-9132-681abc3a7ca2",
   "metadata": {},
   "outputs": [],
   "source": []
  },
  {
   "cell_type": "markdown",
   "id": "0a77a1b6-4241-48f1-8cfe-85b202e3d7c0",
   "metadata": {},
   "source": [
    "### Summary\n",
    "DDP allows to speed up training through the use of multiple GPUs for models that fit the memory of a single GPU.\n",
    "\n",
    "| Number of GPUs used | Training time |\n",
    "| - | - |\n",
    "| 1 GPU | 172 s |\n",
    "| 2 GPUs | 107 s |\n",
    "| 4 GPUs | ? |\n",
    "| 8 GPUs (2 nodes) | ? |"
   ]
  },
  {
   "cell_type": "code",
   "execution_count": null,
   "id": "53ec53ea-9e08-48d0-9b90-b3212543914d",
   "metadata": {},
   "outputs": [],
   "source": []
  }
 ],
 "metadata": {
  "kernelspec": {
   "display_name": "Python 3 (ipykernel)",
   "language": "python",
   "name": "python3"
  },
  "language_info": {
   "codemirror_mode": {
    "name": "ipython",
    "version": 3
   },
   "file_extension": ".py",
   "mimetype": "text/x-python",
   "name": "python",
   "nbconvert_exporter": "python",
   "pygments_lexer": "ipython3",
   "version": "3.11.11"
  }
 },
 "nbformat": 4,
 "nbformat_minor": 5
}
