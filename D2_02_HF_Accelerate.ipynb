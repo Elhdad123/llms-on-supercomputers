{
 "cells": [
  {
   "cell_type": "markdown",
   "id": "5fb8d0c9-ab40-455a-b6d8-9478c9ffb2e0",
   "metadata": {},
   "source": [
    "# Huggingface Accelerate\n",
    "\n",
    "In this notebook, we are going to write a Python and SLURM script directly from within cells and also launch the SLURM script.\n",
    "Since we only have limited ressources, we are going to use a small dateset in combination with a small model. However, this still demonstrates how to use Huggingface's [Accelerate](https://huggingface.co/docs/accelerate/index) library to perform distributed training on multiple GPUs across multiple nodes. In our case, we are using 2 nodes with 2 NVIDIA A100 GPUs each.\n",
    "The network used on LEONARDO is NVLink.\n",
    "\n",
    "Hugging Face Accelerate simplifies distributed training with the key benefits being:\n",
    "\n",
    " - Automated Distributed Setup: Accelerate automatically initializes the distributed environment. It configures process groups, sets the appropriate environment variables, and assigns GPUs to processes using PyTorch's native Distributed Data Parallel (DDP). This means you don’t have to manually set up multi-GPU execution or write boilerplate code.\n",
    "\n",
    " - Device and Process Management: With utilities like PartialState, Accelerate provides easy access to details such as the number of processes, process indices, and local device assignments. This information is crucial for tasks like sharding data, adjusting batch sizes per GPU, and ensuring that only one process handles logging or model saving.\n",
    "\n",
    " - Seamless Scaling: Accelerate allows your code to run on both single and multiple GPUs with minimal modifications. Whether you're training on one GPU or several, Accelerate handles the synchronization of model parameters and gradients across devices, making your code more portable and scalable.\n",
    "\n",
    "#### Python script\n",
    "Let's go through the Python script, so you know what we are launching here. <br>\n",
    "Accelerate doesn't mandate that the code be wrapped in a main() function, but it is highly recommended—especially for distributed or multi-GPU setups. Here’s why:\n",
    "\n",
    "- Multiprocessing Safety:\n",
    "    When using distributed training, processes are spawned that import your script. By wrapping your code in a main() function and using the if __name__ == \"__main__\": guard, you prevent unintended code execution in child processes.\n",
    "\n",
    "- Accelerate Configuration:\n",
    "The Accelerate config file often includes an entry like main_training_function: main. This instructs Accelerate to look for a function named main to kick off training. If you don’t define it, you might run into errors."
   ]
  },
  {
   "cell_type": "code",
   "execution_count": 1,
   "id": "61c26ccb-8f0b-4b05-ae73-96739c07215f",
   "metadata": {},
   "outputs": [
    {
     "name": "stdout",
     "output_type": "stream",
     "text": [
      "Writing phi3_guanaco_accelerate.py\n"
     ]
    }
   ],
   "source": [
    "%%writefile phi3_guanaco_accelerate.py\n",
    "import torch\n",
    "from accelerate import Accelerator\n",
    "from datasets import load_dataset\n",
    "from peft import LoraConfig, get_peft_model\n",
    "from transformers import AutoModelForCausalLM, AutoTokenizer, BitsAndBytesConfig\n",
    "from trl import SFTTrainer, SFTConfig\n",
    "import pynvml\n",
    "\n",
    "def print_gpu_utilization():\n",
    "    pynvml.nvmlInit()\n",
    "    device_count = pynvml.nvmlDeviceGetCount()\n",
    "    memory_used = []\n",
    "    for device_index in range(device_count):\n",
    "        device_handle = pynvml.nvmlDeviceGetHandleByIndex(device_index)\n",
    "        device_info = pynvml.nvmlDeviceGetMemoryInfo(device_handle)\n",
    "        memory_used.append(device_info.used / 1024**3)\n",
    "    print('Memory occupied on GPUs: ' + ' + '.join([f'{mem:.1f}' for mem in memory_used]) + ' GB.')\n",
    "\n",
    "def main():\n",
    "    # Initialize Accelerator; it will auto-detect the distributed environment from SLURM\n",
    "    accelerator = Accelerator()\n",
    "    device = accelerator.device\n",
    "\n",
    "    if accelerator.is_main_process:\n",
    "        print(f\"Running on device: {device}\")\n",
    "\n",
    "    # Define model name and load tokenizer\n",
    "    model_name = '/leonardo_scratch/fast/EUHPC_D20_063/huggingface/models/microsoft--phi-3.5-mini-instruct'\n",
    "    tokenizer = AutoTokenizer.from_pretrained(model_name)\n",
    "    tokenizer.padding_side = 'right'\n",
    "\n",
    "    # Load the model with 4-bit quantization. Note that we do not specify a device map manually.\n",
    "    model = AutoModelForCausalLM.from_pretrained(\n",
    "        model_name,\n",
    "        quantization_config=BitsAndBytesConfig(\n",
    "            load_in_4bit=True,\n",
    "            bnb_4bit_quant_type='nf4',\n",
    "            bnb_4bit_compute_dtype=torch.bfloat16,\n",
    "        ),\n",
    "        attn_implementation='eager',\n",
    "        trust_remote_code=True,\n",
    "        torch_dtype=torch.bfloat16,\n",
    "    )\n",
    "    # Move the model to the device specified by Accelerator\n",
    "    model.to(device)\n",
    "    \n",
    "    # Disable caching (only beneficial for inference)\n",
    "    model.config.use_cache = False\n",
    "\n",
    "    # Add LoRA adapters\n",
    "    peft_config = LoraConfig(\n",
    "        task_type='CAUSAL_LM',\n",
    "        r=16,\n",
    "        lora_alpha=32,       # rule of thumb: lora_alpha should be about 2 * r\n",
    "        lora_dropout=0.05,\n",
    "        bias='none',\n",
    "        target_modules='all-linear',\n",
    "    )\n",
    "    model = get_peft_model(model, peft_config)\n",
    "\n",
    "    # Load and preprocess the dataset\n",
    "    guanaco_train = load_dataset(\n",
    "        '/leonardo_scratch/fast/EUHPC_D20_063/huggingface/datasets/timdettmers--openassistant-guanaco', \n",
    "        split='train'\n",
    "    )\n",
    "    guanaco_test = load_dataset(\n",
    "        '/leonardo_scratch/fast/EUHPC_D20_063/huggingface/datasets/timdettmers--openassistant-guanaco', \n",
    "        split='test'\n",
    "    )\n",
    "    # Process each example to extract the user prompt and assistant response\n",
    "    guanaco_train = guanaco_train.map(lambda entry: {\n",
    "        'question1': entry['text'].split('###')[1].removeprefix(' Human: '),\n",
    "        'answer1': entry['text'].split('###')[2].removeprefix(' Assistant: ')\n",
    "    })\n",
    "    guanaco_test = guanaco_test.map(lambda entry: {\n",
    "        'question1': entry['text'].split('###')[1].removeprefix(' Human: '),\n",
    "        'answer1': entry['text'].split('###')[2].removeprefix(' Assistant: ')\n",
    "    })\n",
    "    # Restructure to a chat format expected by our formatting function\n",
    "    guanaco_train = guanaco_train.map(lambda entry: {'messages': [\n",
    "        {'role': 'user', 'content': entry['question1']},\n",
    "        {'role': 'assistant', 'content': entry['answer1']}\n",
    "    ]})\n",
    "    guanaco_test = guanaco_test.map(lambda entry: {'messages': [\n",
    "        {'role': 'user', 'content': entry['question1']},\n",
    "        {'role': 'assistant', 'content': entry['answer1']}\n",
    "    ]})\n",
    "\n",
    "    # Define training arguments with SFTConfig.\n",
    "    # Note: We use accelerator.num_processes to adjust the per-device batch size.\n",
    "    training_arguments = SFTConfig(\n",
    "        output_dir='output/phi-3.5-mini-instruct-guanaco-ddp',\n",
    "        per_device_train_batch_size=8 // accelerator.num_processes,\n",
    "        gradient_accumulation_steps=1,\n",
    "        gradient_checkpointing=True,\n",
    "        gradient_checkpointing_kwargs={'use_reentrant': False},\n",
    "        ddp_find_unused_parameters=False,\n",
    "        log_level_replica='error',\n",
    "        optim='adamw_torch',\n",
    "        learning_rate=2e-4,\n",
    "        logging_strategy='no',\n",
    "        save_strategy='no',\n",
    "        max_steps=100,\n",
    "        bf16=True,\n",
    "        report_to='none',\n",
    "        max_seq_length=1024,\n",
    "    )\n",
    "\n",
    "    def formatting_func(entry):\n",
    "        return tokenizer.apply_chat_template(entry['messages'], tokenize=False)\n",
    "\n",
    "    # Create the SFTTrainer.\n",
    "    trainer = SFTTrainer(\n",
    "        model=model,\n",
    "        args=training_arguments,\n",
    "        train_dataset=guanaco_train,\n",
    "        eval_dataset=guanaco_test,\n",
    "        processing_class=tokenizer,\n",
    "        formatting_func=formatting_func,\n",
    "    )\n",
    "\n",
    "    # Optionally print trainable parameters on the main process only.\n",
    "    if accelerator.is_main_process and hasattr(trainer.model, \"print_trainable_parameters\"):\n",
    "        trainer.model.print_trainable_parameters()\n",
    "\n",
    "    # Evaluate before training\n",
    "    eval_result = trainer.evaluate()\n",
    "    if accelerator.is_main_process:\n",
    "        print(\"Evaluation on test dataset before finetuning:\")\n",
    "        print(eval_result)\n",
    "\n",
    "    # Train the model\n",
    "    train_result = trainer.train()\n",
    "    if accelerator.is_main_process:\n",
    "        print(\"Training result:\")\n",
    "        print(train_result)\n",
    "\n",
    "    # Evaluate after training\n",
    "    eval_result = trainer.evaluate()\n",
    "    if accelerator.is_main_process:\n",
    "        print(\"Evaluation on test dataset after finetuning:\")\n",
    "        print(eval_result)\n",
    "\n",
    "    # Print GPU memory usage (only once per node)\n",
    "    if accelerator.local_process_index == 0:\n",
    "        print_gpu_utilization()\n",
    "\n",
    "if __name__ == \"__main__\":\n",
    "    main()\n"
   ]
  },
  {
   "cell_type": "markdown",
   "id": "f98a9e9e-74d8-49ca-b0c2-0fbf9c90318d",
   "metadata": {},
   "source": [
    "#### Next, we write a SLURM script, initially using 1 GPU only and the exact same setup as with the DDP example:\n",
    "While this code works and runs, it is handled differently, than when launching it with Accelerate. Note the times in the output."
   ]
  },
  {
   "cell_type": "code",
   "execution_count": 9,
   "id": "3d106c10-5d66-4fa1-889c-2db3c01581d0",
   "metadata": {},
   "outputs": [
    {
     "name": "stdout",
     "output_type": "stream",
     "text": [
      "Overwriting accelerate_run_phi3_guanaco_1gpu.slurm\n"
     ]
    }
   ],
   "source": [
    "%%writefile run_phi3_guanaco_accelerate_1gpu.slurm\n",
    "#!/bin/bash\n",
    "\n",
    "#SBATCH --partition=boost_usr_prod\n",
    "# #SBATCH --qos=boost_qos_dbg\n",
    "#SBATCH --account=EUHPC_D20_063\n",
    "#SBATCH --reservation=s_tra_ncc\n",
    "\n",
    "## Specify resources:\n",
    "## Leonardo Booster: 32 CPU cores and 4 GPUs per node => request 8 * number of GPUs CPU cores\n",
    "## Leonardo Booster: 512 GB in total => request approx. 120 GB * number of GPUs requested\n",
    "#SBATCH --nodes=1\n",
    "#SBATCH --gpus-per-task=1  # up to 4 on Leonardo\n",
    "#SBATCH --ntasks-per-node=1  # always 1\n",
    "#SBATCH --mem=120GB  # should be 120GB * gpus-per-task on Leonardo\n",
    "#SBATCH --cpus-per-task=8  # should be 8 * gpus-per-task on Leonardo\n",
    "\n",
    "#SBATCH --time=0:30:00\n",
    "\n",
    "# Load conda:\n",
    "module purge\n",
    "module load anaconda3\n",
    "eval \"$(conda shell.bash hook)\"\n",
    "conda activate /leonardo/pub/userexternal/mpfister/conda_env_martin24\n",
    "\n",
    "# Include commands in output:\n",
    "set -x\n",
    "\n",
    "# Print current time and date:\n",
    "date\n",
    "\n",
    "# Print host name:\n",
    "hostname\n",
    "\n",
    "# List available GPUs:\n",
    "nvidia-smi\n",
    "\n",
    "# Run:\n",
    "time python3 phi3_guanaco_accelerate.py"
   ]
  },
  {
   "cell_type": "markdown",
   "id": "2a09f4af-dd63-4aa5-8df4-fa540d721ad3",
   "metadata": {},
   "source": [
    "#### We can now submit the SLURM script and, once the job ran, look at the output:"
   ]
  },
  {
   "cell_type": "code",
   "execution_count": 10,
   "id": "4d42590c-ccbb-484f-8811-524a238e7d74",
   "metadata": {},
   "outputs": [
    {
     "name": "stdout",
     "output_type": "stream",
     "text": [
      "Submitted batch job 12961431\n"
     ]
    }
   ],
   "source": [
    "!sbatch run_phi3_guanaco_accelerate_1gpu.slurm"
   ]
  },
  {
   "cell_type": "code",
   "execution_count": 14,
   "id": "21f3ff05-f7ba-4bee-be3a-00f3566c647b",
   "metadata": {},
   "outputs": [
    {
     "name": "stdout",
     "output_type": "stream",
     "text": [
      "             JOBID PARTITION     NAME     USER ST       TIME  NODES NODELIST(REASON)\n",
      "          12960270 boost_usr jupyter. sharriso  R    2:05:38      1 lrdn0151\n",
      "          12961431 boost_usr accelera sharriso  R       0:30      1 lrdn0675\n"
     ]
    }
   ],
   "source": [
    "!squeue --me"
   ]
  },
  {
   "cell_type": "markdown",
   "id": "f26c5156-e8bf-405c-a360-ba6721e5b35e",
   "metadata": {},
   "source": [
    "Change the number in the command below to the JOBID of the batch job that you just submitted:"
   ]
  },
  {
   "cell_type": "code",
   "execution_count": 18,
   "id": "3ba8f461-306c-412c-a65b-4bd203c5e006",
   "metadata": {},
   "outputs": [
    {
     "name": "stdout",
     "output_type": "stream",
     "text": [
      "+ date\n",
      "Tue Feb 25 00:06:29 CET 2025\n",
      "+ hostname\n",
      "lrdn0675.leonardo.local\n",
      "+ nvidia-smi\n",
      "Tue Feb 25 00:06:29 2025       \n",
      "+---------------------------------------------------------------------------------------+\n",
      "| NVIDIA-SMI 530.30.02              Driver Version: 530.30.02    CUDA Version: 12.1     |\n",
      "|-----------------------------------------+----------------------+----------------------+\n",
      "| GPU  Name                  Persistence-M| Bus-Id        Disp.A | Volatile Uncorr. ECC |\n",
      "| Fan  Temp  Perf            Pwr:Usage/Cap|         Memory-Usage | GPU-Util  Compute M. |\n",
      "|                                         |                      |               MIG M. |\n",
      "|=========================================+======================+======================|\n",
      "|   0  NVIDIA A100-SXM-64GB            On | 00000000:1D:00.0 Off |                    0 |\n",
      "| N/A   43C    P0               64W / 475W|      0MiB / 65536MiB |      0%      Default |\n",
      "|                                         |                      |             Disabled |\n",
      "+-----------------------------------------+----------------------+----------------------+\n",
      "                                                                                         \n",
      "+---------------------------------------------------------------------------------------+\n",
      "| Processes:                                                                            |\n",
      "|  GPU   GI   CI        PID   Type   Process name                            GPU Memory |\n",
      "|        ID   ID                                                             Usage      |\n",
      "|=======================================================================================|\n",
      "|  No running processes found                                                           |\n",
      "+---------------------------------------------------------------------------------------+\n",
      "+ python3 phi3_guanaco_accelerate.py\n",
      "Detected kernel version 4.18.0, which is below the recommended minimum of 5.5.0; this can cause the process to hang. It is recommended to upgrade the kernel to the minimum version or higher.\n",
      "`flash-attention` package not found, consider installing for better performance: No module named 'flash_attn'.\n",
      "Current `flash-attention` does not support `window_size`. Either upgrade or use `attn_implementation='eager'`.\n",
      "`low_cpu_mem_usage` was None, now default to True since model is quantized.\n",
      "Running on device: cuda\n",
      "Loading checkpoint shards: 100%|██████████| 2/2 [00:04<00:00,  2.30s/it]\n",
      "Repo card metadata block was not found. Setting CardData to empty.\n",
      "Generating train split: 9846 examples [00:00, 147383.38 examples/s]\n",
      "Generating test split: 518 examples [00:00, 136258.98 examples/s]\n",
      "Repo card metadata block was not found. Setting CardData to empty.\n",
      "Map: 100%|██████████| 9846/9846 [00:00<00:00, 34352.20 examples/s]\n",
      "Map: 100%|██████████| 518/518 [00:00<00:00, 26097.26 examples/s]\n",
      "Map: 100%|██████████| 9846/9846 [00:00<00:00, 24355.27 examples/s]\n",
      "Map: 100%|██████████| 518/518 [00:00<00:00, 19854.97 examples/s]\n",
      "Map: 100%|██████████| 9846/9846 [00:01<00:00, 6866.43 examples/s]\n",
      "Map: 100%|██████████| 518/518 [00:00<00:00, 6257.20 examples/s]\n",
      "Detected kernel version 4.18.0, which is below the recommended minimum of 5.5.0; this can cause the process to hang. It is recommended to upgrade the kernel to the minimum version or higher.\n",
      "[2025-02-25 00:06:58,774] [INFO] [real_accelerator.py:222:get_accelerator] Setting ds_accelerator to cuda (auto detect)\n",
      "df: /leonardo/home/userexternal/sharriso/.triton/autotune: No such file or directory\n",
      "You are not running the flash-attention implementation, expect numerical differences.\n",
      "trainable params: 25,165,824 || all params: 3,846,245,376 || trainable%: 0.6543\n",
      "100%|██████████| 65/65 [00:28<00:00,  2.27it/s]\n",
      "Evaluation on test dataset before finetuning:\n",
      "{'eval_loss': 1.6385879516601562, 'eval_model_preparation_time': 0.0037, 'eval_runtime': 31.0606, 'eval_samples_per_second': 16.677, 'eval_steps_per_second': 2.093}\n",
      "100%|██████████| 100/100 [02:32<00:00,  1.53s/it]\n",
      "{'train_runtime': 152.9387, 'train_samples_per_second': 5.231, 'train_steps_per_second': 0.654, 'train_loss': 1.1880614471435547, 'epoch': 0.08}\n",
      "Training result:\n",
      "TrainOutput(global_step=100, training_loss=1.1880614471435547, metrics={'train_runtime': 152.9387, 'train_samples_per_second': 5.231, 'train_steps_per_second': 0.654, 'total_flos': 1.2286246663913472e+16, 'train_loss': 1.1880614471435547, 'epoch': 0.08123476848090982})\n",
      "100%|██████████| 65/65 [00:28<00:00,  2.27it/s]\n",
      "Evaluation on test dataset after finetuning:\n",
      "{'eval_loss': 1.212457299232483, 'eval_model_preparation_time': 0.0037, 'eval_runtime': 29.2657, 'eval_samples_per_second': 17.7, 'eval_steps_per_second': 2.221, 'epoch': 0.08123476848090982}\n",
      "Memory occupied on GPUs: 16.9 GB.\n",
      "\n",
      "real\t4m5.340s\n",
      "user\t3m50.963s\n",
      "sys\t0m6.779s\n"
     ]
    }
   ],
   "source": [
    "!cat slurm-12961431.out"
   ]
  },
  {
   "cell_type": "markdown",
   "id": "fb511eed-6add-4df7-b6f5-09e14a1e6b28",
   "metadata": {},
   "source": [
    "#### Now, we will create an Accelerate config file and adapt the SLURM script, so that Accelerate launches the program. We are still only using 1 GPU:\n",
    "Note the times in the output again!"
   ]
  },
  {
   "cell_type": "code",
   "execution_count": 19,
   "id": "447a57d4-7c26-4833-b310-88b6b356bf11",
   "metadata": {},
   "outputs": [
    {
     "name": "stdout",
     "output_type": "stream",
     "text": [
      "Writing ./tooling/config/accelerate_default_config_1gpu.yaml\n"
     ]
    }
   ],
   "source": [
    "%%writefile accelerate_default_config_1gpu.yaml\n",
    "compute_environment: LOCAL_MACHINE\n",
    "debug: false\n",
    "distributed_type: NO\n",
    "mixed_precision: bf16\n",
    "downcast_bf16: 'yes'\n",
    "machine_rank: 0\n",
    "main_training_function: main\n",
    "num_machines: 1\n",
    "num_processes: 1\n",
    "rdzv_backend: static\n",
    "same_network: true\n",
    "use_cpu: false"
   ]
  },
  {
   "cell_type": "code",
   "execution_count": 32,
   "id": "367bc657-1aef-4ebc-8902-e6302c6759dc",
   "metadata": {},
   "outputs": [
    {
     "name": "stdout",
     "output_type": "stream",
     "text": [
      "Overwriting run_phi3_guanaco_accelerate_1gpu.slurm\n"
     ]
    }
   ],
   "source": [
    "%%writefile run_phi3_guanaco_accelerate_1gpu.slurm\n",
    "#!/bin/bash\n",
    "\n",
    "#SBATCH --partition=boost_usr_prod\n",
    "# #SBATCH --qos=boost_qos_dbg\n",
    "#SBATCH --account=EUHPC_D20_063\n",
    "#SBATCH --reservation=s_tra_ncc\n",
    "\n",
    "## Specify resources:\n",
    "## Leonardo Booster: 32 CPU cores and 4 GPUs per node => request 8 * number of GPUs CPU cores\n",
    "## Leonardo Booster: 512 GB in total => request approx. 120 GB * number of GPUs requested\n",
    "#SBATCH --nodes=1\n",
    "#SBATCH --gpus-per-task=1  # up to 4 on Leonardo\n",
    "#SBATCH --ntasks-per-node=1  # always 1\n",
    "#SBATCH --mem=120GB  # should be 120GB * gpus-per-task on Leonardo\n",
    "#SBATCH --cpus-per-task=8  # should be 8 * gpus-per-task on Leonardo\n",
    "\n",
    "#SBATCH --time=0:30:00\n",
    "\n",
    "# Load conda:\n",
    "module purge\n",
    "module load anaconda3\n",
    "eval \"$(conda shell.bash hook)\"\n",
    "conda activate /leonardo/pub/userexternal/mpfister/conda_env_martin24\n",
    "\n",
    "# Include commands in output:\n",
    "set -x\n",
    "\n",
    "# Print current time and date:\n",
    "date\n",
    "\n",
    "# Print host name:\n",
    "hostname\n",
    "\n",
    "# List available GPUs:\n",
    "nvidia-smi\n",
    "\n",
    "# Set environment variables for communication between nodes:\n",
    "export MASTER_PORT=$(shuf -i 20000-30000 -n 1)  # Choose a random port\n",
    "export MASTER_ADDR=$(scontrol show hostnames ${SLURM_JOB_NODELIST} | head -n 1)\n",
    "export OMP_NUM_THREADS=$SLURM_CPUS_PER_TASK\n",
    "\n",
    "# Set launcher and launcher arguments:\n",
    "export LAUNCHER=\"accelerate launch \\\n",
    "    --num_machines $SLURM_NNODES \\\n",
    "    --num_processes $((SLURM_NNODES * SLURM_GPUS_ON_NODE)) \\\n",
    "    --num_cpu_threads_per_process 8 \\\n",
    "    --main_process_ip $MASTER_ADDR \\\n",
    "    --main_process_port $MASTER_PORT \\\n",
    "    --machine_rank \\$SLURM_PROCID \\\n",
    "    --config_file \\\"accelerate_default_config_1gpu.yaml\\\" \\\n",
    "    \"\n",
    "# Set training script that will be executed:\n",
    "export PROGRAM=\"phi3_guanaco_accelerate.py\"\n",
    "\n",
    "# Run:\n",
    "time srun bash -c \"$LAUNCHER $PROGRAM\""
   ]
  },
  {
   "cell_type": "markdown",
   "id": "9bc1d528-e9d5-4a25-a32a-3c2136237d79",
   "metadata": {},
   "source": [
    "#### We can now execute the SLURM script and, once the job ran, look at the output:"
   ]
  },
  {
   "cell_type": "code",
   "execution_count": 33,
   "id": "879b0935-a1be-4b40-835d-154a9ab1e537",
   "metadata": {},
   "outputs": [
    {
     "name": "stdout",
     "output_type": "stream",
     "text": [
      "Submitted batch job 12961598\n"
     ]
    }
   ],
   "source": [
    "!sbatch run_phi3_guanaco_accelerate_1gpu.slurm"
   ]
  },
  {
   "cell_type": "code",
   "execution_count": 35,
   "id": "b2084719-fd83-49bf-a7d6-5674b8e9fed8",
   "metadata": {},
   "outputs": [
    {
     "name": "stdout",
     "output_type": "stream",
     "text": [
      "             JOBID PARTITION     NAME     USER ST       TIME  NODES NODELIST(REASON)\n",
      "          12961598 boost_usr run_phi3 sharriso  R       0:31      1 lrdn0151\n",
      "          12960270 boost_usr jupyter. sharriso  R    2:50:54      1 lrdn0151\n"
     ]
    }
   ],
   "source": [
    "!squeue --me"
   ]
  },
  {
   "cell_type": "code",
   "execution_count": 39,
   "id": "2ee77873-5768-4543-b4a1-2207156cc423",
   "metadata": {
    "scrolled": true
   },
   "outputs": [
    {
     "name": "stdout",
     "output_type": "stream",
     "text": [
      "+ date\n",
      "Tue Feb 25 00:51:44 CET 2025\n",
      "+ hostname\n",
      "lrdn0151.leonardo.local\n",
      "+ nvidia-smi\n",
      "Tue Feb 25 00:51:44 2025       \n",
      "+---------------------------------------------------------------------------------------+\n",
      "| NVIDIA-SMI 530.30.02              Driver Version: 530.30.02    CUDA Version: 12.1     |\n",
      "|-----------------------------------------+----------------------+----------------------+\n",
      "| GPU  Name                  Persistence-M| Bus-Id        Disp.A | Volatile Uncorr. ECC |\n",
      "| Fan  Temp  Perf            Pwr:Usage/Cap|         Memory-Usage | GPU-Util  Compute M. |\n",
      "|                                         |                      |               MIG M. |\n",
      "|=========================================+======================+======================|\n",
      "|   0  NVIDIA A100-SXM-64GB            On | 00000000:1D:00.0 Off |                    0 |\n",
      "| N/A   42C    P0               63W / 479W|      0MiB / 65536MiB |      0%      Default |\n",
      "|                                         |                      |             Disabled |\n",
      "+-----------------------------------------+----------------------+----------------------+\n",
      "                                                                                         \n",
      "+---------------------------------------------------------------------------------------+\n",
      "| Processes:                                                                            |\n",
      "|  GPU   GI   CI        PID   Type   Process name                            GPU Memory |\n",
      "|        ID   ID                                                             Usage      |\n",
      "|=======================================================================================|\n",
      "|  No running processes found                                                           |\n",
      "+---------------------------------------------------------------------------------------+\n",
      "++ shuf -i 20000-30000 -n 1\n",
      "+ export MASTER_PORT=22153\n",
      "+ MASTER_PORT=22153\n",
      "++ scontrol show hostnames lrdn0151\n",
      "++ head -n 1\n",
      "+ export MASTER_ADDR=lrdn0151\n",
      "+ MASTER_ADDR=lrdn0151\n",
      "+ export OMP_NUM_THREADS=8\n",
      "+ OMP_NUM_THREADS=8\n",
      "+ export 'LAUNCHER=accelerate launch     --num_machines 1     --num_processes 1     --num_cpu_threads_per_process 8     --main_process_ip lrdn0151     --main_process_port 22153     --machine_rank $SLURM_PROCID     --config_file \"./tooling/config/accelerate_default_config_1gpu.yaml\"     '\n",
      "+ LAUNCHER='accelerate launch     --num_machines 1     --num_processes 1     --num_cpu_threads_per_process 8     --main_process_ip lrdn0151     --main_process_port 22153     --machine_rank $SLURM_PROCID     --config_file \"./tooling/config/accelerate_default_config_1gpu.yaml\"     '\n",
      "+ export PROGRAM=phi3_guanaco_accelerate.py\n",
      "+ PROGRAM=phi3_guanaco_accelerate.py\n",
      "+ srun bash -c 'accelerate launch     --num_machines 1     --num_processes 1     --num_cpu_threads_per_process 8     --main_process_ip lrdn0151     --main_process_port 22153     --machine_rank $SLURM_PROCID     --config_file \"./tooling/config/accelerate_default_config_1gpu.yaml\"      phi3_guanaco_accelerate.py'\n",
      "Detected kernel version 4.18.0, which is below the recommended minimum of 5.5.0; this can cause the process to hang. It is recommended to upgrade the kernel to the minimum version or higher.\n",
      "`flash-attention` package not found, consider installing for better performance: No module named 'flash_attn'.\n",
      "Current `flash-attention` does not support `window_size`. Either upgrade or use `attn_implementation='eager'`.\n",
      "`low_cpu_mem_usage` was None, now default to True since model is quantized.\n",
      "Running on device: cuda\n",
      "Loading checkpoint shards: 100%|██████████| 2/2 [00:04<00:00,  2.45s/it]\n",
      "Repo card metadata block was not found. Setting CardData to empty.\n",
      "Repo card metadata block was not found. Setting CardData to empty.\n",
      "Map: 100%|██████████| 518/518 [00:00<00:00, 2380.10 examples/s]\n",
      "Detected kernel version 4.18.0, which is below the recommended minimum of 5.5.0; this can cause the process to hang. It is recommended to upgrade the kernel to the minimum version or higher.\n",
      "[2025-02-25 00:52:22,253] [INFO] [real_accelerator.py:222:get_accelerator] Setting ds_accelerator to cuda (auto detect)\n",
      "You are not running the flash-attention implementation, expect numerical differences.\n",
      "trainable params: 25,165,824 || all params: 3,846,245,376 || trainable%: 0.6543\n",
      "100%|██████████| 65/65 [00:28<00:00,  2.25it/s]\n",
      "Evaluation on test dataset before finetuning:\n",
      "{'eval_loss': 1.6385879516601562, 'eval_model_preparation_time': 0.0038, 'eval_runtime': 31.3092, 'eval_samples_per_second': 16.545, 'eval_steps_per_second': 2.076}\n",
      "100%|██████████| 100/100 [02:41<00:00,  1.62s/it]\n",
      "{'train_runtime': 161.9574, 'train_samples_per_second': 4.94, 'train_steps_per_second': 0.617, 'train_loss': 1.1879594421386719, 'epoch': 0.08}\n",
      "Training result:\n",
      "TrainOutput(global_step=100, training_loss=1.1879594421386719, metrics={'train_runtime': 161.9574, 'train_samples_per_second': 4.94, 'train_steps_per_second': 0.617, 'total_flos': 1.2286246663913472e+16, 'train_loss': 1.1879594421386719, 'epoch': 0.08123476848090982})\n",
      "100%|██████████| 65/65 [00:28<00:00,  2.26it/s]\n",
      "Evaluation on test dataset after finetuning:\n",
      "{'eval_loss': 1.2126834392547607, 'eval_model_preparation_time': 0.0038, 'eval_runtime': 29.4553, 'eval_samples_per_second': 17.586, 'eval_steps_per_second': 2.207, 'epoch': 0.08123476848090982}\n",
      "Memory occupied on GPUs: 16.9 GB.\n",
      "\n",
      "real\t4m23.740s\n",
      "user\t0m0.267s\n",
      "sys\t0m0.011s\n"
     ]
    }
   ],
   "source": [
    "!cat slurm-12961598.out"
   ]
  },
  {
   "cell_type": "markdown",
   "id": "e4f1e520-75c5-4c47-bedc-e586366d0fc8",
   "metadata": {},
   "source": [
    "#### Now, we write another config file and SLURM script to train on multiple GPUs using Accelerate and submit the script to the scheduler again:"
   ]
  },
  {
   "cell_type": "code",
   "execution_count": 40,
   "id": "31027442-ae73-44ee-95f5-e1d0f0214e4a",
   "metadata": {},
   "outputs": [
    {
     "name": "stdout",
     "output_type": "stream",
     "text": [
      "Overwriting ./tooling/config/accelerate_default_config.yaml\n"
     ]
    }
   ],
   "source": [
    "%%writefile accelerate_default_config.yaml\n",
    "compute_environment: LOCAL_MACHINE\n",
    "debug: false\n",
    "distributed_type: MULTI_GPU\n",
    "mixed_precision: bf16\n",
    "downcast_bf16: 'yes'\n",
    "machine_rank: 0\n",
    "main_training_function: main\n",
    "num_machines: 2\n",
    "num_processes: 4\n",
    "rdzv_backend: static\n",
    "same_network: true\n",
    "use_cpu: false"
   ]
  },
  {
   "cell_type": "code",
   "execution_count": 41,
   "id": "03807fe7-0a2c-470c-849c-7e0b887f06f1",
   "metadata": {},
   "outputs": [
    {
     "name": "stdout",
     "output_type": "stream",
     "text": [
      "Writing run_phi3_guanaco_accelerate_multigpu.slurm\n"
     ]
    }
   ],
   "source": [
    "%%writefile run_phi3_guanaco_accelerate_multigpu.slurm\n",
    "#!/bin/bash\n",
    "\n",
    "#SBATCH --partition=boost_usr_prod\n",
    "# #SBATCH --qos=boost_qos_dbg\n",
    "#SBATCH --account=EUHPC_D20_063\n",
    "#SBATCH --reservation=s_tra_ncc\n",
    "\n",
    "## Specify resources:\n",
    "## Leonardo Booster: 32 CPU cores and 4 GPUs per node => request 8 * number of GPUs CPU cores\n",
    "## Leonardo Booster: 512 GB in total => request approx. 120 GB * number of GPUs requested\n",
    "#SBATCH --nodes=2\n",
    "#SBATCH --gpus-per-task=2  # up to 4 on Leonardo\n",
    "#SBATCH --ntasks-per-node=1  # always 1\n",
    "#SBATCH --mem=120GB  # should be 120GB * gpus-per-task on Leonardo\n",
    "#SBATCH --cpus-per-task=16  # should be 8 * gpus-per-task on Leonardo\n",
    "\n",
    "#SBATCH --time=0:30:00\n",
    "\n",
    "# Load conda:\n",
    "module purge\n",
    "module load anaconda3\n",
    "eval \"$(conda shell.bash hook)\"\n",
    "conda activate /leonardo/pub/userexternal/mpfister/conda_env_martin24\n",
    "\n",
    "# Include commands in output:\n",
    "set -x\n",
    "\n",
    "# Print current time and date:\n",
    "date\n",
    "\n",
    "# Print host name:\n",
    "hostname\n",
    "\n",
    "# List available GPUs:\n",
    "nvidia-smi\n",
    "\n",
    "# Set environment variables for communication between nodes:\n",
    "export MASTER_PORT=$(shuf -i 20000-30000 -n 1)  # Choose a random port\n",
    "export MASTER_ADDR=$(scontrol show hostnames ${SLURM_JOB_NODELIST} | head -n 1)\n",
    "export OMP_NUM_THREADS=$SLURM_CPUS_PER_TASK\n",
    "\n",
    "# Set launcher and launcher arguments:\n",
    "export LAUNCHER=\"accelerate launch \\\n",
    "    --num_machines $SLURM_NNODES \\\n",
    "    --num_processes $((SLURM_NNODES * SLURM_GPUS_ON_NODE)) \\\n",
    "    --num_cpu_threads_per_process 8 \\\n",
    "    --main_process_ip $MASTER_ADDR \\\n",
    "    --main_process_port $MASTER_PORT \\\n",
    "    --machine_rank \\$SLURM_PROCID \\\n",
    "    --config_file \\\"accelerate_default_config.yaml\\\" \\\n",
    "    \"\n",
    "# Set training script that will be executed:\n",
    "export PROGRAM=\"phi3_guanaco_accelerate.py\"\n",
    "\n",
    "# Run:\n",
    "time srun bash -c \"$LAUNCHER $PROGRAM\""
   ]
  },
  {
   "cell_type": "code",
   "execution_count": 42,
   "id": "b7b77016-c158-4f30-b724-ba641947bb3e",
   "metadata": {},
   "outputs": [
    {
     "name": "stdout",
     "output_type": "stream",
     "text": [
      "Submitted batch job 12961611\n"
     ]
    }
   ],
   "source": [
    "!sbatch run_phi3_guanaco_accelerate_multigpu.slurm"
   ]
  },
  {
   "cell_type": "code",
   "execution_count": 43,
   "id": "0bf67e19-dc5b-4281-aa21-f4ac41dec56b",
   "metadata": {},
   "outputs": [
    {
     "name": "stdout",
     "output_type": "stream",
     "text": [
      "             JOBID PARTITION     NAME     USER ST       TIME  NODES NODELIST(REASON)\n",
      "          12961611 boost_usr run_phi3 sharriso  R       0:06      2 lrdn[1065-1066]\n",
      "          12960270 boost_usr jupyter. sharriso  R    3:07:15      1 lrdn0151\n"
     ]
    }
   ],
   "source": [
    "!squeue --me"
   ]
  },
  {
   "cell_type": "code",
   "execution_count": 45,
   "id": "52797ca8-b066-44f3-8e0f-a57f6b8a5504",
   "metadata": {},
   "outputs": [
    {
     "name": "stdout",
     "output_type": "stream",
     "text": [
      "+ date\n",
      "Tue Feb 25 01:08:31 CET 2025\n",
      "+ hostname\n",
      "lrdn1065.leonardo.local\n",
      "+ nvidia-smi\n",
      "Tue Feb 25 01:08:31 2025       \n",
      "+---------------------------------------------------------------------------------------+\n",
      "| NVIDIA-SMI 530.30.02              Driver Version: 530.30.02    CUDA Version: 12.1     |\n",
      "|-----------------------------------------+----------------------+----------------------+\n",
      "| GPU  Name                  Persistence-M| Bus-Id        Disp.A | Volatile Uncorr. ECC |\n",
      "| Fan  Temp  Perf            Pwr:Usage/Cap|         Memory-Usage | GPU-Util  Compute M. |\n",
      "|                                         |                      |               MIG M. |\n",
      "|=========================================+======================+======================|\n",
      "|   0  NVIDIA A100-SXM-64GB            On | 00000000:1D:00.0 Off |                    0 |\n",
      "| N/A   42C    P0               64W / 485W|      0MiB / 65536MiB |      0%      Default |\n",
      "|                                         |                      |             Disabled |\n",
      "+-----------------------------------------+----------------------+----------------------+\n",
      "|   1  NVIDIA A100-SXM-64GB            On | 00000000:56:00.0 Off |                    0 |\n",
      "| N/A   43C    P0               63W / 469W|      0MiB / 65536MiB |      0%      Default |\n",
      "|                                         |                      |             Disabled |\n",
      "+-----------------------------------------+----------------------+----------------------+\n",
      "                                                                                         \n",
      "+---------------------------------------------------------------------------------------+\n",
      "| Processes:                                                                            |\n",
      "|  GPU   GI   CI        PID   Type   Process name                            GPU Memory |\n",
      "|        ID   ID                                                             Usage      |\n",
      "|=======================================================================================|\n",
      "|  No running processes found                                                           |\n",
      "+---------------------------------------------------------------------------------------+\n",
      "++ shuf -i 20000-30000 -n 1\n",
      "+ export MASTER_PORT=27595\n",
      "+ MASTER_PORT=27595\n",
      "++ head -n 1\n",
      "++ scontrol show hostnames 'lrdn[1065-1066]'\n",
      "+ export MASTER_ADDR=lrdn1065\n",
      "+ MASTER_ADDR=lrdn1065\n",
      "+ export OMP_NUM_THREADS=16\n",
      "+ OMP_NUM_THREADS=16\n",
      "+ export 'LAUNCHER=accelerate launch     --num_machines 2     --num_processes 4     --num_cpu_threads_per_process 8     --main_process_ip lrdn1065     --main_process_port 27595     --machine_rank $SLURM_PROCID     --config_file \"./tooling/config/accelerate_default_config.yaml\"     '\n",
      "+ LAUNCHER='accelerate launch     --num_machines 2     --num_processes 4     --num_cpu_threads_per_process 8     --main_process_ip lrdn1065     --main_process_port 27595     --machine_rank $SLURM_PROCID     --config_file \"./tooling/config/accelerate_default_config.yaml\"     '\n",
      "+ export PROGRAM=phi3_guanaco_accelerate.py\n",
      "+ PROGRAM=phi3_guanaco_accelerate.py\n",
      "+ srun bash -c 'accelerate launch     --num_machines 2     --num_processes 4     --num_cpu_threads_per_process 8     --main_process_ip lrdn1065     --main_process_port 27595     --machine_rank $SLURM_PROCID     --config_file \"./tooling/config/accelerate_default_config.yaml\"      phi3_guanaco_accelerate.py'\n",
      "Running on device: cuda:0\n",
      "Detected kernel version 4.18.0, which is below the recommended minimum of 5.5.0; this can cause the process to hang. It is recommended to upgrade the kernel to the minimum version or higher.\n",
      "`flash-attention` package not found, consider installing for better performance: No module named 'flash_attn'.\n",
      "Current `flash-attention` does not support `window_size`. Either upgrade or use `attn_implementation='eager'`.\n",
      "`flash-attention` package not found, consider installing for better performance: No module named 'flash_attn'.\n",
      "`low_cpu_mem_usage` was None, now default to True since model is quantized.\n",
      "Current `flash-attention` does not support `window_size`. Either upgrade or use `attn_implementation='eager'`.\n",
      "`low_cpu_mem_usage` was None, now default to True since model is quantized.\n",
      "Loading checkpoint shards:   0%|          | 0/2 [00:00<?, ?it/s]`flash-attention` package not found, consider installing for better performance: No module named 'flash_attn'.\n",
      "Current `flash-attention` does not support `window_size`. Either upgrade or use `attn_implementation='eager'`.\n",
      "`low_cpu_mem_usage` was None, now default to True since model is quantized.\n",
      "Loading checkpoint shards:   0%|          | 0/2 [00:00<?, ?it/s]`flash-attention` package not found, consider installing for better performance: No module named 'flash_attn'.\n",
      "Current `flash-attention` does not support `window_size`. Either upgrade or use `attn_implementation='eager'`.\n",
      "`low_cpu_mem_usage` was None, now default to True since model is quantized.\n",
      "Loading checkpoint shards: 100%|██████████| 2/2 [00:04<00:00,  2.41s/it]\n",
      "Loading checkpoint shards: 100%|██████████| 2/2 [00:03<00:00,  2.00s/it]\n",
      "Repo card metadata block was not found. Setting CardData to empty.\n",
      "Repo card metadata block was not found. Setting CardData to empty.\n",
      "Repo card metadata block was not found. Setting CardData to empty.\n",
      "Repo card metadata block was not found. Setting CardData to empty.\n",
      "Loading checkpoint shards: 100%|██████████| 2/2 [00:05<00:00,  2.77s/it]\n",
      "Loading checkpoint shards: 100%|██████████| 2/2 [00:04<00:00,  2.33s/it]\n",
      "Repo card metadata block was not found. Setting CardData to empty.\n",
      "Repo card metadata block was not found. Setting CardData to empty.\n",
      "[rank1]:[W225 01:09:06.024495300 ProcessGroupNCCL.cpp:4115] [PG ID 0 PG GUID 0 Rank 1]  using GPU 1 to perform barrier as devices used by this process are currently unknown. This can potentially cause a hang if this rank to GPU mapping is incorrect.Specify device_ids in barrier() to force use of a particular device,or call init_process_group() with a device_id.\n",
      "Repo card metadata block was not found. Setting CardData to empty.\n",
      "Repo card metadata block was not found. Setting CardData to empty.\n",
      "[rank0]:[W225 01:09:06.167706885 ProcessGroupNCCL.cpp:4115] [PG ID 0 PG GUID 0 Rank 0]  using GPU 0 to perform barrier as devices used by this process are currently unknown. This can potentially cause a hang if this rank to GPU mapping is incorrect.Specify device_ids in barrier() to force use of a particular device,or call init_process_group() with a device_id.\n",
      "[rank3]:[W225 01:09:06.088886393 ProcessGroupNCCL.cpp:4115] [PG ID 0 PG GUID 0 Rank 3]  using GPU 1 to perform barrier as devices used by this process are currently unknown. This can potentially cause a hang if this rank to GPU mapping is incorrect.Specify device_ids in barrier() to force use of a particular device,or call init_process_group() with a device_id.\n",
      "[rank2]:[W225 01:09:06.185924046 ProcessGroupNCCL.cpp:4115] [PG ID 0 PG GUID 0 Rank 2]  using GPU 0 to perform barrier as devices used by this process are currently unknown. This can potentially cause a hang if this rank to GPU mapping is incorrect.Specify device_ids in barrier() to force use of a particular device,or call init_process_group() with a device_id.\n",
      "Detected kernel version 4.18.0, which is below the recommended minimum of 5.5.0; this can cause the process to hang. It is recommended to upgrade the kernel to the minimum version or higher.\n",
      "[2025-02-25 01:09:07,129] [INFO] [real_accelerator.py:222:get_accelerator] Setting ds_accelerator to cuda (auto detect)\n",
      "[2025-02-25 01:09:07,129] [INFO] [real_accelerator.py:222:get_accelerator] Setting ds_accelerator to cuda (auto detect)\n",
      "[2025-02-25 01:09:07,152] [INFO] [real_accelerator.py:222:get_accelerator] Setting ds_accelerator to cuda (auto detect)\n",
      "[2025-02-25 01:09:07,152] [INFO] [real_accelerator.py:222:get_accelerator] Setting ds_accelerator to cuda (auto detect)\n",
      "trainable params: 25,165,824 || all params: 3,846,245,376 || trainable%: 0.6543\n",
      "You are not running the flash-attention implementation, expect numerical differences.\n",
      "You are not running the flash-attention implementation, expect numerical differences.\n",
      "You are not running the flash-attention implementation, expect numerical differences.\n",
      "You are not running the flash-attention implementation, expect numerical differences.\n",
      "Evaluation on test dataset before finetuning:\n",
      "{'eval_loss': 1.630933165550232, 'eval_model_preparation_time': 0.0037, 'eval_runtime': 12.4764, 'eval_samples_per_second': 41.518, 'eval_steps_per_second': 1.363}\n",
      "100%|██████████| 17/17 [00:10<00:00,  1.64it/s]\n",
      " 87%|████████▋ | 87/100 [00:45<00:06,  2.01it/{'train_runtime': 52.0472, 'train_samples_per_second': 15.371, 'train_steps_per_second': 1.921, 'train_loss': 1.2388738250732423, 'epoch': 0.08}\n",
      "100%|██████████| 100/100 [00:51<00:00,  1.92it/s]\n",
      "Training result:\n",
      "TrainOutput(global_step=100, training_loss=1.2388738250732423, metrics={'train_runtime': 52.0472, 'train_samples_per_second': 15.371, 'train_steps_per_second': 1.921, 'total_flos': 7775281301422080.0, 'train_loss': 1.2388738250732423, 'epoch': 0.08123476848090982})\n",
      "100%|██████████| 17/17 [00:10<00:00,  1.67it/s]\n",
      "Evaluation on test dataset after finetuning:\n",
      "{'eval_loss': 1.2084568738937378, 'eval_model_preparation_time': 0.0037, 'eval_runtime': 10.8504, 'eval_samples_per_second': 47.74, 'eval_steps_per_second': 1.567, 'epoch': 0.08123476848090982}\n",
      "Memory occupied on GPUs: 18.1 + 17.0 GB.\n",
      "Memory occupied on GPUs: 11.3 + 14.1 GB.\n",
      "\n",
      "real\t1m54.808s\n",
      "user\t0m0.265s\n",
      "sys\t0m0.010s\n"
     ]
    }
   ],
   "source": [
    "!cat slurm-12961611.out"
   ]
  },
  {
   "cell_type": "markdown",
   "id": "8bbfef9e-0d43-41d0-ac18-954d73e7075c",
   "metadata": {},
   "source": [
    "#### Before we close the notebook, we should clean up the files created:"
   ]
  },
  {
   "cell_type": "code",
   "execution_count": 46,
   "id": "aab5d70f-70a6-4ee0-a080-c51bd0358dbb",
   "metadata": {},
   "outputs": [
    {
     "name": "stdout",
     "output_type": "stream",
     "text": [
      "rm: cannot remove '*.yaml': No such file or directory\n"
     ]
    }
   ],
   "source": [
    "!rm phi3_guanaco_accelerate.py run_phi3_guanaco_accelerate_1gpu.slurm run_phi3_guanaco_accelerate_multigpu.slurm slurm-*.out *.yaml"
   ]
  },
  {
   "cell_type": "code",
   "execution_count": null,
   "id": "c9452e84-1d1d-4669-a688-9cdaf25daf6a",
   "metadata": {},
   "outputs": [],
   "source": []
  }
 ],
 "metadata": {
  "kernelspec": {
   "display_name": "Python 3 (ipykernel)",
   "language": "python",
   "name": "python3"
  },
  "language_info": {
   "codemirror_mode": {
    "name": "ipython",
    "version": 3
   },
   "file_extension": ".py",
   "mimetype": "text/x-python",
   "name": "python",
   "nbconvert_exporter": "python",
   "pygments_lexer": "ipython3",
   "version": "3.11.11"
  }
 },
 "nbformat": 4,
 "nbformat_minor": 5
}
