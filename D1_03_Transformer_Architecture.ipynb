{
 "cells": [
  {
   "cell_type": "markdown",
   "id": "48a2dcdc-5f78-4553-a255-080bc7574cd3",
   "metadata": {},
   "source": [
    "# Transformer Anatomy\n",
    "\n",
    "The Transformer architecture, introduced in the paper \"Attention is All You Need\" by Vaswani et al., 2017, has revolutionized the field of NLP. Unlike previous models that relied on recurrent or convolutional layers, Transformers use self-attention mechanisms to capture dependencies between words in a sentence, regardless of their distance.\n",
    "\n",
    "### Key Components of the Transformer Architecture:\n",
    "\n",
    "1. **Positional Encoding**: Adds information about the position of words in a sequence since the model itself does not inherently understand word order.\n",
    "2. **Self-Attention Mechanism**: Allows the model to weigh the importance of each word in a sentence relative to all other words.\n",
    "3. **Multi-Head Attention**: Enables the model to focus on different parts of the input simultaneously.\n",
    "4. **Layer Normalization and Residual Connections**: Stabilizes training and helps with gradient flow.\n",
    "5. **Feed-Forward Neural Networks**: Applies a point-wise feed-forward layer to each position independently and destilles the information further to output probabilities.\n",
    "\n",
    "Let's explore each of these components in detail and understand how they work together to create powerful language models."
   ]
  },
  {
   "cell_type": "markdown",
   "id": "1a2a6418-583d-4787-b410-18e97b74afdc",
   "metadata": {},
   "source": [
    "## Self-Attention Mechanism\n",
    "\n",
    "The self-attention mechanism is the core component of the Transformer architecture. It allows the model to dynamically assign different levels of importance to different words in a sentence when encoding a particular word.\n",
    "\n",
    "### How Self-Attention Works:\n",
    "\n",
    "1. **Input Embeddings**: Before we can apply self-attention, the input words must first be converted into embeddings (dense vector representations).\n",
    "2. **Query, Key, and Value Vectors**: For each word, the model creates three vectors: a Query vector (Q), a Key vector (K), and a Value vector (V).\n",
    "3. **Attention Scores**: The attention score is computed as the dot product of the Query vector of a word with the Key vectors of all words. This score determines how much focus should be on the other words.\n",
    "4. **Weighted Sum**: Each word's output representation is computed as a weighted sum of the Value vectors, where the weights are the normalized attention scores.\n",
    "5. **Softmax Normalization**: After the attention heads, the scores are passed through a softmax function to convert them into probabilities.\n",
    "\n",
    "### Visualizing Self-Attention\n",
    "\n",
    "Let's visualize how the self-attention mechanism works for a simple sentence.\n"
   ]
  },
  {
   "cell_type": "code",
   "execution_count": null,
   "id": "fec12499-686a-44f4-946c-32e12b30be3b",
   "metadata": {},
   "outputs": [],
   "source": [
    "# Import required libraries\n",
    "import torch\n",
    "import torch.nn.functional as F\n",
    "import math"
   ]
  },
  {
   "cell_type": "code",
   "execution_count": null,
   "id": "55685b95-6dd3-49df-95c0-b50b504a49f2",
   "metadata": {},
   "outputs": [],
   "source": [
    "# Example sentence and tokens\n",
    "sentence = \"Transformers are revolutionary in NLP.\"\n",
    "tokens = [\"Transformers\", \"are\", \"revolutionary\", \"in\", \"NLP\"]"
   ]
  },
  {
   "cell_type": "code",
   "execution_count": null,
   "id": "c785b3ac-0477-49ab-ac96-d52f179ad192",
   "metadata": {},
   "outputs": [],
   "source": [
    "# Embedding dimension\n",
    "embedding_dim = 8\n",
    "\n",
    "# Random input embeddings (for illustration purposes)\n",
    "torch.manual_seed(42)\n",
    "input_embeddings = torch.randn(len(tokens), embedding_dim)"
   ]
  },
  {
   "cell_type": "code",
   "execution_count": null,
   "id": "d759c400-2430-4d6f-96ea-8f1df5b58653",
   "metadata": {},
   "outputs": [],
   "source": [
    "# In this example we end up with a 5x8 matrix\n",
    "input_embeddings"
   ]
  },
  {
   "cell_type": "code",
   "execution_count": null,
   "id": "3f987c5e-2b8f-4a1e-a508-aa3c8994c548",
   "metadata": {},
   "outputs": [],
   "source": [
    "# Initialize Query, Key, and Value weight matrices\n",
    "Q = torch.randn(embedding_dim, embedding_dim)\n",
    "K = torch.randn(embedding_dim, embedding_dim)\n",
    "V = torch.randn(embedding_dim, embedding_dim)"
   ]
  },
  {
   "cell_type": "code",
   "execution_count": null,
   "id": "84aedcd8-a1ce-4da2-bba2-ec05ada89ba3",
   "metadata": {},
   "outputs": [],
   "source": [
    "# Compute Query, Key, and Value vectors\n",
    "queries = input_embeddings @ Q\n",
    "keys = input_embeddings @ K\n",
    "values = input_embeddings @ V"
   ]
  },
  {
   "cell_type": "code",
   "execution_count": null,
   "id": "788cd987-4b13-4075-a850-a84ee8fc130f",
   "metadata": {},
   "outputs": [],
   "source": [
    "# Calculate attention scores using dot product of queries and keys\n",
    "attention_scores = queries @ keys.T\n",
    "\n",
    "# Apply softmax to normalize the scores\n",
    "attention_weights = F.softmax(attention_scores/math.sqrt(embedding_dim), dim=-1)"
   ]
  },
  {
   "cell_type": "code",
   "execution_count": null,
   "id": "8c207b2d-273a-4d62-9f3f-969a79c80677",
   "metadata": {},
   "outputs": [],
   "source": [
    "# Compute the weighted sum of values\n",
    "output = attention_weights @ values\n",
    "\n",
    "# Display the attention weights\n",
    "print(\"Attention Weights:\\n\", attention_weights)"
   ]
  },
  {
   "cell_type": "code",
   "execution_count": null,
   "id": "d8c55855-0ee7-4c35-b822-eb47f57786e8",
   "metadata": {},
   "outputs": [],
   "source": [
    "from transformers import AutoTokenizer\n",
    "from bertviz.transformers_neuron_view import BertModel\n",
    "from bertviz.neuron_view import show"
   ]
  },
  {
   "cell_type": "code",
   "execution_count": null,
   "id": "a1773444-9968-41c9-b81e-6e3f3e225649",
   "metadata": {},
   "outputs": [],
   "source": [
    "model_dir = \"/leonardo_scratch/fast/EUHPC_D20_063/huggingface/models/google--bert-base-uncased\"\n",
    "tokenizer = AutoTokenizer.from_pretrained(model_dir)\n",
    "model = BertModel.from_pretrained(model_dir)"
   ]
  },
  {
   "cell_type": "code",
   "execution_count": null,
   "id": "08dbf1ee-d545-4a8a-9cfb-bb2df3f4ee79",
   "metadata": {},
   "outputs": [],
   "source": [
    "text = \"The woman at the bus stop looked really cheerful.\""
   ]
  },
  {
   "cell_type": "code",
   "execution_count": null,
   "id": "14eb4fd6-6478-40a3-bbbc-cac5fdf88ff4",
   "metadata": {},
   "outputs": [],
   "source": [
    "show(model, \"bert\", tokenizer, text, display_mode=\"light\", layer=11, head=8)"
   ]
  },
  {
   "cell_type": "markdown",
   "id": "b8399995-3f3a-44fb-a3f9-322338475a4d",
   "metadata": {},
   "source": [
    "## Multi-Head Attention\n",
    "\n",
    "The multi-head attention mechanism allows the model to focus on different parts of the input simultaneously. Instead of having a single attention mechanism, the model uses multiple attention \"heads\" in parallel. Each head can learn different aspects of the input.\n",
    "\n",
    "### How Multi-Head Attention Works:\n",
    "\n",
    "1. The input is projected into multiple sets of Query, Key, and Value vectors.\n",
    "2. Each set of vectors is processed independently through a self-attention mechanism.\n",
    "3. The outputs from each head are concatenated and projected back into a single vector space.\n",
    "\n",
    "This approach provides the model with a richer understanding of the input by capturing different types of relationships between words.\n",
    "\n",
    "### Example: Multi-Head Attention\n",
    "Let's visualize how multi-head attention works using multiple attention heads.\n"
   ]
  },
  {
   "cell_type": "code",
   "execution_count": null,
   "id": "2ab9e0c3-6ca4-4909-88ca-85910c43cfd1",
   "metadata": {},
   "outputs": [],
   "source": [
    "# Number of attention heads\n",
    "num_heads = 2\n",
    "\n",
    "# Initialize weight matrices for each head\n",
    "Q_heads = [torch.randn(embedding_dim, embedding_dim) for _ in range(num_heads)]\n",
    "K_heads = [torch.randn(embedding_dim, embedding_dim) for _ in range(num_heads)]\n",
    "V_heads = [torch.randn(embedding_dim, embedding_dim) for _ in range(num_heads)]"
   ]
  },
  {
   "cell_type": "code",
   "execution_count": null,
   "id": "aa5d3b8f-713b-4dfb-a276-eeed1d3b6ae9",
   "metadata": {},
   "outputs": [],
   "source": [
    "# Compute outputs for each head\n",
    "head_outputs = []\n",
    "for i in range(num_heads):\n",
    "    queries = input_embeddings @ Q_heads[i]\n",
    "    keys = input_embeddings @ K_heads[i]\n",
    "    values = input_embeddings @ V_heads[i]\n",
    "    \n",
    "    # Calculate attention scores and apply softmax\n",
    "    attention_scores = queries @ keys.T\n",
    "    attention_weights = F.softmax(attention_scores/math.sqrt(embedding_dim), dim=-1)\n",
    "    \n",
    "    # Compute the weighted sum of values\n",
    "    output = attention_weights @ values\n",
    "    head_outputs.append(output)"
   ]
  },
  {
   "cell_type": "code",
   "execution_count": null,
   "id": "c897be67-1f30-4df4-884b-59730fa006cc",
   "metadata": {},
   "outputs": [],
   "source": [
    "# Concatenate outputs from all heads\n",
    "multi_head_output = torch.cat(head_outputs, dim=-1)\n",
    "\n",
    "# Display multi-head attention output\n",
    "print(\"Multi-Head Attention Output:\\n\", multi_head_output)"
   ]
  },
  {
   "cell_type": "code",
   "execution_count": null,
   "id": "a6b3b520-7199-465a-9f3e-04638a1f3814",
   "metadata": {},
   "outputs": [],
   "source": [
    "from bertviz import head_view\n",
    "from transformers import AutoModel"
   ]
  },
  {
   "cell_type": "code",
   "execution_count": null,
   "id": "a5e340d9-5c4a-4173-8ad8-3f0ef0cc94c1",
   "metadata": {},
   "outputs": [],
   "source": [
    "model = AutoModel.from_pretrained(model_dir, output_attentions=True)"
   ]
  },
  {
   "cell_type": "code",
   "execution_count": null,
   "id": "51ab53be-b1fe-4b46-a925-d713f3614209",
   "metadata": {},
   "outputs": [],
   "source": [
    "sentence_1 = \"time flies like an arrow\"\n",
    "sentence_2 = \"fruit flies like a banana\""
   ]
  },
  {
   "cell_type": "code",
   "execution_count": null,
   "id": "fb696c74-befd-468b-bb41-08ff5239bdda",
   "metadata": {},
   "outputs": [],
   "source": [
    "viz_inputs = tokenizer(sentence_1, sentence_2, return_tensors=\"pt\")\n",
    "attention = model(**viz_inputs).attentions\n",
    "sentence_2_start = (viz_inputs.token_type_ids == 0).sum(dim=1)\n",
    "tokens = tokenizer.convert_ids_to_tokens(viz_inputs.input_ids[0])"
   ]
  },
  {
   "cell_type": "code",
   "execution_count": null,
   "id": "1085e2fc-d21e-4b89-ac62-4d40262af636",
   "metadata": {},
   "outputs": [],
   "source": [
    "head_view(attention, tokens, sentence_2_start, heads=[8])"
   ]
  },
  {
   "cell_type": "markdown",
   "id": "1e11aba7-5d36-4e39-a90f-ea27d42f2882",
   "metadata": {
    "jp-MarkdownHeadingCollapsed": true
   },
   "source": [
    "## Feed-Forward Neural Networks\n",
    "\n",
    "Each position's output from the multi-head attention mechanism is passed through a point-wise feed-forward neural network. This consists of two linear transformations with a ReLU activation in between.\n",
    "\n",
    "### Example: Feed-Forward Network\n",
    "Let's implement a simple feed-forward network."
   ]
  },
  {
   "cell_type": "code",
   "execution_count": null,
   "id": "110b82cc-6d53-4522-a459-62a20656f4ce",
   "metadata": {},
   "outputs": [],
   "source": [
    "# Define feed-forward neural network\n",
    "class FeedForwardNN(torch.nn.Module):\n",
    "    def __init__(self, input_dim, hidden_dim):\n",
    "        super(FeedForwardNN, self).__init__()\n",
    "        self.linear1 = torch.nn.Linear(input_dim, hidden_dim)\n",
    "        self.relu = torch.nn.ReLU()\n",
    "        self.linear2 = torch.nn.Linear(hidden_dim, input_dim)\n",
    "    \n",
    "    def forward(self, x):\n",
    "        return self.linear2(self.relu(self.linear1(x)))"
   ]
  },
  {
   "cell_type": "code",
   "execution_count": null,
   "id": "7c3d922e-283c-4567-8ded-db2e52265560",
   "metadata": {},
   "outputs": [],
   "source": [
    "# Instantiate and apply the feed-forward network\n",
    "ffn = FeedForwardNN(input_dim=embedding_dim * num_heads, hidden_dim=32)\n",
    "ffn_output = ffn(multi_head_output)\n",
    "\n",
    "# Display the feed-forward network output\n",
    "print(\"Feed-Forward Network Output:\\n\", ffn_output)"
   ]
  },
  {
   "cell_type": "markdown",
   "id": "9ca96b7b-d1b4-4b65-a95a-9d4e220f8c88",
   "metadata": {
    "jp-MarkdownHeadingCollapsed": true
   },
   "source": [
    "## Layer Normalization and Residual Connections\n",
    "\n",
    "Layer normalization is used to stabilize training by normalizing the inputs to each layer. Residual connections help maintain gradient flow through the network, enabling deeper architectures.\n",
    "\n",
    "### Example: Adding Layer Normalization and Residual Connections\n",
    "Let's see how these components are added to the Transformer block.\n"
   ]
  },
  {
   "cell_type": "code",
   "execution_count": null,
   "id": "0ed5179f-ebc2-4a06-aa91-1fbe79547f86",
   "metadata": {},
   "outputs": [],
   "source": [
    "# Define Layer Normalization\n",
    "layer_norm = torch.nn.LayerNorm(embedding_dim * num_heads)\n",
    "\n",
    "# Add residual connection and apply layer normalization\n",
    "residual_output = layer_norm(multi_head_output + ffn_output)\n",
    "\n",
    "# Display the final output with residual connection\n",
    "print(\"Output with Residual Connections:\\n\", residual_output)"
   ]
  },
  {
   "cell_type": "markdown",
   "id": "d4602fe3-732c-4882-9715-f9c41cf382c5",
   "metadata": {
    "jp-MarkdownHeadingCollapsed": true
   },
   "source": [
    "## Positional Encoding\n",
    "\n",
    "Since the Transformer does not inherently capture the order of words, positional encoding is added to provide the model with information about the relative position of words in a sentence.\n",
    "\n",
    "### Example: Implementing Positional Encoding\n",
    "Let's implement positional encoding for a sequence of words.\n"
   ]
  },
  {
   "cell_type": "code",
   "execution_count": null,
   "id": "a93fb9d4-2f26-4ddb-a5d4-476d79eb46a8",
   "metadata": {},
   "outputs": [],
   "source": [
    "import numpy as np\n",
    "\n",
    "def positional_encoding(seq_len, model_dim):\n",
    "    pos_enc = np.zeros((seq_len, model_dim))\n",
    "    for pos in range(seq_len):\n",
    "        for i in range(0, model_dim, 2):\n",
    "            pos_enc[pos, i] = np.sin(pos / (10000 ** (2 * i / model_dim)))\n",
    "            pos_enc[pos, i + 1] = np.cos(pos / (10000 ** (2 * i / model_dim)))\n",
    "    return torch.tensor(pos_enc, dtype=torch.float)"
   ]
  },
  {
   "cell_type": "code",
   "execution_count": null,
   "id": "5f8cd123-65df-4cf3-a60b-a7a5b19b2862",
   "metadata": {},
   "outputs": [],
   "source": [
    "# Random input embeddings (for illustration purposes)\n",
    "torch.manual_seed(42)\n",
    "input_embeddings = torch.randn(len(tokens), embedding_dim)"
   ]
  },
  {
   "cell_type": "code",
   "execution_count": null,
   "id": "13c51fae-f4fd-4f9b-b6b1-d71124f1629f",
   "metadata": {},
   "outputs": [],
   "source": [
    "# Apply positional encoding\n",
    "position_encodings = positional_encoding(len(tokens), embedding_dim)\n",
    "\n",
    "# Add positional encoding to input embeddings\n",
    "encoded_input = input_embeddings + position_encodings\n",
    "\n",
    "print(\"Positional Encodings:\\n\", position_encodings)\n",
    "print(\"Encoded Input with Positional Information:\\n\", encoded_input)"
   ]
  },
  {
   "cell_type": "markdown",
   "id": "0def0ae9-1661-4364-9a86-019ae9394d63",
   "metadata": {},
   "source": [
    "## Conclusion\n",
    "\n",
    "In this notebook, we explored the key components of the Transformer architecture, including self-attention, multi-head attention, feed-forward networks, layer normalization, and positional encoding. These components work together to form the basis of modern NLP models."
   ]
  },
  {
   "cell_type": "code",
   "execution_count": null,
   "id": "328d6745-120e-4a35-af72-056526046a8f",
   "metadata": {},
   "outputs": [],
   "source": [
    "# Shut down the kernel to release memory\n",
    "import IPython\n",
    "\n",
    "app = IPython.Application.instance()\n",
    "app.kernel.do_shutdown(restart=False)"
   ]
  }
 ],
 "metadata": {
  "kernelspec": {
   "display_name": "Python 3 (ipykernel)",
   "language": "python",
   "name": "python3"
  },
  "language_info": {
   "codemirror_mode": {
    "name": "ipython",
    "version": 3
   },
   "file_extension": ".py",
   "mimetype": "text/x-python",
   "name": "python",
   "nbconvert_exporter": "python",
   "pygments_lexer": "ipython3",
   "version": "3.11.11"
  }
 },
 "nbformat": 4,
 "nbformat_minor": 5
}
