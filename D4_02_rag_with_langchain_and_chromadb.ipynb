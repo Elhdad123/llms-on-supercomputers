{
 "cells": [
  {
   "cell_type": "markdown",
   "id": "ba06737c-2448-4d51-9da2-fdbdc9a58c03",
   "metadata": {},
   "source": [
    "### RAG Introduction with Langchain/Chromadb and LLAMACPP (OPENAI-API)\n",
    "\n",
    "Here we built a RAG Application using library provided functions. \n",
    "We we will use \n",
    "- [LLAMA.CPP](https://github.com/ggml-org/llama.cpp) as the engine\n",
    "  to run embedding and large language models.\n",
    "- [ChromaDB](https://www.trychroma.com/) as an open source vector\n",
    "  database\n",
    "- [LangChain](https://python.langchain.com) as prompt engineering, RAG\n",
    "  framework\n",
    "\n",
    "We implement a chatbot that shall correspond with a PDF file of the \n",
    "following article about the evolution of the omicron COVID-19 variant\n",
    "in France: [Retrospective analysis of SARS-CoV-2 omicron invasion over delta in French regions in 2021–22: a status-based multi-variant model](https://bmcinfectdis.biomedcentral.com/articles/10.1186/s12879-022-07821-5)\n",
    "\n",
    "As such we have downloaded the PDF version of the Article and converted it\n",
    "to plain text with `pdftotext` which comes with the [Poppler library](https://poppler.freedesktop.org/). The resulting file is provided as `s12879-022-07821-5.txt\n",
    "\n",
    "For this course we need to run models using the [LLAMA.CPP](https://github.com/ggml-org/llama.cpp) engine in the background.\n",
    "We shall serve the `all-MiniLM-L6-v2` embedding model:\n",
    "```\n",
    "llama-server -m all-MiniLM-L6-v2-Q8_0.gguf --host localhost --port 8081 --embedding\n",
    "```\n",
    "and the `Llama-3.2-3B-Instruct` LLM:\n",
    "```\n",
    "llama-server -m Llama-3.2-3B-Instruct-Q8_0.gguf -c 10000 --host localhost --port 8080\n",
    "``` \n",
    "with a maximum context size of 10000."
   ]
  },
  {
   "cell_type": "markdown",
   "id": "0ec44552-c8c3-451d-b12c-9c0151b9af3c",
   "metadata": {},
   "source": [
    "Here we start with a general initialization of our system. As multiple participents of this course run their code on the same node we want to generate random port numbers to provide our REST services. Further we obtain the systems an IP address to bind our REST servers (embedding, llm) to."
   ]
  },
  {
   "cell_type": "code",
   "execution_count": 1,
   "id": "8863f1e7-23b9-4bff-b08f-a0c0be29bc96",
   "metadata": {},
   "outputs": [],
   "source": [
    "import random\n",
    "import socket\n",
    "ip = socket.gethostbyname(socket.gethostname())\n",
    "embedding_port = str(random.randint(40000,50000))\n",
    "llm_port = str(random.randint(40000,50000))"
   ]
  },
  {
   "cell_type": "markdown",
   "id": "ed0eb98b-9899-4115-b42d-72a05adc004d",
   "metadata": {},
   "source": [
    "We launch the rest servers (llama-cpp) in background."
   ]
  },
  {
   "cell_type": "code",
   "execution_count": 2,
   "id": "f36de1f2-9716-48eb-8cb8-b9674c7819d9",
   "metadata": {},
   "outputs": [],
   "source": [
    "from subprocess import Popen, DEVNULL\n",
    "\n",
    "public_root = '/leonardo/pub/userexternal/thaschka/'\n",
    "llama_cpp_server = public_root + 'llama.cpp/bin/llama-server'\n",
    "llm_model = public_root + 'llm/llama-3.1-8B-I-Q8.gguf'\n",
    "embedding_model = public_root + 'embed/all-MiniLM-L6-v2-Q8_0.gguf' \n",
    "\n",
    "embedding_process = Popen([llama_cpp_server, \n",
    "                           '-m', embedding_model, \n",
    "                           '--host', ip, \n",
    "                           '--port', embedding_port, \n",
    "                           '--embedding'],\n",
    "                          stdout=DEVNULL,\n",
    "                          stderr=DEVNULL)\n",
    "\n",
    "llm_process = Popen([llama_cpp_server,\n",
    "                     '-m', llm_model,\n",
    "                     '--host', ip,\n",
    "                     '--port', llm_port,\n",
    "                     '-c', '10000',\n",
    "                     '-ngl', '32'],\n",
    "                     stdout=DEVNULL,\n",
    "                     stderr=DEVNULL)"
   ]
  },
  {
   "cell_type": "markdown",
   "id": "bd4ac7d7-ac65-4000-bda5-dd1733d2a5c2",
   "metadata": {},
   "source": [
    "Just to assure that we have the right encoding on the machine we set everything to UTF-8"
   ]
  },
  {
   "cell_type": "code",
   "execution_count": 3,
   "id": "b63191a7-1a62-491a-be36-c0b6284ca7ac",
   "metadata": {},
   "outputs": [],
   "source": [
    "import locale\n",
    "locale.getpreferredencoding = lambda: \"UTF-8\""
   ]
  },
  {
   "cell_type": "code",
   "execution_count": 4,
   "id": "9328c75a-92a8-4eb1-9238-bba9eac3e1e0",
   "metadata": {},
   "outputs": [],
   "source": [
    "from textwrap import wrap\n",
    "f = open(public_root + 's12879-022-07821-5.txt','r')\n",
    "text = f.read()\n",
    "wrapped_text = wrap(text,1000)\n",
    "f.close()"
   ]
  },
  {
   "cell_type": "markdown",
   "id": "a9d4c79c-e16b-44df-b91a-3e2b97d27cc4",
   "metadata": {},
   "source": [
    "We wrapped the text into chunks of containing a maximum of 1000 characters each. *wrap* stops at spaces, and hence the chunks are a bit smaller. We have obtained 53 such chunks."
   ]
  },
  {
   "cell_type": "markdown",
   "id": "1cd3f86b-7051-4e20-a715-28cb04d640e1",
   "metadata": {},
   "source": [
    "Langchain provides us with the REST api to talk to our local llama.cpp models. \n",
    "As llama.cpp uses the same API as OPENAI we can use the OPENAI model. \n",
    "There are however some quirks with the embedding API, which should be compatible, \n",
    "but is not, as such we use langchain's LocalAIEmbeddings API for the embeddings,\n",
    "which works together with our llama.cpp server. "
   ]
  },
  {
   "cell_type": "code",
   "execution_count": 5,
   "id": "de2fc388-b238-4e67-84f8-2bef7dfa600d",
   "metadata": {
    "scrolled": true
   },
   "outputs": [
    {
     "name": "stdout",
     "output_type": "stream",
     "text": [
      "Defaulting to user installation because normal site-packages is not writeable\n",
      "Requirement already satisfied: langchain_localai in /leonardo/home/usertrain/a08trb34/one-click-hpc-access-home-trainee34/.local/lib/python3.11/site-packages (0.1.2)\n",
      "Requirement already satisfied: langchain-core<0.4.0,>=0.3.15 in /leonardo/home/usertrain/a08trb34/one-click-hpc-access-home-trainee34/.local/lib/python3.11/site-packages (from langchain_localai) (0.3.75)\n",
      "Requirement already satisfied: openai<2.0,>=1.30.0 in /leonardo/pub/userexternal/sharriso/conda_env_simeon25_10/lib/python3.11/site-packages (from langchain_localai) (1.101.0)\n",
      "Requirement already satisfied: langsmith>=0.3.45 in /leonardo/pub/userexternal/sharriso/conda_env_simeon25_10/lib/python3.11/site-packages (from langchain-core<0.4.0,>=0.3.15->langchain_localai) (0.4.16)\n",
      "Requirement already satisfied: tenacity!=8.4.0,<10.0.0,>=8.1.0 in /leonardo/pub/userexternal/sharriso/conda_env_simeon25_10/lib/python3.11/site-packages (from langchain-core<0.4.0,>=0.3.15->langchain_localai) (9.1.2)\n",
      "Requirement already satisfied: jsonpatch<2.0,>=1.33 in /leonardo/pub/userexternal/sharriso/conda_env_simeon25_10/lib/python3.11/site-packages (from langchain-core<0.4.0,>=0.3.15->langchain_localai) (1.33)\n",
      "Requirement already satisfied: PyYAML>=5.3 in /leonardo/pub/userexternal/sharriso/conda_env_simeon25_10/lib/python3.11/site-packages (from langchain-core<0.4.0,>=0.3.15->langchain_localai) (6.0.2)\n",
      "Requirement already satisfied: typing-extensions>=4.7 in /leonardo/pub/userexternal/sharriso/conda_env_simeon25_10/lib/python3.11/site-packages (from langchain-core<0.4.0,>=0.3.15->langchain_localai) (4.14.1)\n",
      "Requirement already satisfied: packaging>=23.2 in /leonardo/pub/userexternal/sharriso/conda_env_simeon25_10/lib/python3.11/site-packages (from langchain-core<0.4.0,>=0.3.15->langchain_localai) (25.0)\n",
      "Requirement already satisfied: pydantic>=2.7.4 in /leonardo/pub/userexternal/sharriso/conda_env_simeon25_10/lib/python3.11/site-packages (from langchain-core<0.4.0,>=0.3.15->langchain_localai) (2.11.7)\n",
      "Requirement already satisfied: jsonpointer>=1.9 in /leonardo/pub/userexternal/sharriso/conda_env_simeon25_10/lib/python3.11/site-packages (from jsonpatch<2.0,>=1.33->langchain-core<0.4.0,>=0.3.15->langchain_localai) (3.0.0)\n",
      "Requirement already satisfied: anyio<5,>=3.5.0 in /leonardo/pub/userexternal/sharriso/conda_env_simeon25_10/lib/python3.11/site-packages (from openai<2.0,>=1.30.0->langchain_localai) (4.10.0)\n",
      "Requirement already satisfied: distro<2,>=1.7.0 in /leonardo/pub/userexternal/sharriso/conda_env_simeon25_10/lib/python3.11/site-packages (from openai<2.0,>=1.30.0->langchain_localai) (1.9.0)\n",
      "Requirement already satisfied: httpx<1,>=0.23.0 in /leonardo/pub/userexternal/sharriso/conda_env_simeon25_10/lib/python3.11/site-packages (from openai<2.0,>=1.30.0->langchain_localai) (0.28.1)\n",
      "Requirement already satisfied: jiter<1,>=0.4.0 in /leonardo/pub/userexternal/sharriso/conda_env_simeon25_10/lib/python3.11/site-packages (from openai<2.0,>=1.30.0->langchain_localai) (0.10.0)\n",
      "Requirement already satisfied: sniffio in /leonardo/pub/userexternal/sharriso/conda_env_simeon25_10/lib/python3.11/site-packages (from openai<2.0,>=1.30.0->langchain_localai) (1.3.1)\n",
      "Requirement already satisfied: tqdm>4 in /leonardo/pub/userexternal/sharriso/conda_env_simeon25_10/lib/python3.11/site-packages (from openai<2.0,>=1.30.0->langchain_localai) (4.67.1)\n",
      "Requirement already satisfied: idna>=2.8 in /leonardo/pub/userexternal/sharriso/conda_env_simeon25_10/lib/python3.11/site-packages (from anyio<5,>=3.5.0->openai<2.0,>=1.30.0->langchain_localai) (3.10)\n",
      "Requirement already satisfied: certifi in /leonardo/pub/userexternal/sharriso/conda_env_simeon25_10/lib/python3.11/site-packages (from httpx<1,>=0.23.0->openai<2.0,>=1.30.0->langchain_localai) (2025.8.3)\n",
      "Requirement already satisfied: httpcore==1.* in /leonardo/pub/userexternal/sharriso/conda_env_simeon25_10/lib/python3.11/site-packages (from httpx<1,>=0.23.0->openai<2.0,>=1.30.0->langchain_localai) (1.0.9)\n",
      "Requirement already satisfied: h11>=0.16 in /leonardo/pub/userexternal/sharriso/conda_env_simeon25_10/lib/python3.11/site-packages (from httpcore==1.*->httpx<1,>=0.23.0->openai<2.0,>=1.30.0->langchain_localai) (0.16.0)\n",
      "Requirement already satisfied: annotated-types>=0.6.0 in /leonardo/pub/userexternal/sharriso/conda_env_simeon25_10/lib/python3.11/site-packages (from pydantic>=2.7.4->langchain-core<0.4.0,>=0.3.15->langchain_localai) (0.7.0)\n",
      "Requirement already satisfied: pydantic-core==2.33.2 in /leonardo/pub/userexternal/sharriso/conda_env_simeon25_10/lib/python3.11/site-packages (from pydantic>=2.7.4->langchain-core<0.4.0,>=0.3.15->langchain_localai) (2.33.2)\n",
      "Requirement already satisfied: typing-inspection>=0.4.0 in /leonardo/pub/userexternal/sharriso/conda_env_simeon25_10/lib/python3.11/site-packages (from pydantic>=2.7.4->langchain-core<0.4.0,>=0.3.15->langchain_localai) (0.4.1)\n",
      "Requirement already satisfied: orjson>=3.9.14 in /leonardo/pub/userexternal/sharriso/conda_env_simeon25_10/lib/python3.11/site-packages (from langsmith>=0.3.45->langchain-core<0.4.0,>=0.3.15->langchain_localai) (3.11.2)\n",
      "Requirement already satisfied: requests-toolbelt>=1.0.0 in /leonardo/pub/userexternal/sharriso/conda_env_simeon25_10/lib/python3.11/site-packages (from langsmith>=0.3.45->langchain-core<0.4.0,>=0.3.15->langchain_localai) (1.0.0)\n",
      "Requirement already satisfied: requests>=2.0.0 in /leonardo/pub/userexternal/sharriso/conda_env_simeon25_10/lib/python3.11/site-packages (from langsmith>=0.3.45->langchain-core<0.4.0,>=0.3.15->langchain_localai) (2.32.5)\n",
      "Requirement already satisfied: zstandard>=0.23.0 in /leonardo/pub/userexternal/sharriso/conda_env_simeon25_10/lib/python3.11/site-packages (from langsmith>=0.3.45->langchain-core<0.4.0,>=0.3.15->langchain_localai) (0.24.0)\n",
      "Requirement already satisfied: charset_normalizer<4,>=2 in /leonardo/pub/userexternal/sharriso/conda_env_simeon25_10/lib/python3.11/site-packages (from requests>=2.0.0->langsmith>=0.3.45->langchain-core<0.4.0,>=0.3.15->langchain_localai) (3.4.3)\n",
      "Requirement already satisfied: urllib3<3,>=1.21.1 in /leonardo/pub/userexternal/sharriso/conda_env_simeon25_10/lib/python3.11/site-packages (from requests>=2.0.0->langsmith>=0.3.45->langchain-core<0.4.0,>=0.3.15->langchain_localai) (2.5.0)\n"
     ]
    }
   ],
   "source": [
    "# install packages\n",
    "!pip install langchain_localai\n",
    "\n",
    "from langchain_openai import ChatOpenAI\n",
    "from langchain_localai import LocalAIEmbeddings\n",
    "llm = ChatOpenAI(openai_api_base='http://' + ip + ':' + llm_port + '/v1',\n",
    "                openai_api_key=\"whatever\")"
   ]
  },
  {
   "cell_type": "markdown",
   "id": "a829e237-16c6-4585-af74-f508418658fe",
   "metadata": {},
   "source": [
    "Let us try thing out: "
   ]
  },
  {
   "cell_type": "code",
   "execution_count": 6,
   "id": "3dc31b59-e264-4d07-ab23-fa6b924666d0",
   "metadata": {},
   "outputs": [
    {
     "name": "stdout",
     "output_type": "stream",
     "text": [
      "content=\"I'm just a language model, I don't have emotions or feelings, but I'm functioning properly and ready to help you with any questions or tasks you may have! How about you? How's your day going so far?\" additional_kwargs={'refusal': None} response_metadata={'token_usage': {'completion_tokens': 47, 'prompt_tokens': 16, 'total_tokens': 63, 'completion_tokens_details': None, 'prompt_tokens_details': None}, 'model_name': 'gpt-3.5-turbo', 'system_fingerprint': 'b5209-d2b2031e', 'id': 'chatcmpl-KmzsjEuld9AYJA3kZhUm0UEseEeZfQcD', 'service_tier': None, 'finish_reason': 'stop', 'logprobs': None} id='run--4473eeb8-ffd1-4ab9-8ba3-477c69b8107c-0' usage_metadata={'input_tokens': 16, 'output_tokens': 47, 'total_tokens': 63, 'input_token_details': {}, 'output_token_details': {}}\n"
     ]
    }
   ],
   "source": [
    "print(llm.invoke(\"Hello how are you today?\"))"
   ]
  },
  {
   "cell_type": "code",
   "execution_count": 7,
   "id": "ceb985dc-dad4-4eea-a3fd-c8bed6b6c420",
   "metadata": {},
   "outputs": [],
   "source": [
    "vectors = LocalAIEmbeddings(openai_api_base=\"http://\" + ip + \":\" +embedding_port + \"/v1\",\n",
    "                            openai_api_key=\"forget\",\n",
    "                            model=\"all-MiniLM-L6-v2\",\n",
    "                            openai_api_version='v1',)"
   ]
  },
  {
   "cell_type": "code",
   "execution_count": 8,
   "id": "0bedb379-d473-47b1-847c-a81fe21f2275",
   "metadata": {},
   "outputs": [
    {
     "data": {
      "text/plain": [
       "53"
      ]
     },
     "execution_count": 8,
     "metadata": {},
     "output_type": "execute_result"
    }
   ],
   "source": [
    "len(vectors.embed_documents(wrapped_text))"
   ]
  },
  {
   "cell_type": "markdown",
   "id": "620e5e3f-87d9-493a-8a86-5d3fc12a984c",
   "metadata": {},
   "source": [
    "In the next step we have to setup a vector database. \n",
    "Here as opposed to our first sample we use chromadb, but a large choice\n",
    "of databases would exist. Only execute this once or destroy your presist_directory\n",
    "and restart the notebooks' kernel. "
   ]
  },
  {
   "cell_type": "code",
   "execution_count": 9,
   "id": "90e3370b-c785-4995-ad0e-fd3f1a954a2f",
   "metadata": {},
   "outputs": [
    {
     "name": "stdout",
     "output_type": "stream",
     "text": [
      "Defaulting to user installation because normal site-packages is not writeable\n",
      "Requirement already satisfied: chromadb in /leonardo/home/usertrain/a08trb34/one-click-hpc-access-home-trainee34/.local/lib/python3.11/site-packages (1.0.20)\n",
      "Requirement already satisfied: build>=1.0.3 in /leonardo/home/usertrain/a08trb34/one-click-hpc-access-home-trainee34/.local/lib/python3.11/site-packages (from chromadb) (1.3.0)\n",
      "Requirement already satisfied: pydantic>=1.9 in /leonardo/pub/userexternal/sharriso/conda_env_simeon25_10/lib/python3.11/site-packages (from chromadb) (2.11.7)\n",
      "Requirement already satisfied: pybase64>=1.4.1 in /leonardo/home/usertrain/a08trb34/one-click-hpc-access-home-trainee34/.local/lib/python3.11/site-packages (from chromadb) (1.4.2)\n",
      "Requirement already satisfied: uvicorn>=0.18.3 in /leonardo/pub/userexternal/sharriso/conda_env_simeon25_10/lib/python3.11/site-packages (from uvicorn[standard]>=0.18.3->chromadb) (0.35.0)\n",
      "Requirement already satisfied: numpy>=1.22.5 in /leonardo/pub/userexternal/sharriso/conda_env_simeon25_10/lib/python3.11/site-packages (from chromadb) (2.2.6)\n",
      "Requirement already satisfied: posthog<6.0.0,>=2.4.0 in /leonardo/home/usertrain/a08trb34/one-click-hpc-access-home-trainee34/.local/lib/python3.11/site-packages (from chromadb) (5.4.0)\n",
      "Requirement already satisfied: typing-extensions>=4.5.0 in /leonardo/pub/userexternal/sharriso/conda_env_simeon25_10/lib/python3.11/site-packages (from chromadb) (4.14.1)\n",
      "Requirement already satisfied: onnxruntime>=1.14.1 in /leonardo/home/usertrain/a08trb34/one-click-hpc-access-home-trainee34/.local/lib/python3.11/site-packages (from chromadb) (1.22.1)\n",
      "Requirement already satisfied: opentelemetry-api>=1.2.0 in /leonardo/pub/userexternal/sharriso/conda_env_simeon25_10/lib/python3.11/site-packages (from chromadb) (1.36.0)\n",
      "Requirement already satisfied: opentelemetry-exporter-otlp-proto-grpc>=1.2.0 in /leonardo/pub/userexternal/sharriso/conda_env_simeon25_10/lib/python3.11/site-packages (from chromadb) (1.36.0)\n",
      "Requirement already satisfied: opentelemetry-sdk>=1.2.0 in /leonardo/pub/userexternal/sharriso/conda_env_simeon25_10/lib/python3.11/site-packages (from chromadb) (1.36.0)\n",
      "Requirement already satisfied: tokenizers>=0.13.2 in /leonardo/pub/userexternal/sharriso/conda_env_simeon25_10/lib/python3.11/site-packages (from chromadb) (0.21.4)\n",
      "Requirement already satisfied: pypika>=0.48.9 in /leonardo/home/usertrain/a08trb34/one-click-hpc-access-home-trainee34/.local/lib/python3.11/site-packages (from chromadb) (0.48.9)\n",
      "Requirement already satisfied: tqdm>=4.65.0 in /leonardo/pub/userexternal/sharriso/conda_env_simeon25_10/lib/python3.11/site-packages (from chromadb) (4.67.1)\n",
      "Requirement already satisfied: overrides>=7.3.1 in /leonardo/pub/userexternal/sharriso/conda_env_simeon25_10/lib/python3.11/site-packages (from chromadb) (7.7.0)\n",
      "Requirement already satisfied: importlib-resources in /leonardo/home/usertrain/a08trb34/one-click-hpc-access-home-trainee34/.local/lib/python3.11/site-packages (from chromadb) (6.5.2)\n",
      "Requirement already satisfied: grpcio>=1.58.0 in /leonardo/pub/userexternal/sharriso/conda_env_simeon25_10/lib/python3.11/site-packages (from chromadb) (1.74.0)\n",
      "Requirement already satisfied: bcrypt>=4.0.1 in /leonardo/home/usertrain/a08trb34/one-click-hpc-access-home-trainee34/.local/lib/python3.11/site-packages (from chromadb) (4.3.0)\n",
      "Requirement already satisfied: typer>=0.9.0 in /leonardo/pub/userexternal/sharriso/conda_env_simeon25_10/lib/python3.11/site-packages (from chromadb) (0.16.1)\n",
      "Requirement already satisfied: kubernetes>=28.1.0 in /leonardo/home/usertrain/a08trb34/one-click-hpc-access-home-trainee34/.local/lib/python3.11/site-packages (from chromadb) (33.1.0)\n",
      "Requirement already satisfied: tenacity>=8.2.3 in /leonardo/pub/userexternal/sharriso/conda_env_simeon25_10/lib/python3.11/site-packages (from chromadb) (9.1.2)\n",
      "Requirement already satisfied: pyyaml>=6.0.0 in /leonardo/pub/userexternal/sharriso/conda_env_simeon25_10/lib/python3.11/site-packages (from chromadb) (6.0.2)\n",
      "Requirement already satisfied: mmh3>=4.0.1 in /leonardo/home/usertrain/a08trb34/one-click-hpc-access-home-trainee34/.local/lib/python3.11/site-packages (from chromadb) (5.2.0)\n",
      "Requirement already satisfied: orjson>=3.9.12 in /leonardo/pub/userexternal/sharriso/conda_env_simeon25_10/lib/python3.11/site-packages (from chromadb) (3.11.2)\n",
      "Requirement already satisfied: httpx>=0.27.0 in /leonardo/pub/userexternal/sharriso/conda_env_simeon25_10/lib/python3.11/site-packages (from chromadb) (0.28.1)\n",
      "Requirement already satisfied: rich>=10.11.0 in /leonardo/pub/userexternal/sharriso/conda_env_simeon25_10/lib/python3.11/site-packages (from chromadb) (14.1.0)\n",
      "Requirement already satisfied: jsonschema>=4.19.0 in /leonardo/pub/userexternal/sharriso/conda_env_simeon25_10/lib/python3.11/site-packages (from chromadb) (4.25.1)\n",
      "Requirement already satisfied: requests<3.0,>=2.7 in /leonardo/pub/userexternal/sharriso/conda_env_simeon25_10/lib/python3.11/site-packages (from posthog<6.0.0,>=2.4.0->chromadb) (2.32.5)\n",
      "Requirement already satisfied: six>=1.5 in /leonardo/pub/userexternal/sharriso/conda_env_simeon25_10/lib/python3.11/site-packages (from posthog<6.0.0,>=2.4.0->chromadb) (1.17.0)\n",
      "Requirement already satisfied: python-dateutil>=2.2 in /leonardo/pub/userexternal/sharriso/conda_env_simeon25_10/lib/python3.11/site-packages (from posthog<6.0.0,>=2.4.0->chromadb) (2.9.0.post0)\n",
      "Requirement already satisfied: backoff>=1.10.0 in /leonardo/home/usertrain/a08trb34/one-click-hpc-access-home-trainee34/.local/lib/python3.11/site-packages (from posthog<6.0.0,>=2.4.0->chromadb) (2.2.1)\n",
      "Requirement already satisfied: distro>=1.5.0 in /leonardo/pub/userexternal/sharriso/conda_env_simeon25_10/lib/python3.11/site-packages (from posthog<6.0.0,>=2.4.0->chromadb) (1.9.0)\n",
      "Requirement already satisfied: charset_normalizer<4,>=2 in /leonardo/pub/userexternal/sharriso/conda_env_simeon25_10/lib/python3.11/site-packages (from requests<3.0,>=2.7->posthog<6.0.0,>=2.4.0->chromadb) (3.4.3)\n",
      "Requirement already satisfied: idna<4,>=2.5 in /leonardo/pub/userexternal/sharriso/conda_env_simeon25_10/lib/python3.11/site-packages (from requests<3.0,>=2.7->posthog<6.0.0,>=2.4.0->chromadb) (3.10)\n",
      "Requirement already satisfied: urllib3<3,>=1.21.1 in /leonardo/pub/userexternal/sharriso/conda_env_simeon25_10/lib/python3.11/site-packages (from requests<3.0,>=2.7->posthog<6.0.0,>=2.4.0->chromadb) (2.5.0)\n",
      "Requirement already satisfied: certifi>=2017.4.17 in /leonardo/pub/userexternal/sharriso/conda_env_simeon25_10/lib/python3.11/site-packages (from requests<3.0,>=2.7->posthog<6.0.0,>=2.4.0->chromadb) (2025.8.3)\n",
      "Requirement already satisfied: packaging>=19.1 in /leonardo/pub/userexternal/sharriso/conda_env_simeon25_10/lib/python3.11/site-packages (from build>=1.0.3->chromadb) (25.0)\n",
      "Requirement already satisfied: pyproject_hooks in /leonardo/home/usertrain/a08trb34/one-click-hpc-access-home-trainee34/.local/lib/python3.11/site-packages (from build>=1.0.3->chromadb) (1.2.0)\n",
      "Requirement already satisfied: anyio in /leonardo/pub/userexternal/sharriso/conda_env_simeon25_10/lib/python3.11/site-packages (from httpx>=0.27.0->chromadb) (4.10.0)\n",
      "Requirement already satisfied: httpcore==1.* in /leonardo/pub/userexternal/sharriso/conda_env_simeon25_10/lib/python3.11/site-packages (from httpx>=0.27.0->chromadb) (1.0.9)\n",
      "Requirement already satisfied: h11>=0.16 in /leonardo/pub/userexternal/sharriso/conda_env_simeon25_10/lib/python3.11/site-packages (from httpcore==1.*->httpx>=0.27.0->chromadb) (0.16.0)\n",
      "Requirement already satisfied: attrs>=22.2.0 in /leonardo/pub/userexternal/sharriso/conda_env_simeon25_10/lib/python3.11/site-packages (from jsonschema>=4.19.0->chromadb) (25.3.0)\n",
      "Requirement already satisfied: jsonschema-specifications>=2023.03.6 in /leonardo/pub/userexternal/sharriso/conda_env_simeon25_10/lib/python3.11/site-packages (from jsonschema>=4.19.0->chromadb) (2025.4.1)\n",
      "Requirement already satisfied: referencing>=0.28.4 in /leonardo/pub/userexternal/sharriso/conda_env_simeon25_10/lib/python3.11/site-packages (from jsonschema>=4.19.0->chromadb) (0.36.2)\n",
      "Requirement already satisfied: rpds-py>=0.7.1 in /leonardo/pub/userexternal/sharriso/conda_env_simeon25_10/lib/python3.11/site-packages (from jsonschema>=4.19.0->chromadb) (0.27.0)\n",
      "Requirement already satisfied: google-auth>=1.0.1 in /leonardo/home/usertrain/a08trb34/one-click-hpc-access-home-trainee34/.local/lib/python3.11/site-packages (from kubernetes>=28.1.0->chromadb) (2.40.3)\n",
      "Requirement already satisfied: websocket-client!=0.40.0,!=0.41.*,!=0.42.*,>=0.32.0 in /leonardo/pub/userexternal/sharriso/conda_env_simeon25_10/lib/python3.11/site-packages (from kubernetes>=28.1.0->chromadb) (1.8.0)\n",
      "Requirement already satisfied: requests-oauthlib in /leonardo/home/usertrain/a08trb34/one-click-hpc-access-home-trainee34/.local/lib/python3.11/site-packages (from kubernetes>=28.1.0->chromadb) (2.0.0)\n",
      "Requirement already satisfied: oauthlib>=3.2.2 in /leonardo/pub/userexternal/sharriso/conda_env_simeon25_10/lib/python3.11/site-packages (from kubernetes>=28.1.0->chromadb) (3.3.1)\n",
      "Requirement already satisfied: durationpy>=0.7 in /leonardo/home/usertrain/a08trb34/one-click-hpc-access-home-trainee34/.local/lib/python3.11/site-packages (from kubernetes>=28.1.0->chromadb) (0.10)\n",
      "Requirement already satisfied: cachetools<6.0,>=2.0.0 in /leonardo/home/usertrain/a08trb34/one-click-hpc-access-home-trainee34/.local/lib/python3.11/site-packages (from google-auth>=1.0.1->kubernetes>=28.1.0->chromadb) (5.5.2)\n",
      "Requirement already satisfied: pyasn1-modules>=0.2.1 in /leonardo/home/usertrain/a08trb34/one-click-hpc-access-home-trainee34/.local/lib/python3.11/site-packages (from google-auth>=1.0.1->kubernetes>=28.1.0->chromadb) (0.4.2)\n",
      "Requirement already satisfied: rsa<5,>=3.1.4 in /leonardo/home/usertrain/a08trb34/one-click-hpc-access-home-trainee34/.local/lib/python3.11/site-packages (from google-auth>=1.0.1->kubernetes>=28.1.0->chromadb) (4.9.1)\n",
      "Requirement already satisfied: pyasn1>=0.1.3 in /leonardo/home/usertrain/a08trb34/one-click-hpc-access-home-trainee34/.local/lib/python3.11/site-packages (from rsa<5,>=3.1.4->google-auth>=1.0.1->kubernetes>=28.1.0->chromadb) (0.6.1)\n",
      "Requirement already satisfied: coloredlogs in /leonardo/home/usertrain/a08trb34/one-click-hpc-access-home-trainee34/.local/lib/python3.11/site-packages (from onnxruntime>=1.14.1->chromadb) (15.0.1)\n",
      "Requirement already satisfied: flatbuffers in /leonardo/home/usertrain/a08trb34/one-click-hpc-access-home-trainee34/.local/lib/python3.11/site-packages (from onnxruntime>=1.14.1->chromadb) (25.2.10)\n",
      "Requirement already satisfied: protobuf in /leonardo/pub/userexternal/sharriso/conda_env_simeon25_10/lib/python3.11/site-packages (from onnxruntime>=1.14.1->chromadb) (6.32.0)\n",
      "Requirement already satisfied: sympy in /leonardo/pub/userexternal/sharriso/conda_env_simeon25_10/lib/python3.11/site-packages (from onnxruntime>=1.14.1->chromadb) (1.13.1)\n",
      "Requirement already satisfied: importlib-metadata<8.8.0,>=6.0 in /leonardo/pub/userexternal/sharriso/conda_env_simeon25_10/lib/python3.11/site-packages (from opentelemetry-api>=1.2.0->chromadb) (8.7.0)\n",
      "Requirement already satisfied: zipp>=3.20 in /leonardo/pub/userexternal/sharriso/conda_env_simeon25_10/lib/python3.11/site-packages (from importlib-metadata<8.8.0,>=6.0->opentelemetry-api>=1.2.0->chromadb) (3.23.0)\n",
      "Requirement already satisfied: googleapis-common-protos~=1.57 in /leonardo/pub/userexternal/sharriso/conda_env_simeon25_10/lib/python3.11/site-packages (from opentelemetry-exporter-otlp-proto-grpc>=1.2.0->chromadb) (1.70.0)\n",
      "Requirement already satisfied: opentelemetry-exporter-otlp-proto-common==1.36.0 in /leonardo/pub/userexternal/sharriso/conda_env_simeon25_10/lib/python3.11/site-packages (from opentelemetry-exporter-otlp-proto-grpc>=1.2.0->chromadb) (1.36.0)\n",
      "Requirement already satisfied: opentelemetry-proto==1.36.0 in /leonardo/pub/userexternal/sharriso/conda_env_simeon25_10/lib/python3.11/site-packages (from opentelemetry-exporter-otlp-proto-grpc>=1.2.0->chromadb) (1.36.0)\n",
      "Requirement already satisfied: opentelemetry-semantic-conventions==0.57b0 in /leonardo/pub/userexternal/sharriso/conda_env_simeon25_10/lib/python3.11/site-packages (from opentelemetry-sdk>=1.2.0->chromadb) (0.57b0)\n",
      "Requirement already satisfied: annotated-types>=0.6.0 in /leonardo/pub/userexternal/sharriso/conda_env_simeon25_10/lib/python3.11/site-packages (from pydantic>=1.9->chromadb) (0.7.0)\n",
      "Requirement already satisfied: pydantic-core==2.33.2 in /leonardo/pub/userexternal/sharriso/conda_env_simeon25_10/lib/python3.11/site-packages (from pydantic>=1.9->chromadb) (2.33.2)\n",
      "Requirement already satisfied: typing-inspection>=0.4.0 in /leonardo/pub/userexternal/sharriso/conda_env_simeon25_10/lib/python3.11/site-packages (from pydantic>=1.9->chromadb) (0.4.1)\n",
      "Requirement already satisfied: markdown-it-py>=2.2.0 in /leonardo/pub/userexternal/sharriso/conda_env_simeon25_10/lib/python3.11/site-packages (from rich>=10.11.0->chromadb) (4.0.0)\n",
      "Requirement already satisfied: pygments<3.0.0,>=2.13.0 in /leonardo/pub/userexternal/sharriso/conda_env_simeon25_10/lib/python3.11/site-packages (from rich>=10.11.0->chromadb) (2.19.2)\n",
      "Requirement already satisfied: mdurl~=0.1 in /leonardo/pub/userexternal/sharriso/conda_env_simeon25_10/lib/python3.11/site-packages (from markdown-it-py>=2.2.0->rich>=10.11.0->chromadb) (0.1.2)\n",
      "Requirement already satisfied: huggingface-hub<1.0,>=0.16.4 in /leonardo/pub/userexternal/sharriso/conda_env_simeon25_10/lib/python3.11/site-packages (from tokenizers>=0.13.2->chromadb) (0.34.4)\n",
      "Requirement already satisfied: filelock in /leonardo/pub/userexternal/sharriso/conda_env_simeon25_10/lib/python3.11/site-packages (from huggingface-hub<1.0,>=0.16.4->tokenizers>=0.13.2->chromadb) (3.19.1)\n",
      "Requirement already satisfied: fsspec>=2023.5.0 in /leonardo/pub/userexternal/sharriso/conda_env_simeon25_10/lib/python3.11/site-packages (from huggingface-hub<1.0,>=0.16.4->tokenizers>=0.13.2->chromadb) (2025.3.0)\n",
      "Requirement already satisfied: hf-xet<2.0.0,>=1.1.3 in /leonardo/pub/userexternal/sharriso/conda_env_simeon25_10/lib/python3.11/site-packages (from huggingface-hub<1.0,>=0.16.4->tokenizers>=0.13.2->chromadb) (1.1.8)\n",
      "Requirement already satisfied: click>=8.0.0 in /leonardo/pub/userexternal/sharriso/conda_env_simeon25_10/lib/python3.11/site-packages (from typer>=0.9.0->chromadb) (8.2.1)\n",
      "Requirement already satisfied: shellingham>=1.3.0 in /leonardo/pub/userexternal/sharriso/conda_env_simeon25_10/lib/python3.11/site-packages (from typer>=0.9.0->chromadb) (1.5.4)\n",
      "Requirement already satisfied: httptools>=0.6.3 in /leonardo/pub/userexternal/sharriso/conda_env_simeon25_10/lib/python3.11/site-packages (from uvicorn[standard]>=0.18.3->chromadb) (0.6.4)\n",
      "Requirement already satisfied: python-dotenv>=0.13 in /leonardo/pub/userexternal/sharriso/conda_env_simeon25_10/lib/python3.11/site-packages (from uvicorn[standard]>=0.18.3->chromadb) (1.1.1)\n",
      "Requirement already satisfied: uvloop>=0.15.1 in /leonardo/pub/userexternal/sharriso/conda_env_simeon25_10/lib/python3.11/site-packages (from uvicorn[standard]>=0.18.3->chromadb) (0.21.0)\n",
      "Requirement already satisfied: watchfiles>=0.13 in /leonardo/pub/userexternal/sharriso/conda_env_simeon25_10/lib/python3.11/site-packages (from uvicorn[standard]>=0.18.3->chromadb) (1.1.0)\n",
      "Requirement already satisfied: websockets>=10.4 in /leonardo/pub/userexternal/sharriso/conda_env_simeon25_10/lib/python3.11/site-packages (from uvicorn[standard]>=0.18.3->chromadb) (15.0.1)\n",
      "Requirement already satisfied: sniffio>=1.1 in /leonardo/pub/userexternal/sharriso/conda_env_simeon25_10/lib/python3.11/site-packages (from anyio->httpx>=0.27.0->chromadb) (1.3.1)\n",
      "Requirement already satisfied: humanfriendly>=9.1 in /leonardo/home/usertrain/a08trb34/one-click-hpc-access-home-trainee34/.local/lib/python3.11/site-packages (from coloredlogs->onnxruntime>=1.14.1->chromadb) (10.0)\n",
      "Requirement already satisfied: mpmath<1.4,>=1.1.0 in /leonardo/pub/userexternal/sharriso/conda_env_simeon25_10/lib/python3.11/site-packages (from sympy->onnxruntime>=1.14.1->chromadb) (1.3.0)\n"
     ]
    }
   ],
   "source": [
    "# install packages\n",
    "!pip install chromadb\n",
    "\n",
    "from langchain.vectorstores import Chroma\n",
    "vectordb = Chroma.from_texts(texts=wrapped_text, \n",
    "                             embedding=vectors, \n",
    "                             persist_directory=\"chroma_db\")\n",
    "retriever = vectordb.as_retriever(search_kwargs={\"k\": 10})"
   ]
  },
  {
   "cell_type": "markdown",
   "id": "5a11d135-2357-4dec-99bc-a0cc9fc0add9",
   "metadata": {},
   "source": [
    "Just as in the last case we have to deal with a chat template.\n",
    "Here we can use langchains' tools in order include history and contexts. "
   ]
  },
  {
   "cell_type": "code",
   "execution_count": 10,
   "id": "b63b9358-599a-46fd-b1c6-6c0a5487dd75",
   "metadata": {},
   "outputs": [],
   "source": [
    "from langchain_core.prompts import ChatPromptTemplate, MessagesPlaceholder\n",
    "prompt = ChatPromptTemplate([\n",
    "    (\"system\", \"<|start_header_id|>system<|end_header_id|> \\n\\n\" + \\\n",
    "    \"You are a helpful AI assistent in answering prompt, \" + \\\n",
    "    \"taking the following contexts into account \" + \\\n",
    "    \"as good as you can as you answer. \\n\\n\" + \\\n",
    "    \"Contexts:\\n\"\n",
    "    \"{context}<|eot_id|>\"),\n",
    "    MessagesPlaceholder(\"chat_history\"),\n",
    "    (\"human\",\"<|start_header_id|>user<|end_header_id|> {input}<|eot_id|> \\n\\n\" + \\\n",
    "    \"<|start_header_id|>assistent<|end_header_id>\")])\n",
    "                            "
   ]
  },
  {
   "cell_type": "markdown",
   "id": "cf38f9da-2dc5-44cc-8ebd-67f310a66f73",
   "metadata": {},
   "source": [
    "Here we build our retrieval chain, with the template above. For each question we retrieve corresponding documents from the chromadb vector database."
   ]
  },
  {
   "cell_type": "code",
   "execution_count": 11,
   "id": "ebbc0c70-6953-4d55-8cd6-398d71f778da",
   "metadata": {},
   "outputs": [],
   "source": [
    "from langchain.chains import create_retrieval_chain\n",
    "from langchain.chains.combine_documents import create_stuff_documents_chain\n",
    "\n",
    "question_answer_chain = create_stuff_documents_chain(llm, prompt)\n",
    "\n",
    "rag_chain = create_retrieval_chain(retriever,question_answer_chain) \n"
   ]
  },
  {
   "cell_type": "markdown",
   "id": "9a655e43-0ed4-481d-ba83-85951aed5b57",
   "metadata": {},
   "source": [
    "Finally we have also to handle the chat history and define a query function"
   ]
  },
  {
   "cell_type": "code",
   "execution_count": 12,
   "id": "db94f403-83e9-4ec0-84c8-4d9cd2e7b7da",
   "metadata": {},
   "outputs": [],
   "source": [
    "chat_history = []\n",
    "\n",
    "def chat_query(question):\n",
    "    a = rag_chain.invoke({\"input\": question, \"chat_history\": chat_history})\n",
    "\n",
    "    human_msg = \"<|start_header_id|>user<|end_header_id|>\" + question + \"<|eot_id|>\"\n",
    "    ai_answer = \"<|start_header_id|>assistent<|end_header_id|>\" + a['answer'] + \"<|eot_id|>\"\n",
    "\n",
    "    chat_history.extend([\n",
    "        (\"human\", human_msg),\n",
    "        (\"ai\", ai_answer)\n",
    "        ])\n",
    "    print(a['answer'])\n",
    "    return a"
   ]
  },
  {
   "cell_type": "markdown",
   "id": "365fc636-6160-437f-82c1-a8fe7089f5fe",
   "metadata": {},
   "source": [
    "Now we can run our chatbot and ask some questions related to our text."
   ]
  },
  {
   "cell_type": "code",
   "execution_count": 13,
   "id": "d7e420b9-88a7-4334-8ceb-8578b44673ca",
   "metadata": {},
   "outputs": [
    {
     "name": "stdout",
     "output_type": "stream",
     "text": [
      "The 20-day window of opportunity is a time period used in the study to analyze the replacement of the delta variant by the omicron variant. It is defined as a 20-day period that starts 10 days before the inflection point, where the omicron variant surpasses 50% of reported samples.\n",
      "\n",
      "The inflection point is the moment when the omicron variant starts to take over and become the dominant variant, replacing the delta variant. This point is determined by visual inspection of the time series data between December 1st, 2021, and January 31st, 2022, which shows that the invasion of the omicron variant occurs approximately in three weeks in all metropolitan French regions.\n",
      "\n",
      "The 20-day window of opportunity is chosen because it is long enough to capture the dynamics of the replacement process, but short enough to focus on the critical period when the omicron variant is taking over. This window is applied to each region independently, and the study uses data from Santé Publique France to estimate the initial conditions for the simulations.\n",
      "\n",
      "Within this 20-day window, the study uses a multi-variant transmission model to evaluate the delta, omicron, and residual beta/gamma variants simultaneously. The model takes into account the cross-immunity term, which allows the variants to interact with each other and affect the transmission dynamics.\n"
     ]
    }
   ],
   "source": [
    "a = chat_query(\"Tell me about the 20-day window of opportunity\")"
   ]
  },
  {
   "cell_type": "code",
   "execution_count": 14,
   "id": "136f9c98-965c-408b-bc5f-993dfb156f75",
   "metadata": {},
   "outputs": [
    {
     "name": "stdout",
     "output_type": "stream",
     "text": [
      "According to the text, the inflection point, which marks the beginning of the 20-day window of opportunity, occurred approximately three weeks after December 1st, 2021. This means that the inflection point would be around:\n",
      "\n",
      "December 1st, 2021 + 3 weeks = December 22nd, 2021\n",
      "\n",
      "The 20-day window of opportunity would then start 10 days before this point, which would be:\n",
      "\n",
      "December 22nd, 2021 - 10 days = December 12th, 2021\n",
      "\n",
      "However, the text also mentions that the 20-day window of opportunity was used to analyze the period between the beginning of December and the end of January, when the omicron variant replaced the delta variant.\n",
      "\n",
      "Given that the inflection point occurred around December 22nd, 2021, the 20-day window of opportunity would have started around:\n",
      "\n",
      "December 22nd, 2021 - 10 days = December 12th, 2021\n",
      "\n",
      "And would have ended around:\n",
      "\n",
      "December 22nd, 2021 + 20 days = January 11th, 2022\n",
      "\n",
      "So, the 20-day window of opportunity occurred from approximately December 12th, 2021, to January 11th, 2022, in France.\n"
     ]
    }
   ],
   "source": [
    "a = chat_query(\"At what dates did the 20-day window of opportunity happen in france?\")"
   ]
  },
  {
   "cell_type": "code",
   "execution_count": 15,
   "id": "3c4a0e90-a0a0-4179-bd75-514538185b80",
   "metadata": {},
   "outputs": [],
   "source": [
    "embedding_process.terminate()"
   ]
  },
  {
   "cell_type": "code",
   "execution_count": 16,
   "id": "ef18bb87-f722-4bb7-8216-3bc8abf6cab0",
   "metadata": {},
   "outputs": [],
   "source": [
    "llm_process.terminate()"
   ]
  },
  {
   "cell_type": "code",
   "execution_count": null,
   "id": "a75d8b94-0cfb-4958-a5f9-514a9bb19183",
   "metadata": {},
   "outputs": [],
   "source": []
  }
 ],
 "metadata": {
  "kernelspec": {
   "display_name": "Python 3 (ipykernel)",
   "language": "python",
   "name": "python3"
  },
  "language_info": {
   "codemirror_mode": {
    "name": "ipython",
    "version": 3
   },
   "file_extension": ".py",
   "mimetype": "text/x-python",
   "name": "python",
   "nbconvert_exporter": "python",
   "pygments_lexer": "ipython3",
   "version": "3.11.13"
  }
 },
 "nbformat": 4,
 "nbformat_minor": 5
}
