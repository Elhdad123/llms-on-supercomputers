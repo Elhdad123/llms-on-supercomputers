{
 "cells": [
  {
   "cell_type": "markdown",
   "id": "2ac8f40e-3559-4342-b247-d2ad12327166",
   "metadata": {},
   "source": [
    "# Overview of Large Language Models (LLMs)\n",
    "\n",
    "### What are LLMs?\n",
    "\n",
    "Large Language Models (LLMs) are a class of machine learning models designed to understand and generate human-like text. These models, such as GPT-4, Llama-3, BERT, and T5, are built using deep learning techniques, primarily using the Transformer architecture. LLMs have been trained on vast amounts of text data, making them capable of various natural language processing (NLP) tasks like text completion, translation, summarization, and more.\n",
    "\n",
    "### Real-World Applications\n",
    "\n",
    "- **Text Generation**: Creating coherent and contextually relevant text for chatbots, virtual assistants, and content creation.\n",
    "- **Machine Translation**: Translating text from one language to another with high accuracy.\n",
    "- **Text Classification**: Categorizing text into predefined labels, useful in sentiment analysis, spam detection, etc.\n",
    "- **Question Answering**: Providing answers to user queries based on context.\n",
    "\n",
    "### Evolution of LLMs\n",
    "\n",
    "- **Early Models (Pre-2017)**: RNNs and LSTMs dominated the NLP landscape but faced limitations in handling long dependencies.\n",
    "- **Transformers (2017 Onwards)**: Introduction of the Transformer architecture by Vaswani et al. with the now famous paper \"Attention Is All You Need\", which solved many limitations of earlier models.\n",
    "- **Recent Advances**: Large-scale pre-training of foundation models, fine-tuning and specialized architectures for specific tasks further downstream.\n",
    "\n",
    "### Challenges and Opportunities\n",
    "\n",
    "- **Challenges**: High computational cost, energy consumption, biases in training data, interpretability, halluzinations.\n",
    "- **Opportunities**: Interaction with applications through human language, speed-up of labour-intense tasks.\n"
   ]
  },
  {
   "cell_type": "markdown",
   "id": "b7685c2c-a0df-4e51-a82b-6f24ebc3efd0",
   "metadata": {},
   "source": [
    "### Overview Fine-Tuning a Pretrained Model using Hugging Face\n",
    "\n",
    "Lets walk through the usual steps of fine-tuning a model"
   ]
  },
  {
   "cell_type": "code",
   "execution_count": 1,
   "id": "06474edf-ad0f-47e5-b34a-c149c67b9158",
   "metadata": {},
   "outputs": [],
   "source": [
    "# imports\n",
    "import torch\n",
    "from datasets import load_dataset\n",
    "from transformers import AutoTokenizer, AutoModelForSequenceClassification, Trainer, TrainingArguments"
   ]
  },
  {
   "cell_type": "code",
   "execution_count": null,
   "id": "6768ab4b-2423-45a3-8e52-cadcc9a0a4f6",
   "metadata": {},
   "outputs": [],
   "source": [
    "# Load dataset\n",
    "# We'll use the IMDb dataset, but won't be downloading it from Hugging Face, but from a shared directory\n",
    "dataset = load_dataset(\"/leonardo_scratch/fast/EUHPC_D20_063/huggingface/datasets/stanfordnlp--imdb\")"
   ]
  },
  {
   "cell_type": "code",
   "execution_count": 3,
   "id": "ade93b40-9d90-4e31-b0d8-ce56f4bd2133",
   "metadata": {},
   "outputs": [
    {
     "data": {
      "application/vnd.jupyter.widget-view+json": {
       "model_id": "704734cdee69409c94fbc35aefc23ee2",
       "version_major": 2,
       "version_minor": 0
      },
      "text/plain": [
       "Generating train split:   0%|          | 0/25000 [00:00<?, ? examples/s]"
      ]
     },
     "metadata": {},
     "output_type": "display_data"
    },
    {
     "data": {
      "application/vnd.jupyter.widget-view+json": {
       "model_id": "1bbad6cb532840f788947f63e3490a34",
       "version_major": 2,
       "version_minor": 0
      },
      "text/plain": [
       "Generating test split:   0%|          | 0/25000 [00:00<?, ? examples/s]"
      ]
     },
     "metadata": {},
     "output_type": "display_data"
    },
    {
     "data": {
      "application/vnd.jupyter.widget-view+json": {
       "model_id": "3d3ccd38d18148a7a35ba81abc0215f6",
       "version_major": 2,
       "version_minor": 0
      },
      "text/plain": [
       "Generating unsupervised split:   0%|          | 0/50000 [00:00<?, ? examples/s]"
      ]
     },
     "metadata": {},
     "output_type": "display_data"
    }
   ],
   "source": [
    "# On VSC use this path instead:\n",
    "# dataset = load_dataset(\"/gpfs/data/fs70824/LLMs_models_datasets/datasets/stanfordnlp--imdb\")"
   ]
  },
  {
   "cell_type": "code",
   "execution_count": 4,
   "id": "0584d471-4ce8-4bda-8db5-96cfe8241a57",
   "metadata": {},
   "outputs": [],
   "source": [
    "# Split into train and test sets\n",
    "train_dataset = dataset['train']\n",
    "test_dataset = dataset['test']"
   ]
  },
  {
   "cell_type": "code",
   "execution_count": null,
   "id": "81d05edf-3769-4d7b-acf6-b3eb9bb23721",
   "metadata": {},
   "outputs": [],
   "source": [
    "# Load pretrained tokenizer\n",
    "# Using a BERT-based model for sequence classification\n",
    "model_dir = \"/leonardo_scratch/fast/EUHPC_D20_063/huggingface/models/google--bert-base-uncased\"\n",
    "tokenizer = AutoTokenizer.from_pretrained(model_dir)"
   ]
  },
  {
   "cell_type": "code",
   "execution_count": 5,
   "id": "dde3a3f7-5cb7-4e85-bafe-11ea8f7e2432",
   "metadata": {},
   "outputs": [],
   "source": [
    "# On VSC use this path instead:\n",
    "# model_dir = \"/gpfs/data/fs70824/LLMs_models_datasets/models/google--bert-base-uncased\"\n",
    "# tokenizer = AutoTokenizer.from_pretrained(model_dir)"
   ]
  },
  {
   "cell_type": "code",
   "execution_count": 6,
   "id": "d56dbbef-4e01-4653-a5f7-95e2b3486162",
   "metadata": {},
   "outputs": [
    {
     "data": {
      "application/vnd.jupyter.widget-view+json": {
       "model_id": "bef64332154c48799f8ea4a086a97d9b",
       "version_major": 2,
       "version_minor": 0
      },
      "text/plain": [
       "Map:   0%|          | 0/25000 [00:00<?, ? examples/s]"
      ]
     },
     "metadata": {},
     "output_type": "display_data"
    },
    {
     "data": {
      "application/vnd.jupyter.widget-view+json": {
       "model_id": "8da8fd6b0639448e9f29a5f92b751b3c",
       "version_major": 2,
       "version_minor": 0
      },
      "text/plain": [
       "Map:   0%|          | 0/25000 [00:00<?, ? examples/s]"
      ]
     },
     "metadata": {},
     "output_type": "display_data"
    }
   ],
   "source": [
    "# Tokenize the dataset\n",
    "def tokenize_function(examples):\n",
    "    return tokenizer(examples['text'], padding=\"max_length\", truncation=True)\n",
    "\n",
    "train_dataset = train_dataset.map(tokenize_function, batched=True)\n",
    "test_dataset = test_dataset.map(tokenize_function, batched=True)"
   ]
  },
  {
   "cell_type": "code",
   "execution_count": 7,
   "id": "77e6dfde-2146-41cd-acfa-bfa7a3180031",
   "metadata": {},
   "outputs": [],
   "source": [
    "# Remove unnecessary columns\n",
    "train_dataset = train_dataset.remove_columns([\"text\"])\n",
    "test_dataset = test_dataset.remove_columns([\"text\"])"
   ]
  },
  {
   "cell_type": "code",
   "execution_count": 8,
   "id": "1ca82e24-0510-4d73-b3ac-aff2cf502cea",
   "metadata": {},
   "outputs": [],
   "source": [
    "# Set format for PyTorch\n",
    "train_dataset.set_format(\"torch\")\n",
    "test_dataset.set_format(\"torch\")"
   ]
  },
  {
   "cell_type": "code",
   "execution_count": 9,
   "id": "2e960dba-c76c-48e5-8c83-bb0a8e1b7585",
   "metadata": {},
   "outputs": [
    {
     "data": {
      "text/plain": [
       "Dataset({\n",
       "    features: ['label', 'input_ids', 'token_type_ids', 'attention_mask'],\n",
       "    num_rows: 25000\n",
       "})"
      ]
     },
     "execution_count": 9,
     "metadata": {},
     "output_type": "execute_result"
    }
   ],
   "source": [
    "train_dataset"
   ]
  },
  {
   "cell_type": "code",
   "execution_count": null,
   "id": "c7d8e1e5-128f-4966-878c-2403c52b4904",
   "metadata": {},
   "outputs": [],
   "source": [
    "# Load pretrained model\n",
    "model = AutoModelForSequenceClassification.from_pretrained(model_dir, num_labels=2)\n",
    "\n",
    "# Define training arguments and trainer\n",
    "training_args = TrainingArguments(\n",
    "    output_dir=\"./results\",\n",
    "    evaluation_strategy=\"epoch\",\n",
    "    num_train_epochs=2,\n",
    "    per_device_train_batch_size=8,\n",
    "    per_device_eval_batch_size=8,\n",
    "    logging_dir=\"./logs\",\n",
    "    report_to=\"none\"\n",
    ")\n",
    "\n",
    "trainer = Trainer(\n",
    "    model=model,\n",
    "    args=training_args,\n",
    "    train_dataset=train_dataset,\n",
    "    eval_dataset=test_dataset,\n",
    ")"
   ]
  },
  {
   "cell_type": "code",
   "execution_count": null,
   "id": "fb53c9bc-5e9f-45c4-a837-5295e5ca8be4",
   "metadata": {},
   "outputs": [],
   "source": [
    "# Fine-tunine the model\n",
    "trainer.train()"
   ]
  },
  {
   "cell_type": "code",
   "execution_count": null,
   "id": "041fc224-f14b-46a7-8f08-ae1b13978fc0",
   "metadata": {},
   "outputs": [],
   "source": [
    "# Evaluating the model\n",
    "trainer.evaluate()"
   ]
  },
  {
   "cell_type": "markdown",
   "id": "b688afb0-8f7e-40c9-8898-07ab3c12204f",
   "metadata": {},
   "source": [
    "## Conclusion\n",
    "\n",
    "In this notebook, we briefly introduced the concept of Large Language Models, their applications, and their evolution. We also explored various LLMs available on the Huggingface Model Hub, learning to filter and analyze models based on different criteria."
   ]
  },
  {
   "cell_type": "code",
   "execution_count": null,
   "id": "e7ce473a-bdf4-4910-9bab-73e9f90b32e2",
   "metadata": {},
   "outputs": [],
   "source": [
    "# Shut down the kernel\n",
    "import IPython\n",
    "\n",
    "app = IPython.Application.instance()\n",
    "app.kernel.do_shutdown(restart=False)"
   ]
  }
 ],
 "metadata": {
  "kernelspec": {
   "display_name": "Python 3 (ipykernel)",
   "language": "python",
   "name": "python3"
  },
  "language_info": {
   "codemirror_mode": {
    "name": "ipython",
    "version": 3
   },
   "file_extension": ".py",
   "mimetype": "text/x-python",
   "name": "python",
   "nbconvert_exporter": "python",
   "pygments_lexer": "ipython3",
   "version": "3.11.11"
  }
 },
 "nbformat": 4,
 "nbformat_minor": 5
}
