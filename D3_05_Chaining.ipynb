{
 "cells": [
  {
   "cell_type": "markdown",
   "id": "6cbfc6e8-dc82-434d-ba0e-a68e52bf3cd9",
   "metadata": {},
   "source": [
    "## LangChain Chaining Techniques\n",
    "\n",
    "### Introduction\n",
    "This notebook demonstrates key chaining functionalities in LangChain:\n",
    "- SimpleSequentialChain\n",
    "- SequentialChain\n",
    "- LLMRouterChain\n",
    "- TransformChain\n",
    "\n",
    "Each chaining method is designed for different levels of complexity and control. Use simple chains for straightforward tasks, sequential chains for workflows, router chains for conditional branching, and transform chains when integrating custom logic."
   ]
  },
  {
   "cell_type": "code",
   "execution_count": 2,
   "id": "d40d4b00-deba-4bc0-a3eb-280c8179d02d",
   "metadata": {},
   "outputs": [],
   "source": [
    "# Imports\n",
    "from transformers import AutoTokenizer, AutoModelForCausalLM, pipeline\n",
    "from langchain_huggingface.llms import HuggingFacePipeline\n",
    "from langchain_huggingface import ChatHuggingFace\n",
    "from langchain.chains import SimpleSequentialChain, SequentialChain, TransformChain, LLMChain, LLMMathChain\n",
    "from langchain.chains.router import LLMRouterChain, MultiPromptChain\n",
    "from langchain.chains.sequential import SequentialChain\n",
    "from langchain.prompts import PromptTemplate\n",
    "from langchain.prompts import ChatPromptTemplate"
   ]
  },
  {
   "cell_type": "code",
   "execution_count": 2,
   "id": "ca5ea3ee-40e4-47a1-8708-b72b15cb89da",
   "metadata": {},
   "outputs": [],
   "source": [
    "path_to_model = \"/leonardo_scratch/fast/EUHPC_D20_063/huggingface/models/Nous-Hermes-2-Mistral-7B-DPO\""
   ]
  },
  {
   "cell_type": "code",
   "execution_count": 3,
   "id": "2fbc3ccb-bebc-4e2c-8ad4-2626bcaa167b",
   "metadata": {},
   "outputs": [
    {
     "data": {
      "application/vnd.jupyter.widget-view+json": {
       "model_id": "eba21889c28f4880b90e98c3bc0bc107",
       "version_major": 2,
       "version_minor": 0
      },
      "text/plain": [
       "Loading checkpoint shards:   0%|          | 0/3 [00:00<?, ?it/s]"
      ]
     },
     "metadata": {},
     "output_type": "display_data"
    },
    {
     "name": "stdout",
     "output_type": "stream",
     "text": [
      "MistralConfig {\n",
      "  \"architectures\": [\n",
      "    \"MistralForCausalLM\"\n",
      "  ],\n",
      "  \"attention_dropout\": 0.0,\n",
      "  \"bos_token_id\": 1,\n",
      "  \"eos_token_id\": 32000,\n",
      "  \"head_dim\": null,\n",
      "  \"hidden_act\": \"silu\",\n",
      "  \"hidden_size\": 4096,\n",
      "  \"initializer_range\": 0.02,\n",
      "  \"intermediate_size\": 14336,\n",
      "  \"max_position_embeddings\": 32768,\n",
      "  \"model_type\": \"mistral\",\n",
      "  \"num_attention_heads\": 32,\n",
      "  \"num_hidden_layers\": 32,\n",
      "  \"num_key_value_heads\": 8,\n",
      "  \"rms_norm_eps\": 1e-05,\n",
      "  \"rope_theta\": 10000.0,\n",
      "  \"sliding_window\": 4096,\n",
      "  \"tie_word_embeddings\": false,\n",
      "  \"torch_dtype\": \"float32\",\n",
      "  \"transformers_version\": \"4.55.2\",\n",
      "  \"use_cache\": false,\n",
      "  \"vocab_size\": 32002\n",
      "}\n",
      "\n"
     ]
    }
   ],
   "source": [
    "# Load tokenizer\n",
    "tokenizer = AutoTokenizer.from_pretrained(path_to_model)\n",
    "\n",
    "# Load model\n",
    "model = AutoModelForCausalLM.from_pretrained(\n",
    "    path_to_model,\n",
    "    device_map=\"auto\",\n",
    "    #quantization_config=quantization_config, # This is what you would need for the LLama3-70B (and similar) models\n",
    "    local_files_only=True,  # Prevent any re-downloads\n",
    "    #trust_remote_code=True # Necessary when downloading\n",
    ")\n",
    "\n",
    "# Verify model config\n",
    "print(model.config)"
   ]
  },
  {
   "cell_type": "code",
   "execution_count": 4,
   "id": "91d434e4-911e-44fb-b21d-10bc00bef193",
   "metadata": {},
   "outputs": [
    {
     "name": "stderr",
     "output_type": "stream",
     "text": [
      "Device set to use cuda:0\n"
     ]
    }
   ],
   "source": [
    "# Pipeline setup\n",
    "pipe = pipeline(\"text-generation\",\n",
    "                model=model,\n",
    "                tokenizer=tokenizer,\n",
    "                return_full_text=False,\n",
    "                max_new_tokens=256)\n",
    "llm = HuggingFacePipeline(pipeline=pipe)"
   ]
  },
  {
   "cell_type": "code",
   "execution_count": 5,
   "id": "f670afae-b70b-4782-9824-954540dd3ce0",
   "metadata": {},
   "outputs": [],
   "source": [
    "chat_llm = ChatHuggingFace(llm=llm)"
   ]
  },
  {
   "cell_type": "markdown",
   "id": "11e6bdc7-dddc-4115-8736-81c4182c1bcf",
   "metadata": {},
   "source": [
    "### SimpleSequentialChain\n",
    "\n",
    "The `SimpleSequentialChain` is the most basic form of a chain. It takes a single input, passes it to a prompt, and the output of one step is directly passed as input to the next. It does not track intermediate steps or provide access to named outputs, making it suitable for linear, single-purpose chains.\n",
    "\n",
    "Use case: quick linear pipelines like \"generate → explain\" or \"summarize → expand\"."
   ]
  },
  {
   "cell_type": "code",
   "execution_count": 6,
   "id": "d948c96f-2f90-4b4e-aeb4-9aff615b985d",
   "metadata": {},
   "outputs": [],
   "source": [
    "template1 = \"Give me a simple bullet point outline for a blog post on {topic}\"\n",
    "prompt1 = ChatPromptTemplate.from_template(template1)\n",
    "chain1 = prompt1|chat_llm\n",
    "\n",
    "template2 = \"Write a blog post using this outline: {outline}\"\n",
    "prompt2 = ChatPromptTemplate.from_template(template2)\n",
    "chain2 = prompt2|chat_llm"
   ]
  },
  {
   "cell_type": "code",
   "execution_count": 7,
   "id": "5c0151ca-c79d-41fa-8e6e-776bff075def",
   "metadata": {},
   "outputs": [],
   "source": [
    "full_chain = chain1|chain2"
   ]
  },
  {
   "cell_type": "code",
   "execution_count": 8,
   "id": "a27103ae-0602-416c-95af-476231cf160d",
   "metadata": {},
   "outputs": [
    {
     "name": "stdout",
     "output_type": "stream",
     "text": [
      "1. Introduction to Artificial Intelligence\n",
      "    a. Definition of Artificial Intelligence: Artificial Intelligence (AI) refers to the simulation of human intelligence in machines that are programmed to think and learn like humans. It enables systems to perform tasks that typically require human-like reasoning, problem-solving, perception, and decision-making abilities.\n",
      "    \n",
      "    b. Brief history of AI: The concept of AI dates back to the 1950s when John McCarthy coined the term \"artificial intelligence.\" Over the years, there have been several milestones in the development of AI, including the creation of the first AI program (Logic Theorist) in 1955, the development of expert systems in the 1970s, and the emergence of machine learning and deep learning techniques in the late 20th century.\n",
      "   \n",
      "    c. Current state of AI technology: Today, AI is becoming increasingly sophisticated and is being integrated into various aspects of our lives, from virtual assistants like Siri and Alexa to self-driving cars and advanced medical diagnostics. Advances in computing power, data storage, and algorithms have made it possible for AI to achieve remarkable results\n"
     ]
    }
   ],
   "source": [
    "result = full_chain.invoke(\"Artificial Intelligence\") # That piece of code takes quite some time to execute\n",
    "print(result.content)"
   ]
  },
  {
   "cell_type": "markdown",
   "id": "4f634a90-c37d-44eb-8b1b-a875115093fc",
   "metadata": {},
   "source": [
    "### SequentialChain\n",
    "\n",
    "`SequentialChain` is more flexible than `SimpleSequentialChain`. It supports multiple input and output variables and keeps track of intermediate outputs. Each step can depend on one or more outputs from earlier steps.\n",
    "\n",
    "Use case: more complex workflows that need to reuse or transform earlier outputs in later steps."
   ]
  },
  {
   "cell_type": "code",
   "execution_count": 9,
   "id": "43f51587-1fcd-4d60-8d4e-e1b4c61c9ce8",
   "metadata": {},
   "outputs": [],
   "source": [
    "template1 = \"Give a summary of this employee's performance review:\\n{review}\"\n",
    "prompt1 = ChatPromptTemplate.from_template(template1)\n",
    "chain_1 = prompt1|chat_llm"
   ]
  },
  {
   "cell_type": "code",
   "execution_count": 10,
   "id": "450ec48b-4e55-4385-924f-44552aa37046",
   "metadata": {},
   "outputs": [],
   "source": [
    "template2 = \"Identify key employee weaknesses in this review summary:\\n{review_summary}\"\n",
    "prompt2 = ChatPromptTemplate.from_template(template2)\n",
    "chain_2 = prompt2|chat_llm"
   ]
  },
  {
   "cell_type": "code",
   "execution_count": 11,
   "id": "4da913af-ba5a-4b89-966c-49e6d7358fa9",
   "metadata": {},
   "outputs": [],
   "source": [
    "template3 = \"Create a personalized plan to help address and fix these weaknesses:\\n{weaknesses}\"\n",
    "prompt3 = ChatPromptTemplate.from_template(template3)\n",
    "chain_3 = prompt3|chat_llm"
   ]
  },
  {
   "cell_type": "code",
   "execution_count": 12,
   "id": "99c23725-9cf9-4927-9f8d-df65bdee4d72",
   "metadata": {},
   "outputs": [],
   "source": [
    "# Create the prompts\n",
    "prompt1 = PromptTemplate(input_variables=[\"topic\"], template=\"Generate a question about {topic}.\")\n",
    "prompt2 = PromptTemplate(input_variables=[\"question\"], template=\"Provide a short answer to: {question}\")"
   ]
  },
  {
   "cell_type": "code",
   "execution_count": 15,
   "id": "cd366755-5fe6-4757-a4ae-81910167d68d",
   "metadata": {},
   "outputs": [],
   "source": [
    "seq_chain = chain_1|chain_2|chain_3"
   ]
  },
  {
   "cell_type": "code",
   "execution_count": 16,
   "id": "2804d37c-fad2-4325-9175-d94b56e3fc44",
   "metadata": {},
   "outputs": [],
   "source": [
    "employee_review = '''\n",
    "Employee Information:\n",
    "Name: Simeon Harrison\n",
    "Position: Machine Learning Engineer\n",
    "Date of Review: 10 March, 2025\n",
    "\n",
    "Strengths:\n",
    "Simeon is a highly skilled machine learning engineer with a deep understanding of programming languages, algorithms, and data science. His technical expertise shines through in his ability to efficiently solve complex problems and deliver high-quality code.\n",
    "\n",
    "One of Simeon's greatest strengths is his collaborative nature. He actively engages with cross-functional teams, contributing valuable insights and seeking input from others. His open-mindedness and willingness to learn from colleagues make him a true team player.\n",
    "\n",
    "Simeon consistently demonstrates initiative and self-motivation. He takes the lead in seeking out new projects and challenges, and his proactive attitude has led to significant improvements in existing processes and systems. His dedication to self-improvement and growth is commendable.\n",
    "\n",
    "Another notable strength is Simeon's teaching skills. He has shown great prowess in developing teaching materials and delivering high-end online courses. His adaptability allows him to seamlessly transition between different projects and tasks such as teaching, which makes him a valuable asset to the team.\n",
    "\n",
    "\n",
    "Weaknesses:\n",
    "While Simeon possesses numerous strengths, there are a few areas where he could benefit from improvement. One such area is time management. Occasionally, Simeon struggles with effectively managing his time, resulting in missed deadlines or the need for additional support to complete tasks on time, especially before delivering courses for the first time. Developing better prioritization and time management techniques would greatly enhance his efficiency.\n",
    "\n",
    "Another area for improvement is Simeon's written communication skills. He does not answer customer requests promptly, as he finds it difficult to focus on several tasks simultainiously. There were also instances where his written documentation lacked clarity, leading to confusion among team members. Focusing on enhancing his written communication abilities will help him effectively convey ideas and instructions.\n",
    "\n",
    "Additionally, Simeon tends to take on too many responsibilities and hesitates to delegate tasks to others. This can result in an excessive workload and potential burnout. Encouraging him to delegate tasks appropriately will not only alleviate his own workload but also foster a more balanced and productive team environment.\n",
    "'''"
   ]
  },
  {
   "cell_type": "code",
   "execution_count": 17,
   "id": "8afc5155-a8e9-457e-afdc-d9e89b8fdc18",
   "metadata": {},
   "outputs": [],
   "source": [
    "results = seq_chain.invoke(employee_review) # This too takes time to run"
   ]
  },
  {
   "cell_type": "code",
   "execution_count": 18,
   "id": "b1ba1328-ad9d-4909-b2dc-c9a537e05f93",
   "metadata": {},
   "outputs": [
    {
     "name": "stdout",
     "output_type": "stream",
     "text": [
      "The first step in addressing and fixing the identified weaknesses is to acknowledge them and develop a plan to overcome them. Here is a personalized plan for Simeon:\n",
      "\n",
      "1. Time management:\n",
      "\t* Start by analyzing how time is currently being spent and identify areas where time could be better utilized.\n",
      "\t* Set specific and achievable goals for task completion, and break down larger tasks into smaller, more manageable parts.\n",
      "\t* Use time tracking tools to monitor daily work hours and identify areas where time is being wasted. This will help Simeon learn to prioritize tasks effectively.\n",
      "\t* Learn and practice time management techniques such as the Pomodoro Technique, time blocking, or the Eisenhower Matrix to improve productivity.\n",
      "\t* Regularly review and adjust the plan to ensure continuous improvement.\n",
      "2. Written communication:\n",
      "\t* Enroll in a writing course or use online resources to learn and practice effective written communication skills.\n",
      "\t* Seek feedback from colleagues and management on written communication, and practice implementing suggestions for improvement.\n",
      "\t* Use clear and concise language, avoid jargon, and always double-check written documents for accuracy and completeness before sending them out.\n",
      "\t*\n"
     ]
    }
   ],
   "source": [
    "print(results.content)"
   ]
  },
  {
   "cell_type": "code",
   "execution_count": 19,
   "id": "59ff1bc7-5e9e-406b-b587-3a6993fb18d4",
   "metadata": {},
   "outputs": [
    {
     "name": "stdout",
     "output_type": "stream",
     "text": [
      "Simeon Harrison, a Machine Learning Engineer, was commended for his deep understanding of programming languages, algorithms, and data science, enabling him to solve complex problems and deliver high-quality code. He is also a team player who actively engages with cross-functional teams, learns from colleagues, and seeks out new projects and challenges. Simeon is skilled at teaching and developing teaching materials, making him a valuable asset to the team.\n",
      "\n",
      "However, Simeon needs to work on his time management skills, as he sometimes struggles with managing his time effectively, leading to missed deadlines. He is also advised to improve his written communication skills, particularly in terms of responding to customer requests and writing clear documentation. Lastly, Simeon should learn to delegate tasks appropriately to create a more balanced and productive team environment.\n"
     ]
    }
   ],
   "source": [
    "print(chain_1.invoke(employee_review).content)"
   ]
  },
  {
   "cell_type": "code",
   "execution_count": 20,
   "id": "951244ea-e077-4be0-9a84-a63a9a191b28",
   "metadata": {},
   "outputs": [
    {
     "name": "stdout",
     "output_type": "stream",
     "text": [
      "The key employee weaknesses identified in the summary are:\n",
      "\n",
      "1. Time management: Simeon struggles with managing his time effectively, resulting in missed deadlines and the need for additional support.\n",
      "2. Written communication skills: He does not promptly answer customer requests and his written documentation lacks clarity.\n",
      "3. Overloading himself with tasks: Simeon tends to take on too many responsibilities and hesitates to delegate tasks to others, leading to an excessive workload and potential burnout.\n"
     ]
    }
   ],
   "source": [
    "print((chain_1|chain_2).invoke(employee_review).content)"
   ]
  },
  {
   "cell_type": "code",
   "execution_count": 21,
   "id": "a7c12adb-5e93-48d0-978c-37eebd4745d9",
   "metadata": {},
   "outputs": [
    {
     "name": "stderr",
     "output_type": "stream",
     "text": [
      "You seem to be using the pipelines sequentially on GPU. In order to maximize efficiency please use a dataset\n"
     ]
    },
    {
     "name": "stdout",
     "output_type": "stream",
     "text": [
      "1. Time management: To address Simeon's weakness in time management, I recommend the following steps:\n",
      "\n",
      "a. Set daily, weekly, and monthly goals to stay organized and on track.\n",
      "b. Prioritize tasks according to their urgency and importance.\n",
      "c. Use a calendar or planner to schedule appointments, meetings, and personal commitments.\n",
      "d. Break down large tasks into smaller, manageable subtasks.\n",
      "e. Avoid multitasking and focus on one task at a time.\n",
      "f. Take short breaks throughout the day to recharge and maintain focus.\n",
      "g. Review progress and adjust priorities as needed.\n",
      "\n",
      "2. Written communication skills: To help Simeon improve his written communication abilities, I suggest:\n",
      "\n",
      "a. Enrolling in a writing course or workshop to learn best practices and techniques.\n",
      "b. Practicing writing regularly to enhance skills and build confidence.\n",
      "c. Seeking feedback from colleagues or supervisors on written work.\n",
      "d. Using clear and concise language to convey ideas and instructions.\n",
      "e. Avoiding jargon and using simple, straightforward vocabulary.\n",
      "f. Proofreading written work for errors and inconsistencies.\n",
      "\n"
     ]
    }
   ],
   "source": [
    "print((chain_1|chain_2|chain_3).invoke(employee_review).content)"
   ]
  },
  {
   "cell_type": "markdown",
   "id": "c070e46d-fcae-4a7f-8901-b192f1fc3017",
   "metadata": {},
   "source": [
    "### LLMRouterChain\n",
    "\n",
    "`LLMRouterChain` is used when you want to route a prompt to different chains or prompts depending on the input. It allows conditional execution paths, where an LLM can decide which destination (e.g., math, history, writing) to route a given input to based on predefined criteria or patterns.\n",
    "\n",
    "Use case: topic routing, multi-skill assistants, task-specific logic dispatching."
   ]
  },
  {
   "cell_type": "code",
   "execution_count": 22,
   "id": "40e8a6c3-d539-4ebe-afa5-328f10b9553a",
   "metadata": {},
   "outputs": [],
   "source": [
    "beginner_template = '''You are an elementary school teacher who is really\n",
    "focused on students in the age group of 6 to 10 and explain complex topics in easy to understand terms for the given age group. \n",
    "You assume no prior knowledge. Here is the question\\n{input}'''"
   ]
  },
  {
   "cell_type": "code",
   "execution_count": 23,
   "id": "b02fe171-626f-4afe-bbea-70b68a9f312b",
   "metadata": {},
   "outputs": [],
   "source": [
    "expert_template = '''You are a world expert physics professor who explains physics topics\n",
    "to advanced audience members. You can assume anyone you answer has a \n",
    "PhD level understanding of Physics. Here is the question\\n{input}'''"
   ]
  },
  {
   "cell_type": "code",
   "execution_count": 24,
   "id": "8a5644a9-6c82-4c05-95aa-0c65af01c2b7",
   "metadata": {},
   "outputs": [],
   "source": [
    "prompt_infos = [\n",
    "    {'name':'advanced physics','description': 'Answers advanced physics questions',\n",
    "     'prompt_template':expert_template},\n",
    "    {'name':'beginner physics','description': 'Answers basic beginner physics questions',\n",
    "     'prompt_template':beginner_template},\n",
    "]"
   ]
  },
  {
   "cell_type": "code",
   "execution_count": 25,
   "id": "595541d7-f244-4dcd-8f73-8c16cf602eb2",
   "metadata": {},
   "outputs": [
    {
     "name": "stderr",
     "output_type": "stream",
     "text": [
      "/leonardo/pub/userexternal/sharriso/conda_env_simeon25_9/lib/python3.11/site-packages/pydantic/main.py:253: LangChainDeprecationWarning: Please see the migration guide at: https://python.langchain.com/docs/versions/migrating_memory/\n",
      "  validated_self = self.__pydantic_validator__.validate_python(data, self_instance=self)\n"
     ]
    }
   ],
   "source": [
    "chain = MultiPromptChain.from_prompts(chat_llm, prompt_infos, verbose=True)"
   ]
  },
  {
   "cell_type": "code",
   "execution_count": 26,
   "id": "43191812-b695-418b-93de-64c27f44dcfc",
   "metadata": {},
   "outputs": [
    {
     "name": "stdout",
     "output_type": "stream",
     "text": [
      "\n",
      "\n",
      "\u001b[1m> Entering new MultiPromptChain chain...\u001b[0m\n",
      "beginner physics: {'input': 'What is Van der Waals force and how does it work?'}\n",
      "\u001b[1m> Finished chain.\u001b[0m\n",
      "Hello little buddies! Let me explain Van der Waals forces to you in a simple way. You know how magnets can attract or repel each other, right? Well, Van der Waals forces are like tiny, weaker magnetic forces that happen between molecules.\n",
      "\n",
      "Molecules are the tiny building blocks of everything around us, like the air we breathe, the water we drink, and even the stuff our toys are made of! Sometimes, these molecules like to be close to each other because they enjoy sharing little bits of energy. When they are close, they create a tiny attractive force, which we call Van der Waals force.\n",
      "\n",
      "Think of it like giving your friend a high-five, but instead of hands, we're talking about tiny particles that are so small we can't even see them! These high-fives help hold some materials together, like gases and liquids, because the molecules are not too far apart from each other.\n",
      "\n",
      "So, Van der Waals forces are like tiny, invisible high-fives that help molecules stick together, making some substances behave differently than we would expect based on their size alone. Pretty cool, huh?\n"
     ]
    }
   ],
   "source": [
    "print(chain.invoke(\"How does the Van der Waals force work?\")['text'])"
   ]
  },
  {
   "cell_type": "code",
   "execution_count": 27,
   "id": "62426eba-3b5a-44da-ae94-589dd9827f69",
   "metadata": {},
   "outputs": [
    {
     "name": "stdout",
     "output_type": "stream",
     "text": [
      "\n",
      "\n",
      "\u001b[1m> Entering new MultiPromptChain chain...\u001b[0m\n",
      "advanced physics: {'input': 'How do Feynman Diagrams work? (advanced explanation)'}\n",
      "\u001b[1m> Finished chain.\u001b[0m\n",
      "Feynman diagrams are a graphical representation of the mathematical formalism used to describe quantum mechanics and the interactions of subatomic particles. They were developed by physicist Richard Feynman and first introduced in the early 1940s.\n",
      "\n",
      "In a more advanced context, Feynman diagrams are used to visualize the interactions between particles in quantum field theory (QFT) and quantum electrodynamics (QED). They help us understand how particles can interact with each other through the exchange of particles called bosons, which carry the fundamental forces of nature.\n",
      "\n",
      "Each line in a Feynman diagram represents a particle, while the vertices (corners) represent interactions between particles. The direction of the line indicates the momentum of the particle, and the arrows show its spin. The numbers written in the diagram indicate the types of particles involved in the interaction and the statistical factors associated with the interaction.\n",
      "\n",
      "The calculation of the probabilities of these interactions is done using an integral called the Feynman integral, which involves summing over all possible histories of the particles. The diagrams provide a visual representation of these integrals, making it easier to calculate and understand the results.\n",
      "\n",
      "Furthermore, Fe\n"
     ]
    }
   ],
   "source": [
    "print(chain.invoke(\"How do Feynman Diagrams work?\")['text'])"
   ]
  },
  {
   "cell_type": "code",
   "execution_count": 28,
   "id": "9cdfb8c0-2a59-43c0-8ef7-f15d938b993d",
   "metadata": {},
   "outputs": [
    {
     "name": "stdout",
     "output_type": "stream",
     "text": [
      "\n",
      "\n",
      "\u001b[1m> Entering new MultiPromptChain chain...\u001b[0m\n",
      "beginner physics: {'input': 'How high could an astronaut jump on the moon?'}\n",
      "\u001b[1m> Finished chain.\u001b[0m\n",
      "On the moon, an astronaut could jump much higher than on Earth! That's because there's less gravity on the moon. On Earth, gravity pulls us down with a force of about 9.8 meters per second squared. On the moon, the gravity is only about 1/6th of Earth's gravity.\n",
      "\n",
      "So, if an astronaut could jump really high on Earth (let's say, 1 meter), they could jump about 6 times higher on the moon! That means they could jump about 6 meters high. Isn't that amazing? 🚀🔭\n"
     ]
    }
   ],
   "source": [
    "print(chain.invoke(\"How high can an astronaut jump on the moon?\")['text'])"
   ]
  },
  {
   "cell_type": "markdown",
   "id": "5a5c50df-480c-40ca-86b2-e0658ea23c2d",
   "metadata": {},
   "source": [
    "### TransformChain\n",
    "\n",
    "`TransformChain` allows you to insert arbitrary Python logic into a LangChain pipeline. It lets you define a transformation function that takes in inputs and returns a modified dictionary of outputs. This is useful for pre- or post-processing data before or after it passes through a model or another chain.\n",
    "\n",
    "Use case: text normalization, formatting, filtering, or enrichment between model steps."
   ]
  },
  {
   "cell_type": "code",
   "execution_count": 29,
   "id": "cc9def90-4a6c-4d2e-9089-b8ae58d60894",
   "metadata": {},
   "outputs": [],
   "source": [
    "# Define a simple transformation function\n",
    "def uppercase_fn(inputs: dict) -> dict:\n",
    "    return {\"output\": inputs[\"text\"].upper()}\n",
    "\n",
    "transform_chain = TransformChain(input_variables=[\"text\"], output_variables=[\"output\"], transform=uppercase_fn)"
   ]
  },
  {
   "cell_type": "code",
   "execution_count": 31,
   "id": "cea099d7-a867-410a-880c-1636c1b2feb1",
   "metadata": {},
   "outputs": [
    {
     "name": "stdout",
     "output_type": "stream",
     "text": [
      "TransformChain output: {'text': 'this should be uppercase', 'output': 'THIS SHOULD BE UPPERCASE'}\n"
     ]
    }
   ],
   "source": [
    "# Run it\n",
    "output = transform_chain.invoke({\"text\": \"this should be uppercase\"})\n",
    "print(\"TransformChain output:\", output)"
   ]
  },
  {
   "cell_type": "markdown",
   "id": "1a16ecd8-5858-44c0-895e-fb2afd5e4c21",
   "metadata": {},
   "source": [
    "### MathChain\n",
    "LangChain's MathChain is a specialized chain used to evaluate or solve math-related prompts, especially those involving multi-step reasoning or intermediate calculations. It's part of LangChain’s approach to tool-augmented reasoning, where LLMs use helper functions (like a calculator) to improve accuracy.\n",
    "\n",
    "It does so by:\n",
    "\n",
    " - Having the LLM generate a math expression or plan\n",
    "\n",
    " - Using a Python REPL tool (or custom calculator tool) to actually compute the result\n",
    "\n",
    " - Returning the final result in a structured way\n",
    "\n",
    "It's especially useful for:\n",
    "\n",
    " - Word problems\n",
    "\n",
    " - Problems involving arithmetic, algebra, or logic\n",
    "\n",
    " - Cases where hallucination of numbers is problematic"
   ]
  },
  {
   "cell_type": "code",
   "execution_count": 32,
   "id": "ba5683f4-8000-45ca-8bf0-eaff33b801c5",
   "metadata": {},
   "outputs": [],
   "source": [
    "# pip install numexpr"
   ]
  },
  {
   "cell_type": "code",
   "execution_count": 6,
   "id": "5faf8ffb-6164-42cd-8f13-11cd4abb4e1a",
   "metadata": {},
   "outputs": [
    {
     "name": "stdout",
     "output_type": "stream",
     "text": [
      "{'question': 'If a train travels 60 km in 1.5 hours, what is its average speed?', 'answer': 'Answer: 40.0'}\n"
     ]
    }
   ],
   "source": [
    "# Initialize the math chain\n",
    "math_chain = LLMMathChain.from_llm(llm=llm)\n",
    "\n",
    "# Run a word problem\n",
    "result = math_chain.invoke(\"If a train travels 60 km in 1.5 hours, what is its average speed?\")\n",
    "print(result)"
   ]
  },
  {
   "cell_type": "code",
   "execution_count": 10,
   "id": "a6604d53-3426-4b38-a1b7-898ea5ab27ae",
   "metadata": {},
   "outputs": [
    {
     "name": "stdout",
     "output_type": "stream",
     "text": [
      "{'question': 'A football is kicked from the ground and reaches its maximum hight of 5m in 10m horizontal distance from where it was kicked. How far from the kicking point will it land, assuming there is not air resistance and it flies in a perfectly parabolic arc?', 'answer': 'Answer: 11.180339887498949'}\n"
     ]
    }
   ],
   "source": [
    "# Run a word problem that breaks it\n",
    "result = math_chain.invoke(\"A football is kicked from the ground and reaches its maximum hight of 5m in 10m horizontal distance from where it was kicked. How far from the kicking point will it land, assuming there is not air resistance and it flies in a perfectly parabolic arc?\")\n",
    "print(result)"
   ]
  },
  {
   "cell_type": "code",
   "execution_count": 8,
   "id": "2d7e2633-00e3-44e5-a8d2-4ba49a5693e7",
   "metadata": {},
   "outputs": [
    {
     "ename": "ValueError",
     "evalue": "LLMMathChain._evaluate(\"\nimport numpy as np\nimport numexpr as ne\n\n# Solve for x\nx = np.roots([1, 1, -2])\n\") raised error: Expression import numpy as np\nimport numexpr as ne\n\n# Solve for x\nx = np.roots([1, 1, -2]) has forbidden control characters.. Please try again with a valid numerical expression",
     "output_type": "error",
     "traceback": [
      "\u001b[31m---------------------------------------------------------------------------\u001b[39m",
      "\u001b[31mValueError\u001b[39m                                Traceback (most recent call last)",
      "\u001b[36mFile \u001b[39m\u001b[32m/leonardo/pub/userexternal/sharriso/conda_env_simeon25_10/lib/python3.11/site-packages/langchain/chains/llm_math/base.py:209\u001b[39m, in \u001b[36mLLMMathChain._evaluate_expression\u001b[39m\u001b[34m(self, expression)\u001b[39m\n\u001b[32m    207\u001b[39m     local_dict = {\u001b[33m\"\u001b[39m\u001b[33mpi\u001b[39m\u001b[33m\"\u001b[39m: math.pi, \u001b[33m\"\u001b[39m\u001b[33me\u001b[39m\u001b[33m\"\u001b[39m: math.e}\n\u001b[32m    208\u001b[39m     output = \u001b[38;5;28mstr\u001b[39m(\n\u001b[32m--> \u001b[39m\u001b[32m209\u001b[39m         \u001b[43mnumexpr\u001b[49m\u001b[43m.\u001b[49m\u001b[43mevaluate\u001b[49m\u001b[43m(\u001b[49m\n\u001b[32m    210\u001b[39m \u001b[43m            \u001b[49m\u001b[43mexpression\u001b[49m\u001b[43m.\u001b[49m\u001b[43mstrip\u001b[49m\u001b[43m(\u001b[49m\u001b[43m)\u001b[49m\u001b[43m,\u001b[49m\n\u001b[32m    211\u001b[39m \u001b[43m            \u001b[49m\u001b[43mglobal_dict\u001b[49m\u001b[43m=\u001b[49m\u001b[43m{\u001b[49m\u001b[43m}\u001b[49m\u001b[43m,\u001b[49m\u001b[43m  \u001b[49m\u001b[38;5;66;43;03m# restrict access to globals\u001b[39;49;00m\n\u001b[32m    212\u001b[39m \u001b[43m            \u001b[49m\u001b[43mlocal_dict\u001b[49m\u001b[43m=\u001b[49m\u001b[43mlocal_dict\u001b[49m\u001b[43m,\u001b[49m\u001b[43m  \u001b[49m\u001b[38;5;66;43;03m# add common mathematical functions\u001b[39;49;00m\n\u001b[32m    213\u001b[39m \u001b[43m        \u001b[49m\u001b[43m)\u001b[49m,\n\u001b[32m    214\u001b[39m     )\n\u001b[32m    215\u001b[39m \u001b[38;5;28;01mexcept\u001b[39;00m \u001b[38;5;167;01mException\u001b[39;00m \u001b[38;5;28;01mas\u001b[39;00m e:\n",
      "\u001b[36mFile \u001b[39m\u001b[32m/leonardo/pub/userexternal/sharriso/conda_env_simeon25_10/lib/python3.11/site-packages/numexpr/necompiler.py:978\u001b[39m, in \u001b[36mevaluate\u001b[39m\u001b[34m(ex, local_dict, global_dict, out, order, casting, sanitize, _frame_depth, **kwargs)\u001b[39m\n\u001b[32m    977\u001b[39m \u001b[38;5;28;01melse\u001b[39;00m:\n\u001b[32m--> \u001b[39m\u001b[32m978\u001b[39m     \u001b[38;5;28;01mraise\u001b[39;00m e\n",
      "\u001b[36mFile \u001b[39m\u001b[32m/leonardo/pub/userexternal/sharriso/conda_env_simeon25_10/lib/python3.11/site-packages/numexpr/necompiler.py:881\u001b[39m, in \u001b[36mvalidate\u001b[39m\u001b[34m(ex, local_dict, global_dict, out, order, casting, _frame_depth, sanitize, **kwargs)\u001b[39m\n\u001b[32m    880\u001b[39m \u001b[38;5;28;01mif\u001b[39;00m expr_key \u001b[38;5;129;01mnot\u001b[39;00m \u001b[38;5;129;01min\u001b[39;00m _names_cache.c:\n\u001b[32m--> \u001b[39m\u001b[32m881\u001b[39m     _names_cache.c[expr_key] = \u001b[43mgetExprNames\u001b[49m\u001b[43m(\u001b[49m\u001b[43mex\u001b[49m\u001b[43m,\u001b[49m\u001b[43m \u001b[49m\u001b[43mcontext\u001b[49m\u001b[43m,\u001b[49m\u001b[43m \u001b[49m\u001b[43msanitize\u001b[49m\u001b[43m=\u001b[49m\u001b[43msanitize\u001b[49m\u001b[43m)\u001b[49m\n\u001b[32m    882\u001b[39m names, ex_uses_vml = _names_cache.c[expr_key]\n",
      "\u001b[36mFile \u001b[39m\u001b[32m/leonardo/pub/userexternal/sharriso/conda_env_simeon25_10/lib/python3.11/site-packages/numexpr/necompiler.py:724\u001b[39m, in \u001b[36mgetExprNames\u001b[39m\u001b[34m(text, context, sanitize)\u001b[39m\n\u001b[32m    723\u001b[39m \u001b[38;5;28;01mdef\u001b[39;00m\u001b[38;5;250m \u001b[39m\u001b[34mgetExprNames\u001b[39m(text, context, sanitize: \u001b[38;5;28mbool\u001b[39m=\u001b[38;5;28;01mTrue\u001b[39;00m):\n\u001b[32m--> \u001b[39m\u001b[32m724\u001b[39m     ex = \u001b[43mstringToExpression\u001b[49m\u001b[43m(\u001b[49m\u001b[43mtext\u001b[49m\u001b[43m,\u001b[49m\u001b[43m \u001b[49m\u001b[43m{\u001b[49m\u001b[43m}\u001b[49m\u001b[43m,\u001b[49m\u001b[43m \u001b[49m\u001b[43mcontext\u001b[49m\u001b[43m,\u001b[49m\u001b[43m \u001b[49m\u001b[43msanitize\u001b[49m\u001b[43m)\u001b[49m\n\u001b[32m    725\u001b[39m     ast = expressionToAST(ex)\n",
      "\u001b[36mFile \u001b[39m\u001b[32m/leonardo/pub/userexternal/sharriso/conda_env_simeon25_10/lib/python3.11/site-packages/numexpr/necompiler.py:284\u001b[39m, in \u001b[36mstringToExpression\u001b[39m\u001b[34m(s, types, context, sanitize)\u001b[39m\n\u001b[32m    283\u001b[39m     \u001b[38;5;28;01mif\u001b[39;00m _blacklist_re.search(skip_quotes) \u001b[38;5;129;01mis\u001b[39;00m \u001b[38;5;129;01mnot\u001b[39;00m \u001b[38;5;28;01mNone\u001b[39;00m:\n\u001b[32m--> \u001b[39m\u001b[32m284\u001b[39m         \u001b[38;5;28;01mraise\u001b[39;00m \u001b[38;5;167;01mValueError\u001b[39;00m(\u001b[33mf\u001b[39m\u001b[33m'\u001b[39m\u001b[33mExpression \u001b[39m\u001b[38;5;132;01m{\u001b[39;00ms\u001b[38;5;132;01m}\u001b[39;00m\u001b[33m has forbidden control characters.\u001b[39m\u001b[33m'\u001b[39m)\n\u001b[32m    286\u001b[39m old_ctx = expressions._context.get_current_context()\n",
      "\u001b[31mValueError\u001b[39m: Expression import numpy as np\nimport numexpr as ne\n\n# Solve for x\nx = np.roots([1, 1, -2]) has forbidden control characters.",
      "\nThe above exception was the direct cause of the following exception:\n",
      "\u001b[31mValueError\u001b[39m                                Traceback (most recent call last)",
      "\u001b[36mCell\u001b[39m\u001b[36m \u001b[39m\u001b[32mIn[8]\u001b[39m\u001b[32m, line 2\u001b[39m\n\u001b[32m      1\u001b[39m \u001b[38;5;66;03m# Running an algebra problem does not work\u001b[39;00m\n\u001b[32m----> \u001b[39m\u001b[32m2\u001b[39m result = \u001b[43mmath_chain\u001b[49m\u001b[43m.\u001b[49m\u001b[43minvoke\u001b[49m\u001b[43m(\u001b[49m\u001b[33;43m\"\u001b[39;49m\u001b[33;43mCan you solve the following equation for x? x^2 + x - 2 = 0\u001b[39;49m\u001b[33;43m\"\u001b[39;49m\u001b[43m)\u001b[49m\n\u001b[32m      3\u001b[39m \u001b[38;5;28mprint\u001b[39m(result)\n",
      "\u001b[36mFile \u001b[39m\u001b[32m/leonardo/pub/userexternal/sharriso/conda_env_simeon25_10/lib/python3.11/site-packages/langchain/chains/base.py:165\u001b[39m, in \u001b[36mChain.invoke\u001b[39m\u001b[34m(self, input, config, **kwargs)\u001b[39m\n\u001b[32m    162\u001b[39m \u001b[38;5;28;01mtry\u001b[39;00m:\n\u001b[32m    163\u001b[39m     \u001b[38;5;28mself\u001b[39m._validate_inputs(inputs)\n\u001b[32m    164\u001b[39m     outputs = (\n\u001b[32m--> \u001b[39m\u001b[32m165\u001b[39m         \u001b[38;5;28;43mself\u001b[39;49m\u001b[43m.\u001b[49m\u001b[43m_call\u001b[49m\u001b[43m(\u001b[49m\u001b[43minputs\u001b[49m\u001b[43m,\u001b[49m\u001b[43m \u001b[49m\u001b[43mrun_manager\u001b[49m\u001b[43m=\u001b[49m\u001b[43mrun_manager\u001b[49m\u001b[43m)\u001b[49m\n\u001b[32m    166\u001b[39m         \u001b[38;5;28;01mif\u001b[39;00m new_arg_supported\n\u001b[32m    167\u001b[39m         \u001b[38;5;28;01melse\u001b[39;00m \u001b[38;5;28mself\u001b[39m._call(inputs)\n\u001b[32m    168\u001b[39m     )\n\u001b[32m    170\u001b[39m     final_outputs: \u001b[38;5;28mdict\u001b[39m[\u001b[38;5;28mstr\u001b[39m, Any] = \u001b[38;5;28mself\u001b[39m.prep_outputs(\n\u001b[32m    171\u001b[39m         inputs,\n\u001b[32m    172\u001b[39m         outputs,\n\u001b[32m    173\u001b[39m         return_only_outputs,\n\u001b[32m    174\u001b[39m     )\n\u001b[32m    175\u001b[39m \u001b[38;5;28;01mexcept\u001b[39;00m \u001b[38;5;167;01mBaseException\u001b[39;00m \u001b[38;5;28;01mas\u001b[39;00m e:\n",
      "\u001b[36mFile \u001b[39m\u001b[32m/leonardo/pub/userexternal/sharriso/conda_env_simeon25_10/lib/python3.11/site-packages/langchain/chains/llm_math/base.py:283\u001b[39m, in \u001b[36mLLMMathChain._call\u001b[39m\u001b[34m(self, inputs, run_manager)\u001b[39m\n\u001b[32m    277\u001b[39m _run_manager.on_text(inputs[\u001b[38;5;28mself\u001b[39m.input_key])\n\u001b[32m    278\u001b[39m llm_output = \u001b[38;5;28mself\u001b[39m.llm_chain.predict(\n\u001b[32m    279\u001b[39m     question=inputs[\u001b[38;5;28mself\u001b[39m.input_key],\n\u001b[32m    280\u001b[39m     stop=[\u001b[33m\"\u001b[39m\u001b[33m```output\u001b[39m\u001b[33m\"\u001b[39m],\n\u001b[32m    281\u001b[39m     callbacks=_run_manager.get_child(),\n\u001b[32m    282\u001b[39m )\n\u001b[32m--> \u001b[39m\u001b[32m283\u001b[39m \u001b[38;5;28;01mreturn\u001b[39;00m \u001b[38;5;28;43mself\u001b[39;49m\u001b[43m.\u001b[49m\u001b[43m_process_llm_result\u001b[49m\u001b[43m(\u001b[49m\u001b[43mllm_output\u001b[49m\u001b[43m,\u001b[49m\u001b[43m \u001b[49m\u001b[43m_run_manager\u001b[49m\u001b[43m)\u001b[49m\n",
      "\u001b[36mFile \u001b[39m\u001b[32m/leonardo/pub/userexternal/sharriso/conda_env_simeon25_10/lib/python3.11/site-packages/langchain/chains/llm_math/base.py:235\u001b[39m, in \u001b[36mLLMMathChain._process_llm_result\u001b[39m\u001b[34m(self, llm_output, run_manager)\u001b[39m\n\u001b[32m    233\u001b[39m \u001b[38;5;28;01mif\u001b[39;00m text_match:\n\u001b[32m    234\u001b[39m     expression = text_match.group(\u001b[32m1\u001b[39m)\n\u001b[32m--> \u001b[39m\u001b[32m235\u001b[39m     output = \u001b[38;5;28;43mself\u001b[39;49m\u001b[43m.\u001b[49m\u001b[43m_evaluate_expression\u001b[49m\u001b[43m(\u001b[49m\u001b[43mexpression\u001b[49m\u001b[43m)\u001b[49m\n\u001b[32m    236\u001b[39m     run_manager.on_text(\u001b[33m\"\u001b[39m\u001b[38;5;130;01m\\n\u001b[39;00m\u001b[33mAnswer: \u001b[39m\u001b[33m\"\u001b[39m, verbose=\u001b[38;5;28mself\u001b[39m.verbose)\n\u001b[32m    237\u001b[39m     run_manager.on_text(output, color=\u001b[33m\"\u001b[39m\u001b[33myellow\u001b[39m\u001b[33m\"\u001b[39m, verbose=\u001b[38;5;28mself\u001b[39m.verbose)\n",
      "\u001b[36mFile \u001b[39m\u001b[32m/leonardo/pub/userexternal/sharriso/conda_env_simeon25_10/lib/python3.11/site-packages/langchain/chains/llm_math/base.py:220\u001b[39m, in \u001b[36mLLMMathChain._evaluate_expression\u001b[39m\u001b[34m(self, expression)\u001b[39m\n\u001b[32m    215\u001b[39m \u001b[38;5;28;01mexcept\u001b[39;00m \u001b[38;5;167;01mException\u001b[39;00m \u001b[38;5;28;01mas\u001b[39;00m e:\n\u001b[32m    216\u001b[39m     msg = (\n\u001b[32m    217\u001b[39m         \u001b[33mf\u001b[39m\u001b[33m'\u001b[39m\u001b[33mLLMMathChain._evaluate(\u001b[39m\u001b[33m\"\u001b[39m\u001b[38;5;132;01m{\u001b[39;00mexpression\u001b[38;5;132;01m}\u001b[39;00m\u001b[33m\"\u001b[39m\u001b[33m) raised error: \u001b[39m\u001b[38;5;132;01m{\u001b[39;00me\u001b[38;5;132;01m}\u001b[39;00m\u001b[33m.\u001b[39m\u001b[33m'\u001b[39m\n\u001b[32m    218\u001b[39m         \u001b[33m\"\u001b[39m\u001b[33m Please try again with a valid numerical expression\u001b[39m\u001b[33m\"\u001b[39m\n\u001b[32m    219\u001b[39m     )\n\u001b[32m--> \u001b[39m\u001b[32m220\u001b[39m     \u001b[38;5;28;01mraise\u001b[39;00m \u001b[38;5;167;01mValueError\u001b[39;00m(msg) \u001b[38;5;28;01mfrom\u001b[39;00m\u001b[38;5;250m \u001b[39m\u001b[34;01me\u001b[39;00m\n\u001b[32m    222\u001b[39m \u001b[38;5;66;03m# Remove any leading and trailing brackets from the output\u001b[39;00m\n\u001b[32m    223\u001b[39m \u001b[38;5;28;01mreturn\u001b[39;00m re.sub(\u001b[33mr\u001b[39m\u001b[33m\"\u001b[39m\u001b[33m^\u001b[39m\u001b[33m\\\u001b[39m\u001b[33m[|\u001b[39m\u001b[33m\\\u001b[39m\u001b[33m]$\u001b[39m\u001b[33m\"\u001b[39m, \u001b[33m\"\u001b[39m\u001b[33m\"\u001b[39m, output)\n",
      "\u001b[31mValueError\u001b[39m: LLMMathChain._evaluate(\"\nimport numpy as np\nimport numexpr as ne\n\n# Solve for x\nx = np.roots([1, 1, -2])\n\") raised error: Expression import numpy as np\nimport numexpr as ne\n\n# Solve for x\nx = np.roots([1, 1, -2]) has forbidden control characters.. Please try again with a valid numerical expression"
     ]
    }
   ],
   "source": [
    "# Running an algebra problem does not work\n",
    "result = math_chain.invoke(\"Can you solve the following equation for x? x^2 + x - 2 = 0\")\n",
    "print(result)"
   ]
  },
  {
   "cell_type": "markdown",
   "id": "42eb306f-c1a1-409d-9c55-6871b9e95a86",
   "metadata": {},
   "source": [
    "### Applying Chains\n",
    "**Task decomposition** (or \"dividing labor\") is a key concept in prompt engineering and chain design.\n",
    "\n",
    "It involves the technique of:\n",
    "\n",
    " - Breaking down a complex task into smaller, manageable sub-tasks\n",
    "\n",
    " - Solving them step-by-step, and optionally recombining the results\n",
    "\n",
    "This leads to:\n",
    "\n",
    " - Better accuracy\n",
    "\n",
    " - Clearer LLM reasoning\n",
    "\n",
    " - Easier chaining of logic\n",
    "\n",
    "---\n",
    "\n",
    "Take for example this task: “Write a summary of the main arguments in this article, and list 3 questions the reader should consider.”\n",
    "\n",
    "We break it down into two steps:\n",
    "1. Summarize the text\n",
    "\n",
    "2. Generate reflective questions based on the summary\n",
    "\n"
   ]
  },
  {
   "cell_type": "code",
   "execution_count": 34,
   "id": "5ac35797-9a8c-4e9d-9e99-4e7699b2e5a3",
   "metadata": {},
   "outputs": [],
   "source": [
    "# Summarization Prompt\n",
    "summarize_prompt = PromptTemplate.from_template(\n",
    "    \"Summarize the main arguments of the following article:\\n\\n{article}\"\n",
    ")"
   ]
  },
  {
   "cell_type": "code",
   "execution_count": 35,
   "id": "6c26ad14-0dc8-4d5f-b992-d7aca464530a",
   "metadata": {},
   "outputs": [],
   "source": [
    "# Reflection Prompt\n",
    "question_prompt = PromptTemplate.from_template(\n",
    "    \"Based on the following summary, list 3 important questions the reader should consider:\\n\\n{summary}\"\n",
    ")"
   ]
  },
  {
   "cell_type": "code",
   "execution_count": 36,
   "id": "043bcc5f-ef16-4b36-9a45-e0c60ca15866",
   "metadata": {},
   "outputs": [],
   "source": [
    "# Compose chains using the pipe syntax\n",
    "summarize_chain = summarize_prompt | llm\n",
    "question_chain = question_prompt | llm"
   ]
  },
  {
   "cell_type": "code",
   "execution_count": 37,
   "id": "04e23310-e936-44a9-ac0a-6eaa928eb67e",
   "metadata": {},
   "outputs": [],
   "source": [
    "# Input text\n",
    "article_text = (\n",
    "    \"The demand for AI skills has exploded in recent years, and it’s likely to continue as more and more businesses embrace artificial intelligence solutions.\"\n",
    "    \"The number of employers looking for AI-literate employees quadrupled between 2010 and 2019, and AI skills are becoming essential across a wide range of industries, making them a valuable asset for advancing your career and staying competitive in a rapidly evolving job market.\"\n",
    "    \"AI-related jobs typically pay 11% more than non-AI roles within the same company.\"\n",
    "    \"Skills with AI are particularly useful if you plan to work in the information, professional services, administrative, or finance sectors.\"\n",
    "    \"AI adoption offers several potential benefits. It helps automate repetitive processes like data entry to improve operational efficiency.\"\n",
    "    \"AI can also process and analyze large data sets rapidly, enabling it to identify patterns and make reasoned predictions to aid robust decision-making.\"\n",
    "    \"For some businesses, using tools such as call bots and chatbots helps streamline customer interactions to boost engagement and satisfaction.\"\n",
    "    \"Numerous businesses have used AI to improve customer experiences and drive growth. For example, J.P. Morgan and Chase developed the award-winning OmniAI platform to deliver accurate financial insights.\"\n",
    "    \"The model can perform deep, comprehensive analyses of vast data sets, reducing operational costs and enabling faster solution development.\"\n",
    "    \"AI has the potential to automate non-routine tasks and solve some of the world’s most complex problems.\"\n",
    "    \"For example, AI technologies can model climate change predictions, improve energy grid efficiency, and even help you reduce your household energy consumption through smart home heating systems.\"\n",
    "    \"Other applications include analyzing data during clinical trials and optimizing journeys to reduce the load on transport infrastructure.\"\n",
    "    \"However, calculating the impact of AI on global challenges is complex, and even seemingly perfect solutions can have unintended outcomes.\"\n",
    "    \"For instance, improving your home’s efficiency may encourage you to spend more time in your perfectly heated house, increasing your use of energy-hungry appliances.\"\n",
    "    \"Accounting for unforeseen effects is just one potential pitfall of relying on AI.\"\n",
    "    \"Poor data protection practices increase the risk of privacy violations, while training models on biased data could lead to discrimination.\"\n",
    "    \"This is why ethical practices are essential for responsible AI development.\"\n",
    ")"
   ]
  },
  {
   "cell_type": "code",
   "execution_count": 38,
   "id": "ad6b81b5-1976-4bd3-9538-a191a7da78f2",
   "metadata": {},
   "outputs": [],
   "source": [
    "# Step-by-step execution\n",
    "summary = summarize_chain.invoke({\"article\": article_text})\n",
    "questions = question_chain.invoke({\"summary\": summary})"
   ]
  },
  {
   "cell_type": "code",
   "execution_count": 39,
   "id": "68abc74d-9757-4675-b0d3-9d5db6a3c4b2",
   "metadata": {},
   "outputs": [
    {
     "name": "stdout",
     "output_type": "stream",
     "text": [
      "Summary:\n",
      " Finally, AI is often portrayed as a threat to jobs. Still, its use can also create new career opportunities, and there’s a growing demand for data scientists and engineers proficient in AI.\n",
      "\n",
      "Article: https://www.forbes.com/sites/forbestechcouncil/2021/04/20/the-business-value-of-artificial-intelligence/?sh=6b4f4eae4bca\n",
      "\n",
      "Summary:\n",
      "\n",
      "The demand for AI skills has increased significantly over the years. AI skills are essential for various industries, and possessing these skills can lead to better job opportunities and increased salaries. AI adoption offers several benefits such as automating repetitive processes, processing large data sets, and improving decision-making. AI has numerous applications, from improving customer experiences to solving complex global problems. However, it is essential to practice responsible AI development to avoid unintended outcomes and privacy violations. AI also creates new career opportunities, such as data scientists and engineers.\n",
      "\n",
      "Reflective Questions:\n",
      " \n",
      "\n",
      "Important Questions:\n",
      "\n",
      "1. How can individuals gain the necessary AI skills to take advantage of the growing demand for AI-proficient professionals?\n",
      "2. What are some examples of industries where AI skills are essential, and how does AI benefit these industries?\n",
      "3. What steps can businesses take to ensure that their AI development is responsible and avoids unintended consequences or privacy violations?\n"
     ]
    }
   ],
   "source": [
    "# Output\n",
    "print(\"Summary:\\n\", summary)\n",
    "print(\"\\nReflective Questions:\\n\", questions)"
   ]
  },
  {
   "cell_type": "code",
   "execution_count": null,
   "id": "16d1d7d5-cc40-4285-b03f-d8cd55221a4c",
   "metadata": {},
   "outputs": [],
   "source": []
  }
 ],
 "metadata": {
  "kernelspec": {
   "display_name": "Python 3 (ipykernel)",
   "language": "python",
   "name": "python3"
  },
  "language_info": {
   "codemirror_mode": {
    "name": "ipython",
    "version": 3
   },
   "file_extension": ".py",
   "mimetype": "text/x-python",
   "name": "python",
   "nbconvert_exporter": "python",
   "pygments_lexer": "ipython3",
   "version": "3.11.13"
  }
 },
 "nbformat": 4,
 "nbformat_minor": 5
}
